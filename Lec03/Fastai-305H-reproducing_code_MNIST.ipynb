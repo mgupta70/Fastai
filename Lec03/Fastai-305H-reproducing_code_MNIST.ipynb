{
 "cells": [
  {
   "cell_type": "code",
   "execution_count": 1,
   "id": "59dcb64a",
   "metadata": {},
   "outputs": [],
   "source": [
    "from fastai.vision.all import *"
   ]
  },
  {
   "cell_type": "code",
   "execution_count": 2,
   "id": "1047b3fc",
   "metadata": {},
   "outputs": [],
   "source": [
    "# Load Dataset"
   ]
  },
  {
   "cell_type": "code",
   "execution_count": 3,
   "id": "3d002dd5",
   "metadata": {},
   "outputs": [
    {
     "name": "stdout",
     "output_type": "stream",
     "text": [
      "C:\\Users\\mgupta70.ASURITE\\.fastai\\data\\mnist_sample\n",
      "[Path('C:/Users/mgupta70.ASURITE/.fastai/data/mnist_sample/labels.csv'), Path('C:/Users/mgupta70.ASURITE/.fastai/data/mnist_sample/train'), Path('C:/Users/mgupta70.ASURITE/.fastai/data/mnist_sample/valid')]\n"
     ]
    }
   ],
   "source": [
    "path = untar_data(URLs.MNIST_SAMPLE)\n",
    "print(path)\n",
    "print(path.ls())"
   ]
  },
  {
   "cell_type": "code",
   "execution_count": 4,
   "id": "b599fee0",
   "metadata": {},
   "outputs": [],
   "source": [
    "# Above paths are not readable easily and looks big. Let's modify it to easily handle them"
   ]
  },
  {
   "cell_type": "code",
   "execution_count": 7,
   "id": "2e766084",
   "metadata": {},
   "outputs": [
    {
     "name": "stdout",
     "output_type": "stream",
     "text": [
      "C:\\Users\\mgupta70.ASURITE\\.fastai\\data\\mnist_sample\n",
      "[Path('labels.csv'), Path('train'), Path('valid')]\n"
     ]
    },
    {
     "data": {
      "text/plain": [
       "Path('.')"
      ]
     },
     "execution_count": 7,
     "metadata": {},
     "output_type": "execute_result"
    }
   ],
   "source": [
    "Path.BASE_PATH = path\n",
    "print(path) # prints actual path but look at output of last line\n",
    "print(path.ls())\n",
    "path"
   ]
  },
  {
   "cell_type": "code",
   "execution_count": 8,
   "id": "ee599708",
   "metadata": {},
   "outputs": [],
   "source": [
    "# Now they are much more readable. BASE_PATH: next time we use any Path variable, BASE_PATH will be automatically there but we wont see it. "
   ]
  },
  {
   "cell_type": "code",
   "execution_count": 9,
   "id": "85e056c3",
   "metadata": {},
   "outputs": [
    {
     "data": {
      "text/plain": [
       "(#2) [Path('train/3'),Path('train/7')]"
      ]
     },
     "execution_count": 9,
     "metadata": {},
     "output_type": "execute_result"
    }
   ],
   "source": [
    "# Let's see the content of train folder\n",
    "(path/'train').ls()"
   ]
  },
  {
   "cell_type": "code",
   "execution_count": 10,
   "id": "8bc13ebf",
   "metadata": {},
   "outputs": [
    {
     "data": {
      "text/plain": [
       "(#6131) [Path('train/3/10.png'),Path('train/3/10000.png'),Path('train/3/10011.png'),Path('train/3/10031.png'),Path('train/3/10034.png'),Path('train/3/10042.png'),Path('train/3/10052.png'),Path('train/3/1007.png'),Path('train/3/10074.png'),Path('train/3/10091.png')...]"
      ]
     },
     "execution_count": 10,
     "metadata": {},
     "output_type": "execute_result"
    }
   ],
   "source": [
    "threes = (path/'train/3').ls()\n",
    "threes"
   ]
  },
  {
   "cell_type": "code",
   "execution_count": 11,
   "id": "e4574dad",
   "metadata": {},
   "outputs": [
    {
     "data": {
      "text/plain": [
       "(#6265) [Path('train/7/10002.png'),Path('train/7/1001.png'),Path('train/7/10014.png'),Path('train/7/10019.png'),Path('train/7/10039.png'),Path('train/7/10046.png'),Path('train/7/10050.png'),Path('train/7/10063.png'),Path('train/7/10077.png'),Path('train/7/10086.png')...]"
      ]
     },
     "execution_count": 11,
     "metadata": {},
     "output_type": "execute_result"
    }
   ],
   "source": [
    "sevens = (path/'train/7').ls()\n",
    "sevens"
   ]
  },
  {
   "cell_type": "code",
   "execution_count": 12,
   "id": "5e649771",
   "metadata": {},
   "outputs": [],
   "source": [
    "# We could have also used get_image_files to get threes and sevens. Let's see: We will call it _v2"
   ]
  },
  {
   "cell_type": "code",
   "execution_count": 13,
   "id": "e0b54c66",
   "metadata": {},
   "outputs": [
    {
     "name": "stdout",
     "output_type": "stream",
     "text": [
      "Both are same \n",
      "\n"
     ]
    },
    {
     "data": {
      "text/plain": [
       "(#6131) [Path('train/3/10.png'),Path('train/3/10000.png'),Path('train/3/10011.png'),Path('train/3/10031.png'),Path('train/3/10034.png'),Path('train/3/10042.png'),Path('train/3/10052.png'),Path('train/3/1007.png'),Path('train/3/10074.png'),Path('train/3/10091.png')...]"
      ]
     },
     "execution_count": 13,
     "metadata": {},
     "output_type": "execute_result"
    }
   ],
   "source": [
    "threes_v2 = get_image_files((path/'train/3'))\n",
    "\n",
    "if threes_v2==threes:\n",
    "    print('Both are same \\n')\n",
    "\n",
    "threes_v2"
   ]
  },
  {
   "cell_type": "code",
   "execution_count": 14,
   "id": "d477031e",
   "metadata": {},
   "outputs": [
    {
     "name": "stdout",
     "output_type": "stream",
     "text": [
      "Both are same \n",
      "\n",
      "\n"
     ]
    },
    {
     "data": {
      "text/plain": [
       "(#6265) [Path('train/7/10002.png'),Path('train/7/1001.png'),Path('train/7/10014.png'),Path('train/7/10019.png'),Path('train/7/10039.png'),Path('train/7/10046.png'),Path('train/7/10050.png'),Path('train/7/10063.png'),Path('train/7/10077.png'),Path('train/7/10086.png')...]"
      ]
     },
     "execution_count": 14,
     "metadata": {},
     "output_type": "execute_result"
    }
   ],
   "source": [
    "sevens_v2 = get_image_files((path/'train/7'))\n",
    "\n",
    "if sevens_v2==sevens:\n",
    "    print('Both are same \\n\\n')\n",
    "\n",
    "sevens_v2"
   ]
  },
  {
   "cell_type": "code",
   "execution_count": 15,
   "id": "fa0d4636",
   "metadata": {},
   "outputs": [
    {
     "data": {
      "text/plain": [
       "(#6131) [Path('train/3/10.png'),Path('train/3/10000.png'),Path('train/3/10011.png'),Path('train/3/10031.png'),Path('train/3/10034.png'),Path('train/3/10042.png'),Path('train/3/10052.png'),Path('train/3/1007.png'),Path('train/3/10074.png'),Path('train/3/10091.png')...]"
      ]
     },
     "execution_count": 15,
     "metadata": {},
     "output_type": "execute_result"
    }
   ],
   "source": [
    "# let's get them sorted to reproduce Jermey's results. Because he used a sorted list\n",
    "\n",
    "threes = threes.sorted()\n",
    "threes"
   ]
  },
  {
   "cell_type": "code",
   "execution_count": 16,
   "id": "5074d87b",
   "metadata": {},
   "outputs": [
    {
     "data": {
      "text/plain": [
       "(#6265) [Path('train/7/10002.png'),Path('train/7/1001.png'),Path('train/7/10014.png'),Path('train/7/10019.png'),Path('train/7/10039.png'),Path('train/7/10046.png'),Path('train/7/10050.png'),Path('train/7/10063.png'),Path('train/7/10077.png'),Path('train/7/10086.png')...]"
      ]
     },
     "execution_count": 16,
     "metadata": {},
     "output_type": "execute_result"
    }
   ],
   "source": [
    "sevens = sevens.sorted()\n",
    "sevens"
   ]
  },
  {
   "cell_type": "markdown",
   "id": "355f48b4",
   "metadata": {},
   "source": [
    "I think it was already sorted. so using it again is not doing anything"
   ]
  },
  {
   "cell_type": "code",
   "execution_count": 17,
   "id": "f173e032",
   "metadata": {},
   "outputs": [
    {
     "data": {
      "image/png": "[encoded data removed]",
      "text/plain": [
       "<PIL.PngImagePlugin.PngImageFile image mode=L size=28x28>"
      ]
     },
     "execution_count": 17,
     "metadata": {},
     "output_type": "execute_result"
    }
   ],
   "source": [
    "# Let's see sample 3 and sample 7\n",
    "ex_3 = Image.open(threes[0])\n",
    "ex_3"
   ]
  },
  {
   "cell_type": "code",
   "execution_count": 18,
   "id": "ae296c45",
   "metadata": {},
   "outputs": [
    {
     "data": {
      "image/png": "[encoded data removed]",
      "text/plain": [
       "<PIL.PngImagePlugin.PngImageFile image mode=L size=28x28>"
      ]
     },
     "execution_count": 18,
     "metadata": {},
     "output_type": "execute_result"
    }
   ],
   "source": [
    "ex_7 = Image.open(sevens[0])\n",
    "ex_7"
   ]
  },
  {
   "cell_type": "markdown",
   "id": "63f11249",
   "metadata": {},
   "source": [
    "We can also use `show_image` to show images or `.to_thumb()`"
   ]
  },
  {
   "cell_type": "code",
   "execution_count": 19,
   "id": "979628c7",
   "metadata": {},
   "outputs": [
    {
     "data": {
      "text/plain": [
       "<AxesSubplot:>"
      ]
     },
     "execution_count": 19,
     "metadata": {},
     "output_type": "execute_result"
    },
    {
     "data": {
      "image/png": "[encoded data removed]",
      "text/plain": [
       "<Figure size 100x100 with 1 Axes>"
      ]
     },
     "metadata": {},
     "output_type": "display_data"
    },
    {
     "data": {
      "image/png": "[encoded data removed]",
      "text/plain": [
       "<Figure size 100x100 with 1 Axes>"
      ]
     },
     "metadata": {},
     "output_type": "display_data"
    }
   ],
   "source": [
    "show_image(ex_3, cmap='gray')\n",
    "show_image(ex_7, cmap='gray')"
   ]
  },
  {
   "cell_type": "code",
   "execution_count": 20,
   "id": "fcc1ed4e",
   "metadata": {},
   "outputs": [
    {
     "data": {
      "image/png": "[encoded data removed]",
      "text/plain": [
       "<PIL.Image.Image image mode=L size=28x28>"
      ]
     },
     "execution_count": 20,
     "metadata": {},
     "output_type": "execute_result"
    }
   ],
   "source": [
    "ex_3.to_thumb(28,28)"
   ]
  },
  {
   "cell_type": "markdown",
   "id": "83b1d216",
   "metadata": {},
   "source": [
    "**Now we have idea about our dataset and how to read it and get it. Now let's develop a baseline without ML/DL as first attempt**"
   ]
  },
  {
   "cell_type": "markdown",
   "id": "04053810",
   "metadata": {},
   "source": [
    "### Baseline\n",
    "1. Instinct: Get average of all threes and all sevens. \n",
    "    1. First get list of tensors for all the images of 3s and 7s.\n",
    "    2. Thenconvert list into a stacked tensor\n",
    "1.  For a new image check its closeness: L1 norm, L2 norm, cosine similarity (by flattening the image)\n",
    "1.  Hopefully it should work and we will have a baseline."
   ]
  },
  {
   "cell_type": "code",
   "execution_count": 22,
   "id": "e227945d",
   "metadata": {},
   "outputs": [
    {
     "data": {
      "text/plain": [
       "6131"
      ]
     },
     "execution_count": 22,
     "metadata": {},
     "output_type": "execute_result"
    }
   ],
   "source": [
    "tns_list_3s = [Image.open(o) for o in threes] # tensor list of 3s\n",
    "len(tns_list_3s)"
   ]
  },
  {
   "cell_type": "code",
   "execution_count": 23,
   "id": "1be507d6",
   "metadata": {},
   "outputs": [
    {
     "data": {
      "image/png": "[encoded data removed]",
      "text/plain": [
       "<PIL.PngImagePlugin.PngImageFile image mode=L size=28x28>"
      ]
     },
     "execution_count": 23,
     "metadata": {},
     "output_type": "execute_result"
    }
   ],
   "source": [
    "tns_list_3s[0]"
   ]
  },
  {
   "cell_type": "code",
   "execution_count": 25,
   "id": "1f4a8513",
   "metadata": {},
   "outputs": [
    {
     "data": {
      "text/plain": [
       "(28, 28)"
      ]
     },
     "execution_count": 25,
     "metadata": {},
     "output_type": "execute_result"
    }
   ],
   "source": [
    "tns_list_3s[0].shape"
   ]
  },
  {
   "cell_type": "code",
   "execution_count": 26,
   "id": "1ffcac39",
   "metadata": {},
   "outputs": [
    {
     "data": {
      "text/plain": [
       "PIL.PngImagePlugin.PngImageFile"
      ]
     },
     "execution_count": 26,
     "metadata": {},
     "output_type": "execute_result"
    }
   ],
   "source": [
    "# BUT\n",
    "type(tns_list_3s[0])"
   ]
  },
  {
   "cell_type": "markdown",
   "id": "d35bbc70",
   "metadata": {},
   "source": [
    "This is an image file while we needed list of tensors. So, let's modify the above code to get tensors. Pretty straightforward. Use `tensor()`"
   ]
  },
  {
   "cell_type": "code",
   "execution_count": 27,
   "id": "b67d22b0",
   "metadata": {},
   "outputs": [
    {
     "data": {
      "text/plain": [
       "6131"
      ]
     },
     "execution_count": 27,
     "metadata": {},
     "output_type": "execute_result"
    }
   ],
   "source": [
    "tns_list_3s = [tensor(Image.open(o)) for o in threes] # tensor list of 3s\n",
    "len(tns_list_3s)"
   ]
  },
  {
   "cell_type": "code",
   "execution_count": 28,
   "id": "d43e4ef1",
   "metadata": {
    "scrolled": true
   },
   "outputs": [
    {
     "data": {
      "text/plain": [
       "tensor([[  0,   0,   0,   0,   0,   0,   0,   0,   0,   0,   0,   0,   0,   0,\n",
       "           0,   0,   0,   0,   0,   0,   0,   0,   0,   0,   0,   0,   0,   0],\n",
       "        [  0,   0,   0,   0,   0,   0,   0,   0,   0,   0,   0,   0,   0,   0,\n",
       "           0,   0,   0,   0,   0,   0,   0,   0,   0,   0,   0,   0,   0,   0],\n",
       "        [  0,   0,   0,   0,   0,   0,   0,   0,   0,   0,   0,   0,   0,   0,\n",
       "           0,   0,   0,   0,   0,   0,   0,   0,   0,   0,   0,   0,   0,   0],\n",
       "        [  0,   0,   0,   0,   0,   0,   0,   0,   0,   0,   0,   0,   0,   0,\n",
       "           0,   0,   0,   0,   0,   0,   0,   0,   0,   0,   0,   0,   0,   0],\n",
       "        [  0,   0,   0,   0,   0,   0,   0,   0,   0,   0,   0,  42, 118, 219,\n",
       "         166, 118, 118,   6,   0,   0,   0,   0,   0,   0,   0,   0,   0,   0],\n",
       "        [  0,   0,   0,   0,   0,   0,   0,   0,   0,   0, 103, 242, 254, 254,\n",
       "         254, 254, 254,  66,   0,   0,   0,   0,   0,   0,   0,   0,   0,   0],\n",
       "        [  0,   0,   0,   0,   0,   0,   0,   0,   0,   0,  18, 232, 254, 254,\n",
       "         254, 254, 254, 238,  70,   0,   0,   0,   0,   0,   0,   0,   0,   0],\n",
       "        [  0,   0,   0,   0,   0,   0,   0,   0,   0,   0,   0, 104, 244, 254,\n",
       "         224, 254, 254, 254, 141,   0,   0,   0,   0,   0,   0,   0,   0,   0],\n",
       "        [  0,   0,   0,   0,   0,   0,   0,   0,   0,   0,   0,   0, 207, 254,\n",
       "         210, 254, 254, 254,  34,   0,   0,   0,   0,   0,   0,   0,   0,   0],\n",
       "        [  0,   0,   0,   0,   0,   0,   0,   0,   0,   0,   0,   0,  84, 206,\n",
       "         254, 254, 254, 254,  41,   0,   0,   0,   0,   0,   0,   0,   0,   0],\n",
       "        [  0,   0,   0,   0,   0,   0,   0,   0,   0,   0,   0,   0,   0,  24,\n",
       "         209, 254, 254, 254, 171,   0,   0,   0,   0,   0,   0,   0,   0,   0],\n",
       "        [  0,   0,   0,   0,   0,   0,   0,   0,   0,   0,   0,   0,  91, 137,\n",
       "         253, 254, 254, 254, 112,   0,   0,   0,   0,   0,   0,   0,   0,   0],\n",
       "        [  0,   0,   0,   0,   0,   0,   0,   0,   0,   0,  40, 214, 250, 254,\n",
       "         254, 254, 254, 254,  34,   0,   0,   0,   0,   0,   0,   0,   0,   0],\n",
       "        [  0,   0,   0,   0,   0,   0,   0,   0,   0,   0,  81, 247, 254, 254,\n",
       "         254, 254, 254, 254, 146,   0,   0,   0,   0,   0,   0,   0,   0,   0],\n",
       "        [  0,   0,   0,   0,   0,   0,   0,   0,   0,   0,   0, 110, 246, 254,\n",
       "         254, 254, 254, 254, 171,   0,   0,   0,   0,   0,   0,   0,   0,   0],\n",
       "        [  0,   0,   0,   0,   0,   0,   0,   0,   0,   0,   0,   0,  73,  89,\n",
       "          89,  93, 240, 254, 171,   0,   0,   0,   0,   0,   0,   0,   0,   0],\n",
       "        [  0,   0,   0,   0,   0,   0,   0,   0,   0,   0,   0,   0,   0,   0,\n",
       "           0,   1, 128, 254, 219,  31,   0,   0,   0,   0,   0,   0,   0,   0],\n",
       "        [  0,   0,   0,   0,   0,   0,   0,   0,   0,   0,   0,   0,   0,   0,\n",
       "           0,   7, 254, 254, 214,  28,   0,   0,   0,   0,   0,   0,   0,   0],\n",
       "        [  0,   0,   0,   0,   0,   0,   0,   0,   0,   0,   0,   0,   0,   0,\n",
       "           0, 138, 254, 254, 116,   0,   0,   0,   0,   0,   0,   0,   0,   0],\n",
       "        [  0,   0,   0,   0,   0,   0,  19, 177,  90,   0,   0,   0,   0,   0,\n",
       "          25, 240, 254, 254,  34,   0,   0,   0,   0,   0,   0,   0,   0,   0],\n",
       "        [  0,   0,   0,   0,   0,   0, 164, 254, 215,  63,  36,   0,  51,  89,\n",
       "         206, 254, 254, 139,   8,   0,   0,   0,   0,   0,   0,   0,   0,   0],\n",
       "        [  0,   0,   0,   0,   0,   0,  57, 197, 254, 254, 222, 180, 241, 254,\n",
       "         254, 253, 213,  11,   0,   0,   0,   0,   0,   0,   0,   0,   0,   0],\n",
       "        [  0,   0,   0,   0,   0,   0,   0, 140, 105, 254, 254, 254, 254, 254,\n",
       "         254, 236,   0,   0,   0,   0,   0,   0,   0,   0,   0,   0,   0,   0],\n",
       "        [  0,   0,   0,   0,   0,   0,   0,   0,   7, 117, 117, 165, 254, 254,\n",
       "         239,  50,   0,   0,   0,   0,   0,   0,   0,   0,   0,   0,   0,   0],\n",
       "        [  0,   0,   0,   0,   0,   0,   0,   0,   0,   0,   0,   0,   0,   0,\n",
       "           0,   0,   0,   0,   0,   0,   0,   0,   0,   0,   0,   0,   0,   0],\n",
       "        [  0,   0,   0,   0,   0,   0,   0,   0,   0,   0,   0,   0,   0,   0,\n",
       "           0,   0,   0,   0,   0,   0,   0,   0,   0,   0,   0,   0,   0,   0],\n",
       "        [  0,   0,   0,   0,   0,   0,   0,   0,   0,   0,   0,   0,   0,   0,\n",
       "           0,   0,   0,   0,   0,   0,   0,   0,   0,   0,   0,   0,   0,   0],\n",
       "        [  0,   0,   0,   0,   0,   0,   0,   0,   0,   0,   0,   0,   0,   0,\n",
       "           0,   0,   0,   0,   0,   0,   0,   0,   0,   0,   0,   0,   0,   0]],\n",
       "       dtype=torch.uint8)"
      ]
     },
     "execution_count": 28,
     "metadata": {},
     "output_type": "execute_result"
    }
   ],
   "source": [
    "tns_list_3s[0]"
   ]
  },
  {
   "cell_type": "markdown",
   "id": "bcaff922",
   "metadata": {},
   "source": [
    "Also it is a good practise to have images as float to allow dividing operations (for *normalisation*). Let's modify the above code to include that\n"
   ]
  },
  {
   "cell_type": "code",
   "execution_count": 29,
   "id": "d71c81d4",
   "metadata": {},
   "outputs": [
    {
     "data": {
      "text/plain": [
       "6131"
      ]
     },
     "execution_count": 29,
     "metadata": {},
     "output_type": "execute_result"
    }
   ],
   "source": [
    "tns_list_3s = [tensor(Image.open(o)).float() for o in threes] # tensor list of 3s\n",
    "len(tns_list_3s)"
   ]
  },
  {
   "cell_type": "code",
   "execution_count": 30,
   "id": "52fad88c",
   "metadata": {
    "scrolled": true
   },
   "outputs": [
    {
     "data": {
      "text/plain": [
       "tensor([[  0.,   0.,   0.,   0.,   0.,   0.,   0.,   0.,   0.,   0.,   0.,   0.,\n",
       "           0.,   0.,   0.,   0.,   0.,   0.,   0.,   0.,   0.,   0.,   0.,   0.,\n",
       "           0.,   0.,   0.,   0.],\n",
       "        [  0.,   0.,   0.,   0.,   0.,   0.,   0.,   0.,   0.,   0.,   0.,   0.,\n",
       "           0.,   0.,   0.,   0.,   0.,   0.,   0.,   0.,   0.,   0.,   0.,   0.,\n",
       "           0.,   0.,   0.,   0.],\n",
       "        [  0.,   0.,   0.,   0.,   0.,   0.,   0.,   0.,   0.,   0.,   0.,   0.,\n",
       "           0.,   0.,   0.,   0.,   0.,   0.,   0.,   0.,   0.,   0.,   0.,   0.,\n",
       "           0.,   0.,   0.,   0.],\n",
       "        [  0.,   0.,   0.,   0.,   0.,   0.,   0.,   0.,   0.,   0.,   0.,   0.,\n",
       "           0.,   0.,   0.,   0.,   0.,   0.,   0.,   0.,   0.,   0.,   0.,   0.,\n",
       "           0.,   0.,   0.,   0.],\n",
       "        [  0.,   0.,   0.,   0.,   0.,   0.,   0.,   0.,   0.,   0.,   0.,  42.,\n",
       "         118., 219., 166., 118., 118.,   6.,   0.,   0.,   0.,   0.,   0.,   0.,\n",
       "           0.,   0.,   0.,   0.],\n",
       "        [  0.,   0.,   0.,   0.,   0.,   0.,   0.,   0.,   0.,   0., 103., 242.,\n",
       "         254., 254., 254., 254., 254.,  66.,   0.,   0.,   0.,   0.,   0.,   0.,\n",
       "           0.,   0.,   0.,   0.],\n",
       "        [  0.,   0.,   0.,   0.,   0.,   0.,   0.,   0.,   0.,   0.,  18., 232.,\n",
       "         254., 254., 254., 254., 254., 238.,  70.,   0.,   0.,   0.,   0.,   0.,\n",
       "           0.,   0.,   0.,   0.],\n",
       "        [  0.,   0.,   0.,   0.,   0.,   0.,   0.,   0.,   0.,   0.,   0., 104.,\n",
       "         244., 254., 224., 254., 254., 254., 141.,   0.,   0.,   0.,   0.,   0.,\n",
       "           0.,   0.,   0.,   0.],\n",
       "        [  0.,   0.,   0.,   0.,   0.,   0.,   0.,   0.,   0.,   0.,   0.,   0.,\n",
       "         207., 254., 210., 254., 254., 254.,  34.,   0.,   0.,   0.,   0.,   0.,\n",
       "           0.,   0.,   0.,   0.],\n",
       "        [  0.,   0.,   0.,   0.,   0.,   0.,   0.,   0.,   0.,   0.,   0.,   0.,\n",
       "          84., 206., 254., 254., 254., 254.,  41.,   0.,   0.,   0.,   0.,   0.,\n",
       "           0.,   0.,   0.,   0.],\n",
       "        [  0.,   0.,   0.,   0.,   0.,   0.,   0.,   0.,   0.,   0.,   0.,   0.,\n",
       "           0.,  24., 209., 254., 254., 254., 171.,   0.,   0.,   0.,   0.,   0.,\n",
       "           0.,   0.,   0.,   0.],\n",
       "        [  0.,   0.,   0.,   0.,   0.,   0.,   0.,   0.,   0.,   0.,   0.,   0.,\n",
       "          91., 137., 253., 254., 254., 254., 112.,   0.,   0.,   0.,   0.,   0.,\n",
       "           0.,   0.,   0.,   0.],\n",
       "        [  0.,   0.,   0.,   0.,   0.,   0.,   0.,   0.,   0.,   0.,  40., 214.,\n",
       "         250., 254., 254., 254., 254., 254.,  34.,   0.,   0.,   0.,   0.,   0.,\n",
       "           0.,   0.,   0.,   0.],\n",
       "        [  0.,   0.,   0.,   0.,   0.,   0.,   0.,   0.,   0.,   0.,  81., 247.,\n",
       "         254., 254., 254., 254., 254., 254., 146.,   0.,   0.,   0.,   0.,   0.,\n",
       "           0.,   0.,   0.,   0.],\n",
       "        [  0.,   0.,   0.,   0.,   0.,   0.,   0.,   0.,   0.,   0.,   0., 110.,\n",
       "         246., 254., 254., 254., 254., 254., 171.,   0.,   0.,   0.,   0.,   0.,\n",
       "           0.,   0.,   0.,   0.],\n",
       "        [  0.,   0.,   0.,   0.,   0.,   0.,   0.,   0.,   0.,   0.,   0.,   0.,\n",
       "          73.,  89.,  89.,  93., 240., 254., 171.,   0.,   0.,   0.,   0.,   0.,\n",
       "           0.,   0.,   0.,   0.],\n",
       "        [  0.,   0.,   0.,   0.,   0.,   0.,   0.,   0.,   0.,   0.,   0.,   0.,\n",
       "           0.,   0.,   0.,   1., 128., 254., 219.,  31.,   0.,   0.,   0.,   0.,\n",
       "           0.,   0.,   0.,   0.],\n",
       "        [  0.,   0.,   0.,   0.,   0.,   0.,   0.,   0.,   0.,   0.,   0.,   0.,\n",
       "           0.,   0.,   0.,   7., 254., 254., 214.,  28.,   0.,   0.,   0.,   0.,\n",
       "           0.,   0.,   0.,   0.],\n",
       "        [  0.,   0.,   0.,   0.,   0.,   0.,   0.,   0.,   0.,   0.,   0.,   0.,\n",
       "           0.,   0.,   0., 138., 254., 254., 116.,   0.,   0.,   0.,   0.,   0.,\n",
       "           0.,   0.,   0.,   0.],\n",
       "        [  0.,   0.,   0.,   0.,   0.,   0.,  19., 177.,  90.,   0.,   0.,   0.,\n",
       "           0.,   0.,  25., 240., 254., 254.,  34.,   0.,   0.,   0.,   0.,   0.,\n",
       "           0.,   0.,   0.,   0.],\n",
       "        [  0.,   0.,   0.,   0.,   0.,   0., 164., 254., 215.,  63.,  36.,   0.,\n",
       "          51.,  89., 206., 254., 254., 139.,   8.,   0.,   0.,   0.,   0.,   0.,\n",
       "           0.,   0.,   0.,   0.],\n",
       "        [  0.,   0.,   0.,   0.,   0.,   0.,  57., 197., 254., 254., 222., 180.,\n",
       "         241., 254., 254., 253., 213.,  11.,   0.,   0.,   0.,   0.,   0.,   0.,\n",
       "           0.,   0.,   0.,   0.],\n",
       "        [  0.,   0.,   0.,   0.,   0.,   0.,   0., 140., 105., 254., 254., 254.,\n",
       "         254., 254., 254., 236.,   0.,   0.,   0.,   0.,   0.,   0.,   0.,   0.,\n",
       "           0.,   0.,   0.,   0.],\n",
       "        [  0.,   0.,   0.,   0.,   0.,   0.,   0.,   0.,   7., 117., 117., 165.,\n",
       "         254., 254., 239.,  50.,   0.,   0.,   0.,   0.,   0.,   0.,   0.,   0.,\n",
       "           0.,   0.,   0.,   0.],\n",
       "        [  0.,   0.,   0.,   0.,   0.,   0.,   0.,   0.,   0.,   0.,   0.,   0.,\n",
       "           0.,   0.,   0.,   0.,   0.,   0.,   0.,   0.,   0.,   0.,   0.,   0.,\n",
       "           0.,   0.,   0.,   0.],\n",
       "        [  0.,   0.,   0.,   0.,   0.,   0.,   0.,   0.,   0.,   0.,   0.,   0.,\n",
       "           0.,   0.,   0.,   0.,   0.,   0.,   0.,   0.,   0.,   0.,   0.,   0.,\n",
       "           0.,   0.,   0.,   0.],\n",
       "        [  0.,   0.,   0.,   0.,   0.,   0.,   0.,   0.,   0.,   0.,   0.,   0.,\n",
       "           0.,   0.,   0.,   0.,   0.,   0.,   0.,   0.,   0.,   0.,   0.,   0.,\n",
       "           0.,   0.,   0.,   0.],\n",
       "        [  0.,   0.,   0.,   0.,   0.,   0.,   0.,   0.,   0.,   0.,   0.,   0.,\n",
       "           0.,   0.,   0.,   0.,   0.,   0.,   0.,   0.,   0.,   0.,   0.,   0.,\n",
       "           0.,   0.,   0.,   0.]])"
      ]
     },
     "execution_count": 30,
     "metadata": {},
     "output_type": "execute_result"
    }
   ],
   "source": [
    "tns_list_3s[0]"
   ]
  },
  {
   "cell_type": "code",
   "execution_count": 31,
   "id": "34e19fd9",
   "metadata": {},
   "outputs": [
    {
     "data": {
      "text/plain": [
       "6265"
      ]
     },
     "execution_count": 31,
     "metadata": {},
     "output_type": "execute_result"
    }
   ],
   "source": [
    "tns_list_7s = [tensor(Image.open(o)).float() for o in sevens] # tensor list of 7s\n",
    "len(tns_list_7s)"
   ]
  },
  {
   "cell_type": "markdown",
   "id": "7b6369f8",
   "metadata": {},
   "source": [
    "Now we convert them from list of tensors to a stacked 3 dimensional tensor using `stack`\n",
    "-  `torch.stack` takes a list of tensors of same shape and dim - us index pr count badega\n"
   ]
  },
  {
   "cell_type": "code",
   "execution_count": 32,
   "id": "f9e640cc",
   "metadata": {},
   "outputs": [
    {
     "data": {
      "text/plain": [
       "torch.Size([28, 28])"
      ]
     },
     "execution_count": 32,
     "metadata": {},
     "output_type": "execute_result"
    }
   ],
   "source": [
    "tns_list_3s[0].shape"
   ]
  },
  {
   "cell_type": "code",
   "execution_count": 33,
   "id": "b9f058be",
   "metadata": {},
   "outputs": [
    {
     "data": {
      "text/plain": [
       "torch.Size([6131, 28, 28])"
      ]
     },
     "execution_count": 33,
     "metadata": {},
     "output_type": "execute_result"
    }
   ],
   "source": [
    "threes_tensor = torch.stack(tns_list_3s, dim=0) # 0 because hume 0 axis pr count badhana h\n",
    "threes_tensor.shape"
   ]
  },
  {
   "cell_type": "code",
   "execution_count": 34,
   "id": "48feca90",
   "metadata": {},
   "outputs": [
    {
     "data": {
      "text/plain": [
       "torch.Size([28, 6131, 28])"
      ]
     },
     "execution_count": 34,
     "metadata": {},
     "output_type": "execute_result"
    }
   ],
   "source": [
    "# wrong: but see how stack works\n",
    "xx = torch.stack(tns_list_3s, dim=1) # 1 because hume 1 axis pr count badhana h\n",
    "xx.shape"
   ]
  },
  {
   "cell_type": "code",
   "execution_count": 35,
   "id": "58348d54",
   "metadata": {},
   "outputs": [
    {
     "data": {
      "text/plain": [
       "torch.Size([6265, 28, 28])"
      ]
     },
     "execution_count": 35,
     "metadata": {},
     "output_type": "execute_result"
    }
   ],
   "source": [
    "sevens_tensor = torch.stack(tns_list_7s, dim=0) # 0 because hume 0 axis pr count badhana h\n",
    "sevens_tensor.shape"
   ]
  },
  {
   "cell_type": "markdown",
   "id": "0bf7d212",
   "metadata": {},
   "source": [
    "Let's calculate average of all these tensors and see the results"
   ]
  },
  {
   "cell_type": "code",
   "execution_count": 36,
   "id": "766cd2af",
   "metadata": {},
   "outputs": [
    {
     "name": "stdout",
     "output_type": "stream",
     "text": [
      "tensor(36.0902) torch.Size([]) 0\n"
     ]
    }
   ],
   "source": [
    "threes_avg = threes_tensor.mean()\n",
    "print(threes_avg, threes_avg.shape, threes_avg.ndim)"
   ]
  },
  {
   "cell_type": "markdown",
   "id": "9b29b3dc",
   "metadata": {},
   "source": [
    "- This just gave us a single value - a scalar - 0 *rank* tensor\n",
    "- But we want 2nd order tensor i.e. a matrix of 28x28 shape"
   ]
  },
  {
   "cell_type": "code",
   "execution_count": 37,
   "id": "8300e209",
   "metadata": {},
   "outputs": [],
   "source": [
    "?threes_tensor.mean"
   ]
  },
  {
   "cell_type": "code",
   "execution_count": 38,
   "id": "346d4e47",
   "metadata": {},
   "outputs": [
    {
     "name": "stdout",
     "output_type": "stream",
     "text": [
      "torch.Size([28, 28]) 2\n"
     ]
    }
   ],
   "source": [
    "threes_avg = threes_tensor.mean(0) # kaunsi axis khatam karni hai - 0\n",
    "print(threes_avg.shape, threes_avg.ndim)"
   ]
  },
  {
   "cell_type": "markdown",
   "id": "7a71c1ca",
   "metadata": {},
   "source": [
    "This looks good. Let's see"
   ]
  },
  {
   "cell_type": "code",
   "execution_count": 39,
   "id": "d221098f",
   "metadata": {},
   "outputs": [],
   "source": [
    "?show_image"
   ]
  },
  {
   "cell_type": "code",
   "execution_count": 40,
   "id": "dfcaab97",
   "metadata": {},
   "outputs": [
    {
     "data": {
      "text/plain": [
       "<AxesSubplot:>"
      ]
     },
     "execution_count": 40,
     "metadata": {},
     "output_type": "execute_result"
    },
    {
     "data": {
      "image/png": "[encoded data removed]",
      "text/plain": [
       "<Figure size 100x100 with 1 Axes>"
      ]
     },
     "metadata": {},
     "output_type": "display_data"
    }
   ],
   "source": [
    "show_image(threes_avg, cmap='gray')"
   ]
  },
  {
   "cell_type": "markdown",
   "id": "d9eba904",
   "metadata": {},
   "source": [
    "**Note**: `show_image` by fastai is a nice developement to show directly a PIL image and even directly a tensor"
   ]
  },
  {
   "cell_type": "code",
   "execution_count": 41,
   "id": "c7646613",
   "metadata": {},
   "outputs": [
    {
     "name": "stdout",
     "output_type": "stream",
     "text": [
      "torch.Size([28, 28]) 2\n"
     ]
    },
    {
     "data": {
      "text/plain": [
       "<AxesSubplot:>"
      ]
     },
     "execution_count": 41,
     "metadata": {},
     "output_type": "execute_result"
    },
    {
     "data": {
      "image/png": "[encoded data removed]",
      "text/plain": [
       "<Figure size 100x100 with 1 Axes>"
      ]
     },
     "metadata": {},
     "output_type": "display_data"
    }
   ],
   "source": [
    "sevens_avg = sevens_tensor.mean(0) # kaunsi axis khatam karni hai - 0\n",
    "print(sevens_avg.shape, sevens_avg.ndim)\n",
    "show_image(sevens_avg, cmap='gray')"
   ]
  },
  {
   "cell_type": "markdown",
   "id": "9f730255",
   "metadata": {},
   "source": [
    "Now we have a **template/ reference** for 3 and 7 which we will use to compare new images"
   ]
  },
  {
   "cell_type": "markdown",
   "id": "8bd9b519",
   "metadata": {},
   "source": [
    "we will use L1 norm and L2 norm for computation\n"
   ]
  },
  {
   "cell_type": "code",
   "execution_count": 42,
   "id": "98605b9b",
   "metadata": {},
   "outputs": [],
   "source": [
    "def l1_norm(a,b):\n",
    "    ''' calculate l1 norm or mae b/w two tensors a & b'''\n",
    "    return abs(a-b).mean()\n",
    "\n",
    "def l2_norm(a,b):\n",
    "    ''' calculate l2 norm or mse.sqrt() b/w two tensors a & b'''\n",
    "    return ((a-b)**2).mean().sqrt()"
   ]
  },
  {
   "cell_type": "code",
   "execution_count": 43,
   "id": "5990df5e",
   "metadata": {},
   "outputs": [
    {
     "name": "stdout",
     "output_type": "stream",
     "text": [
      "tensor(28.4163) tensor(51.5312)\n"
     ]
    }
   ],
   "source": [
    "sample_3 = threes_tensor[1]\n",
    "print(l1_norm(sample_3, threes_avg), l2_norm(sample_3, threes_avg))"
   ]
  },
  {
   "cell_type": "markdown",
   "id": "57e86086",
   "metadata": {},
   "source": [
    "- These values are not same as values in Jermey's notebook because pixel values range from 0-255 here and not 0-1. \n",
    "- To do that, let's modify the functions"
   ]
  },
  {
   "cell_type": "code",
   "execution_count": 44,
   "id": "b45dce77",
   "metadata": {},
   "outputs": [],
   "source": [
    "def l1_norm(a,b, normalise = False):\n",
    "    ''' calculate l1 norm or mae b/w two tensors a & b'''\n",
    "    if normalise:\n",
    "        a = a/255.\n",
    "        b = b/255.\n",
    "    return abs(a-b).mean()\n",
    "\n",
    "def l2_norm(a,b, normalise = False):\n",
    "    ''' calculate l2 norm or mse.sqrt() b/w two tensors a & b'''\n",
    "    if normalise:\n",
    "        a = a/255.\n",
    "        b = b/255.\n",
    "    return ((a-b)**2).mean().sqrt()\n"
   ]
  },
  {
   "cell_type": "code",
   "execution_count": 45,
   "id": "3619deea",
   "metadata": {},
   "outputs": [
    {
     "name": "stdout",
     "output_type": "stream",
     "text": [
      "tensor(0.1114) tensor(0.2021)\n"
     ]
    }
   ],
   "source": [
    "sample_3 = threes_tensor[1]\n",
    "print(l1_norm(sample_3, threes_avg, True), l2_norm(sample_3, threes_avg, True))"
   ]
  },
  {
   "cell_type": "markdown",
   "id": "41a1217d",
   "metadata": {},
   "source": [
    "Now it is a perfect match !!"
   ]
  },
  {
   "cell_type": "code",
   "execution_count": 46,
   "id": "54669044",
   "metadata": {},
   "outputs": [
    {
     "name": "stdout",
     "output_type": "stream",
     "text": [
      "tensor(0.1586) tensor(0.3021)\n"
     ]
    }
   ],
   "source": [
    "# Let's calcualte of sample 3 from 7 average\n",
    "print(l1_norm(sample_3, sevens_avg, True), l2_norm(sample_3, sevens_avg, True))"
   ]
  },
  {
   "cell_type": "markdown",
   "id": "0f6ebf87",
   "metadata": {},
   "source": [
    "Let's also define cosine similarity"
   ]
  },
  {
   "cell_type": "code",
   "execution_count": 47,
   "id": "98042c54",
   "metadata": {},
   "outputs": [
    {
     "data": {
      "text/plain": [
       "torch.Size([784])"
      ]
     },
     "execution_count": 47,
     "metadata": {},
     "output_type": "execute_result"
    }
   ],
   "source": [
    "three_av_flat = threes_avg.flatten()\n",
    "three_av_flat.shape"
   ]
  },
  {
   "cell_type": "code",
   "execution_count": 48,
   "id": "bfbfe11a",
   "metadata": {},
   "outputs": [],
   "source": [
    "cos = nn.CosineSimilarity(dim=0, eps=1e-6)\n",
    "\n",
    "def cosine_sim(a,b):\n",
    "    ''' calculate cosine similarity b/w a&b'''\n",
    "    return cos(a.flatten(), b.flatten())\n",
    "\n"
   ]
  },
  {
   "cell_type": "code",
   "execution_count": 49,
   "id": "25b6af1d",
   "metadata": {},
   "outputs": [
    {
     "name": "stdout",
     "output_type": "stream",
     "text": [
      "For sample-3 and 3s-average\n",
      "tensor(0.1114) tensor(0.2021) tensor(0.8252)\n",
      "\n",
      "For sample-3 and 7s-average\n",
      "tensor(0.1586) tensor(0.3021) tensor(0.5241)\n"
     ]
    }
   ],
   "source": [
    "# Now let's see all 3 metrics\n",
    "print('For sample-3 and 3s-average')\n",
    "print(l1_norm(sample_3, threes_avg, True), l2_norm(sample_3, threes_avg, True), cosine_sim(sample_3, threes_avg))\n",
    "print('\\nFor sample-3 and 7s-average')\n",
    "print(l1_norm(sample_3, sevens_avg, True), l2_norm(sample_3, sevens_avg, True), cosine_sim(sample_3, sevens_avg))"
   ]
  },
  {
   "cell_type": "markdown",
   "id": "0be3ec2c",
   "metadata": {},
   "source": [
    "Now let's build a classifier by finding `l1_norm` and picking the closest template as answer"
   ]
  },
  {
   "cell_type": "code",
   "execution_count": 50,
   "id": "fa273c69",
   "metadata": {},
   "outputs": [],
   "source": [
    "def is_3(a, metric):\n",
    "    if metric==cosine_sim:\n",
    "        return metric(a,threes_avg)>metric(a, sevens_avg)\n",
    "    else:\n",
    "        return metric(a,threes_avg)<metric(a, sevens_avg)\n",
    "    "
   ]
  },
  {
   "cell_type": "code",
   "execution_count": 51,
   "id": "f047a770",
   "metadata": {},
   "outputs": [
    {
     "data": {
      "text/plain": [
       "torch.Size([1010, 28, 28])"
      ]
     },
     "execution_count": 51,
     "metadata": {},
     "output_type": "execute_result"
    }
   ],
   "source": [
    "# laod validation\n",
    "valid_threes = torch.stack([tensor(Image.open(o)).float() for o in (path/'valid/3').ls()], 0) # stack -  kaunsi index ki axis ka count badhana hai - 0\n",
    "valid_threes.shape"
   ]
  },
  {
   "cell_type": "code",
   "execution_count": 52,
   "id": "6af3b5b3",
   "metadata": {},
   "outputs": [
    {
     "data": {
      "text/plain": [
       "torch.Size([1028, 28, 28])"
      ]
     },
     "execution_count": 52,
     "metadata": {},
     "output_type": "execute_result"
    }
   ],
   "source": [
    "valid_sevens = torch.stack([tensor(Image.open(o)).float() for o in (path/'valid/7').ls()], 0) # stack -  kaunsi index ki axis ka count badhana hai - 0\n",
    "valid_sevens.shape"
   ]
  },
  {
   "cell_type": "code",
   "execution_count": 53,
   "id": "7bd9572c",
   "metadata": {},
   "outputs": [
    {
     "data": {
      "text/plain": [
       "tensor(True)"
      ]
     },
     "execution_count": 53,
     "metadata": {},
     "output_type": "execute_result"
    }
   ],
   "source": [
    "three_preds = is_3(valid_threes, metric=l1_norm)\n",
    "three_preds"
   ]
  },
  {
   "cell_type": "markdown",
   "id": "2dd785f8",
   "metadata": {},
   "source": [
    "- This means that my current code is not doing any broadcasting. So, what could I possibly correct?\n",
    "- Torch should be doing broadcasting automatically. But it is not? \n",
    "- Broadcasting is required where? - at `.mean()` step. \n",
    "- **SO, I need to modiy my `.mean()` in defined metrics**\n",
    "- last time I was using rank 2 tensors for calculating `l1_norm` or `l2_norm`. But now, we have **rank 3** tensors. So, for broadcasting we will have to define *axis* information"
   ]
  },
  {
   "cell_type": "code",
   "execution_count": 54,
   "id": "cad10f68",
   "metadata": {},
   "outputs": [],
   "source": [
    "def l1_norm(a,b, normalise = False):\n",
    "    ''' calculate l1 norm or mae b/w two tensors a & b'''\n",
    "    if normalise:\n",
    "        a = a/255.\n",
    "        b = b/255.\n",
    "    return abs(a-b).mean((1,2))\n",
    "\n",
    "def l2_norm(a,b, normalise = False):\n",
    "    ''' calculate l2 norm or mse.sqrt() b/w two tensors a & b'''\n",
    "    if normalise:\n",
    "        a = a/255.\n",
    "        b = b/255.\n",
    "    return ((a-b)**2).mean((1,2)).sqrt()\n",
    "\n",
    "cos = nn.CosineSimilarity(dim=0, eps=1e-6)\n",
    "\n",
    "def cosine_sim(a,b):\n",
    "    ''' calculate cosine similarity b/w a&b'''\n",
    "    return cos(a.flatten(), b.flatten())\n",
    "\n"
   ]
  },
  {
   "cell_type": "code",
   "execution_count": 55,
   "id": "addae215",
   "metadata": {},
   "outputs": [
    {
     "data": {
      "text/plain": [
       "tensor([ True,  True,  True,  ..., False,  True,  True])"
      ]
     },
     "execution_count": 55,
     "metadata": {},
     "output_type": "execute_result"
    }
   ],
   "source": [
    "# let's try again\n",
    "three_preds = is_3(valid_threes, metric=l1_norm)\n",
    "three_preds"
   ]
  },
  {
   "cell_type": "code",
   "execution_count": 56,
   "id": "0641c31e",
   "metadata": {},
   "outputs": [
    {
     "data": {
      "text/plain": [
       "torch.Size([1010])"
      ]
     },
     "execution_count": 56,
     "metadata": {},
     "output_type": "execute_result"
    }
   ],
   "source": [
    "three_preds.shape"
   ]
  },
  {
   "cell_type": "markdown",
   "id": "7250b9b8",
   "metadata": {},
   "source": [
    "Hurray!! Job Done\n",
    "- Now we convert binary `True/ False` into 1.0 or 0.0 (float)"
   ]
  },
  {
   "cell_type": "code",
   "execution_count": 57,
   "id": "731ca15a",
   "metadata": {},
   "outputs": [
    {
     "data": {
      "text/plain": [
       "tensor([1., 1., 1.,  ..., 0., 1., 1.])"
      ]
     },
     "execution_count": 57,
     "metadata": {},
     "output_type": "execute_result"
    }
   ],
   "source": [
    "three_preds = three_preds.float()\n",
    "three_preds"
   ]
  },
  {
   "cell_type": "code",
   "execution_count": 58,
   "id": "e4ec3030",
   "metadata": {},
   "outputs": [
    {
     "data": {
      "text/plain": [
       "torch.Size([1028])"
      ]
     },
     "execution_count": 58,
     "metadata": {},
     "output_type": "execute_result"
    }
   ],
   "source": [
    "seven_preds = 1-is_3(valid_sevens, metric = l1_norm).float()\n",
    "seven_preds.shape"
   ]
  },
  {
   "cell_type": "code",
   "execution_count": 59,
   "id": "1136a98b",
   "metadata": {},
   "outputs": [
    {
     "data": {
      "text/plain": [
       "(tensor(0.9168), tensor(0.9854), tensor(0.9511))"
      ]
     },
     "execution_count": 59,
     "metadata": {},
     "output_type": "execute_result"
    }
   ],
   "source": [
    "acc_3 = three_preds.mean()\n",
    "acc_7 = seven_preds.mean()\n",
    "total_acc = (acc_3+acc_7)/2\n",
    "acc_3, acc_7, total_acc"
   ]
  },
  {
   "cell_type": "markdown",
   "id": "743c6465",
   "metadata": {},
   "source": [
    "# Let's see if `L2 norm` changes the accuracy or not"
   ]
  },
  {
   "cell_type": "code",
   "execution_count": 60,
   "id": "70e81c5e",
   "metadata": {},
   "outputs": [
    {
     "data": {
      "text/plain": [
       "(tensor(0.9584), tensor(0.9737), tensor(0.9661))"
      ]
     },
     "execution_count": 60,
     "metadata": {},
     "output_type": "execute_result"
    }
   ],
   "source": [
    "three_preds = is_3(valid_threes, metric=l2_norm).float()\n",
    "seven_preds = 1-is_3(valid_sevens, metric = l2_norm).float()\n",
    "acc_3 = three_preds.mean()\n",
    "acc_7 = seven_preds.mean()\n",
    "total_acc = (acc_3+acc_7)/2\n",
    "acc_3, acc_7, total_acc"
   ]
  },
  {
   "cell_type": "markdown",
   "id": "afd47373",
   "metadata": {},
   "source": [
    "# Let's see if `cosine_sim` changes the accuracy or not"
   ]
  },
  {
   "cell_type": "code",
   "execution_count": 61,
   "id": "c49efb06",
   "metadata": {
    "scrolled": true
   },
   "outputs": [
    {
     "ename": "RuntimeError",
     "evalue": "The size of tensor a (791840) must match the size of tensor b (784) at non-singleton dimension 0",
     "output_type": "error",
     "traceback": [
      "\u001b[1;31m---------------------------------------------------------------------------\u001b[0m",
      "\u001b[1;31mRuntimeError\u001b[0m                              Traceback (most recent call last)",
      "Cell \u001b[1;32mIn[61], line 1\u001b[0m\n\u001b[1;32m----> 1\u001b[0m three_preds \u001b[38;5;241m=\u001b[39m \u001b[43mis_3\u001b[49m\u001b[43m(\u001b[49m\u001b[43mvalid_threes\u001b[49m\u001b[43m,\u001b[49m\u001b[43m \u001b[49m\u001b[43mmetric\u001b[49m\u001b[38;5;241;43m=\u001b[39;49m\u001b[43mcosine_sim\u001b[49m\u001b[43m)\u001b[49m\u001b[38;5;241m.\u001b[39mfloat()\n\u001b[0;32m      2\u001b[0m three_preds\n",
      "Cell \u001b[1;32mIn[50], line 3\u001b[0m, in \u001b[0;36mis_3\u001b[1;34m(a, metric)\u001b[0m\n\u001b[0;32m      1\u001b[0m \u001b[38;5;28;01mdef\u001b[39;00m \u001b[38;5;21mis_3\u001b[39m(a, metric):\n\u001b[0;32m      2\u001b[0m     \u001b[38;5;28;01mif\u001b[39;00m metric\u001b[38;5;241m==\u001b[39mcosine_sim:\n\u001b[1;32m----> 3\u001b[0m         \u001b[38;5;28;01mreturn\u001b[39;00m \u001b[43mmetric\u001b[49m\u001b[43m(\u001b[49m\u001b[43ma\u001b[49m\u001b[43m,\u001b[49m\u001b[43mthrees_avg\u001b[49m\u001b[43m)\u001b[49m\u001b[38;5;241m>\u001b[39mmetric(a, sevens_avg)\n\u001b[0;32m      4\u001b[0m     \u001b[38;5;28;01melse\u001b[39;00m:\n\u001b[0;32m      5\u001b[0m         \u001b[38;5;28;01mreturn\u001b[39;00m metric(a,threes_avg)\u001b[38;5;241m<\u001b[39mmetric(a, sevens_avg)\n",
      "Cell \u001b[1;32mIn[54], line 19\u001b[0m, in \u001b[0;36mcosine_sim\u001b[1;34m(a, b)\u001b[0m\n\u001b[0;32m     17\u001b[0m \u001b[38;5;28;01mdef\u001b[39;00m \u001b[38;5;21mcosine_sim\u001b[39m(a,b):\n\u001b[0;32m     18\u001b[0m \u001b[38;5;250m    \u001b[39m\u001b[38;5;124;03m''' calculate cosine similarity b/w a&b'''\u001b[39;00m\n\u001b[1;32m---> 19\u001b[0m     \u001b[38;5;28;01mreturn\u001b[39;00m \u001b[43mcos\u001b[49m\u001b[43m(\u001b[49m\u001b[43ma\u001b[49m\u001b[38;5;241;43m.\u001b[39;49m\u001b[43mflatten\u001b[49m\u001b[43m(\u001b[49m\u001b[43m)\u001b[49m\u001b[43m,\u001b[49m\u001b[43m \u001b[49m\u001b[43mb\u001b[49m\u001b[38;5;241;43m.\u001b[39;49m\u001b[43mflatten\u001b[49m\u001b[43m(\u001b[49m\u001b[43m)\u001b[49m\u001b[43m)\u001b[49m\n",
      "File \u001b[1;32mC:\\ProgramData\\Anaconda3\\envs\\ai\\lib\\site-packages\\torch\\nn\\modules\\module.py:1194\u001b[0m, in \u001b[0;36mModule._call_impl\u001b[1;34m(self, *input, **kwargs)\u001b[0m\n\u001b[0;32m   1190\u001b[0m \u001b[38;5;66;03m# If we don't have any hooks, we want to skip the rest of the logic in\u001b[39;00m\n\u001b[0;32m   1191\u001b[0m \u001b[38;5;66;03m# this function, and just call forward.\u001b[39;00m\n\u001b[0;32m   1192\u001b[0m \u001b[38;5;28;01mif\u001b[39;00m \u001b[38;5;129;01mnot\u001b[39;00m (\u001b[38;5;28mself\u001b[39m\u001b[38;5;241m.\u001b[39m_backward_hooks \u001b[38;5;129;01mor\u001b[39;00m \u001b[38;5;28mself\u001b[39m\u001b[38;5;241m.\u001b[39m_forward_hooks \u001b[38;5;129;01mor\u001b[39;00m \u001b[38;5;28mself\u001b[39m\u001b[38;5;241m.\u001b[39m_forward_pre_hooks \u001b[38;5;129;01mor\u001b[39;00m _global_backward_hooks\n\u001b[0;32m   1193\u001b[0m         \u001b[38;5;129;01mor\u001b[39;00m _global_forward_hooks \u001b[38;5;129;01mor\u001b[39;00m _global_forward_pre_hooks):\n\u001b[1;32m-> 1194\u001b[0m     \u001b[38;5;28;01mreturn\u001b[39;00m forward_call(\u001b[38;5;241m*\u001b[39m\u001b[38;5;28minput\u001b[39m, \u001b[38;5;241m*\u001b[39m\u001b[38;5;241m*\u001b[39mkwargs)\n\u001b[0;32m   1195\u001b[0m \u001b[38;5;66;03m# Do not call functions when jit is used\u001b[39;00m\n\u001b[0;32m   1196\u001b[0m full_backward_hooks, non_full_backward_hooks \u001b[38;5;241m=\u001b[39m [], []\n",
      "File \u001b[1;32mC:\\ProgramData\\Anaconda3\\envs\\ai\\lib\\site-packages\\torch\\nn\\modules\\distance.py:87\u001b[0m, in \u001b[0;36mCosineSimilarity.forward\u001b[1;34m(self, x1, x2)\u001b[0m\n\u001b[0;32m     86\u001b[0m \u001b[38;5;28;01mdef\u001b[39;00m \u001b[38;5;21mforward\u001b[39m(\u001b[38;5;28mself\u001b[39m, x1: Tensor, x2: Tensor) \u001b[38;5;241m-\u001b[39m\u001b[38;5;241m>\u001b[39m Tensor:\n\u001b[1;32m---> 87\u001b[0m     \u001b[38;5;28;01mreturn\u001b[39;00m \u001b[43mF\u001b[49m\u001b[38;5;241;43m.\u001b[39;49m\u001b[43mcosine_similarity\u001b[49m\u001b[43m(\u001b[49m\u001b[43mx1\u001b[49m\u001b[43m,\u001b[49m\u001b[43m \u001b[49m\u001b[43mx2\u001b[49m\u001b[43m,\u001b[49m\u001b[43m \u001b[49m\u001b[38;5;28;43mself\u001b[39;49m\u001b[38;5;241;43m.\u001b[39;49m\u001b[43mdim\u001b[49m\u001b[43m,\u001b[49m\u001b[43m \u001b[49m\u001b[38;5;28;43mself\u001b[39;49m\u001b[38;5;241;43m.\u001b[39;49m\u001b[43meps\u001b[49m\u001b[43m)\u001b[49m\n",
      "\u001b[1;31mRuntimeError\u001b[0m: The size of tensor a (791840) must match the size of tensor b (784) at non-singleton dimension 0"
     ]
    }
   ],
   "source": [
    "three_preds = is_3(valid_threes, metric=cosine_sim).float()\n",
    "three_preds"
   ]
  },
  {
   "cell_type": "markdown",
   "id": "07df3619",
   "metadata": {},
   "source": [
    "Hence we need to modify the way we are flattening in `cosine_sim` so that broadcasting can be done"
   ]
  },
  {
   "cell_type": "code",
   "execution_count": 62,
   "id": "4dfe4b36",
   "metadata": {},
   "outputs": [
    {
     "data": {
      "text/plain": [
       "torch.Size([1010, 784])"
      ]
     },
     "execution_count": 62,
     "metadata": {},
     "output_type": "execute_result"
    }
   ],
   "source": [
    "# trials\n",
    "xx = valid_threes.flatten(start_dim=1, end_dim=2)\n",
    "xx.shape"
   ]
  },
  {
   "cell_type": "code",
   "execution_count": 63,
   "id": "803a1dbd",
   "metadata": {},
   "outputs": [],
   "source": [
    "# let's include this modification\n",
    "def cosine_sim(a,b):\n",
    "    ''' calculate cosine similarity b/w a&b'''\n",
    "    return cos(a.flatten(start_dim=1, end_dim=2), b.flatten())"
   ]
  },
  {
   "cell_type": "code",
   "execution_count": 64,
   "id": "a8423062",
   "metadata": {},
   "outputs": [
    {
     "data": {
      "text/plain": [
       "torch.Size([784])"
      ]
     },
     "execution_count": 64,
     "metadata": {},
     "output_type": "execute_result"
    }
   ],
   "source": [
    "# now see how it works\n",
    "cosine_sim(valid_threes,threes_avg).shape"
   ]
  },
  {
   "cell_type": "markdown",
   "id": "77cbb7c2",
   "metadata": {},
   "source": [
    "This means it is finding similarity along wrong axis. Let's modify further\n",
    "- modified `dim=1` from `0` (previously)"
   ]
  },
  {
   "cell_type": "code",
   "execution_count": 65,
   "id": "a3acd05c",
   "metadata": {},
   "outputs": [],
   "source": [
    "# dim =1 not 0\n",
    "cos = nn.CosineSimilarity(dim=1, eps=1e-6)\n",
    "# from last time modification\n",
    "def cosine_sim(a,b):\n",
    "    ''' calculate cosine similarity b/w a&b'''\n",
    "    return cos(a.flatten(start_dim=1, end_dim=2), b.flatten())"
   ]
  },
  {
   "cell_type": "code",
   "execution_count": 66,
   "id": "3a74f589",
   "metadata": {},
   "outputs": [
    {
     "data": {
      "text/plain": [
       "torch.Size([1010])"
      ]
     },
     "execution_count": 66,
     "metadata": {},
     "output_type": "execute_result"
    }
   ],
   "source": [
    "cosine_sim(valid_threes,threes_avg).shape"
   ]
  },
  {
   "cell_type": "markdown",
   "id": "c377a965",
   "metadata": {},
   "source": [
    "##### Hurray!! now it works"
   ]
  },
  {
   "cell_type": "code",
   "execution_count": 67,
   "id": "f09898e1",
   "metadata": {},
   "outputs": [
    {
     "data": {
      "text/plain": [
       "(tensor(0.9683), tensor(0.9582), tensor(0.9632))"
      ]
     },
     "execution_count": 67,
     "metadata": {},
     "output_type": "execute_result"
    }
   ],
   "source": [
    "# let's see cosine_sim performance\n",
    "three_preds = is_3(valid_threes, metric=cosine_sim).float()\n",
    "seven_preds = 1-is_3(valid_sevens, metric = cosine_sim).float()\n",
    "acc_3 = three_preds.mean()\n",
    "acc_7 = seven_preds.mean()\n",
    "total_acc = (acc_3+acc_7)/2\n",
    "acc_3, acc_7, total_acc"
   ]
  },
  {
   "cell_type": "code",
   "execution_count": 68,
   "id": "cfe003cd",
   "metadata": {},
   "outputs": [],
   "source": [
    "# effect of metric on performance\n",
    "l1_norm_performance = (tensor(0.9168), tensor(0.9854), tensor(0.9511))\n",
    "l2_norm_performance = (tensor(0.9584), tensor(0.9737), tensor(0.9661))\n",
    "cosine_sim_performance = (tensor(0.9683), tensor(0.9582), tensor(0.9632))"
   ]
  },
  {
   "cell_type": "markdown",
   "id": "8df6f25a",
   "metadata": {},
   "source": [
    "**Lessons Learned** - \n",
    "1. metrics for sample example (rank-2/3 tensor) and metrics for running on stacked tensors (rank-3/4 tensor) or perhaps batched tensors (rank-4 tensors) would require modification in axis\n",
    "2. `.mean()` - kaunsi axis khatam karni hai\n",
    "3. `.stack()`  -kaunse index ki axis ka number badhana hai"
   ]
  },
  {
   "cell_type": "markdown",
   "id": "28f22fda",
   "metadata": {},
   "source": [
    "# See how a Neural Net learns"
   ]
  },
  {
   "cell_type": "code",
   "execution_count": 69,
   "id": "8bdffc08",
   "metadata": {},
   "outputs": [
    {
     "data": {
      "text/plain": [
       "6"
      ]
     },
     "execution_count": 69,
     "metadata": {},
     "output_type": "execute_result"
    }
   ],
   "source": [
    "def quad(a,b,c,x):\n",
    "    return a*x**2+b*x+c\n",
    "\n",
    "f = quad(3,2,1,1)\n",
    "f"
   ]
  },
  {
   "cell_type": "markdown",
   "id": "ac6f48d8",
   "metadata": {},
   "source": [
    "Let x varies from -2 to 2 and plot the y values"
   ]
  },
  {
   "cell_type": "code",
   "execution_count": 94,
   "id": "c12f3beb",
   "metadata": {},
   "outputs": [
    {
     "data": {
      "text/plain": [
       "tensor([-2, -1,  0,  1,  2])"
      ]
     },
     "execution_count": 94,
     "metadata": {},
     "output_type": "execute_result"
    }
   ],
   "source": [
    "x = torch.arange(-2,3) # last value i.e. 3 is not included\n",
    "x"
   ]
  },
  {
   "cell_type": "code",
   "execution_count": 80,
   "id": "693903df",
   "metadata": {},
   "outputs": [
    {
     "data": {
      "text/plain": [
       "[tensor(9), tensor(2), tensor(1), tensor(6), tensor(17)]"
      ]
     },
     "execution_count": 80,
     "metadata": {},
     "output_type": "execute_result"
    }
   ],
   "source": [
    "y = [quad(3,2,1,z) for z in x]\n",
    "y"
   ]
  },
  {
   "cell_type": "markdown",
   "id": "6b37f46f",
   "metadata": {},
   "source": [
    "** Another simple trick using broadcasting and avoiding loops like in above**"
   ]
  },
  {
   "cell_type": "code",
   "execution_count": 81,
   "id": "0bddd7a5",
   "metadata": {},
   "outputs": [
    {
     "data": {
      "text/plain": [
       "tensor([ 9,  2,  1,  6, 17])"
      ]
     },
     "execution_count": 81,
     "metadata": {},
     "output_type": "execute_result"
    }
   ],
   "source": [
    "y = quad(3,2,1,x)\n",
    "y"
   ]
  },
  {
   "cell_type": "markdown",
   "id": "5870c821",
   "metadata": {},
   "source": [
    "Let's check the time savings using broadcasting "
   ]
  },
  {
   "cell_type": "code",
   "execution_count": 102,
   "id": "6ae4499b",
   "metadata": {},
   "outputs": [],
   "source": [
    "x = torch.arange(-1000,1000) # let's increase number of operation"
   ]
  },
  {
   "cell_type": "code",
   "execution_count": 104,
   "id": "a362478f",
   "metadata": {},
   "outputs": [
    {
     "name": "stdout",
     "output_type": "stream",
     "text": [
      "Time (microsec):  36641.597747802734\n"
     ]
    }
   ],
   "source": [
    "start = time.time()\n",
    "y = [quad(3,2,1,z) for z in x]\n",
    "end = time.time()\n",
    "print('Time (microsec): ', (end-start)*1000000)"
   ]
  },
  {
   "cell_type": "code",
   "execution_count": 105,
   "id": "7572c97a",
   "metadata": {},
   "outputs": [
    {
     "name": "stdout",
     "output_type": "stream",
     "text": [
      "Time(microsec):  1000.8811950683594\n"
     ]
    }
   ],
   "source": [
    "start = time.time()\n",
    "y = quad(3,2,1,x)\n",
    "end = time.time()\n",
    "print('Time(microsec): ', (end-start)*1000000)"
   ]
  },
  {
   "cell_type": "code",
   "execution_count": 106,
   "id": "0a75293d",
   "metadata": {},
   "outputs": [
    {
     "data": {
      "text/plain": [
       "<matplotlib.collections.PathCollection at 0x1ee7305bdc0>"
      ]
     },
     "execution_count": 106,
     "metadata": {},
     "output_type": "execute_result"
    },
    {
     "data": {
      "image/png": "[encoded data removed]",
      "text/plain": [
       "<Figure size 400x200 with 1 Axes>"
      ]
     },
     "metadata": {},
     "output_type": "display_data"
    }
   ],
   "source": [
    "plt.figure(figsize=(4,2))\n",
    "plt.scatter(x,y)"
   ]
  },
  {
   "cell_type": "code",
   "execution_count": 77,
   "id": "989bc15a",
   "metadata": {},
   "outputs": [
    {
     "data": {
      "text/plain": [
       "tensor([-2.0000,  0.5000,  3.0000])"
      ]
     },
     "execution_count": 77,
     "metadata": {},
     "output_type": "execute_result"
    }
   ],
   "source": [
    "?torch.linspace"
   ]
  },
  {
   "cell_type": "markdown",
   "id": "2c213852",
   "metadata": {},
   "source": [
    "Let's create a function to plot graphs given a function"
   ]
  },
  {
   "cell_type": "code",
   "execution_count": 111,
   "id": "d14be650",
   "metadata": {},
   "outputs": [],
   "source": [
    "?plt.ylim"
   ]
  },
  {
   "cell_type": "code",
   "execution_count": 166,
   "id": "d48ada5a",
   "metadata": {},
   "outputs": [],
   "source": [
    "def plot_func(params, xmin=-2, xmax = 2, ylim =(-2,18), title = None, color = 'red', num_points = 10):\n",
    "    x = torch.linspace(xmin,xmax, num_points)\n",
    "    y = quad(*params,x)\n",
    "    #plt.figure(figsize=(4,2))\n",
    "    plt.scatter(x,y, c = color)\n",
    "    plt.ylim(ylim)\n",
    "    if title is not None:\n",
    "        plt.title(title)\n"
   ]
  },
  {
   "cell_type": "code",
   "execution_count": 129,
   "id": "2fa4b3a4",
   "metadata": {},
   "outputs": [
    {
     "data": {
      "image/png": "[encoded data removed]",
      "text/plain": [
       "<Figure size 400x200 with 1 Axes>"
      ]
     },
     "metadata": {},
     "output_type": "display_data"
    }
   ],
   "source": [
    "params = [3,2,1]\n",
    "plt.figure(figsize=(4,2))\n",
    "plot_func(params, xmin=-2, xmax = 2, ylim =(-2,18), title = None, color = 'red')"
   ]
  },
  {
   "cell_type": "code",
   "execution_count": 2,
   "id": "872e7f84",
   "metadata": {},
   "outputs": [],
   "source": [
    "# source: https://ipywidgets.readthedocs.io/en/latest/examples/Using%20Interact.html\n",
    "from ipywidgets import interact, interactive, fixed, interact_manual\n",
    "import ipywidgets as widgets"
   ]
  },
  {
   "cell_type": "code",
   "execution_count": 131,
   "id": "b05db45a",
   "metadata": {},
   "outputs": [
    {
     "data": {
      "application/vnd.jupyter.widget-view+json": {
       "model_id": "647050ac754d4dd1a141dd7f0e67fd8c",
       "version_major": 2,
       "version_minor": 0
      },
      "text/plain": [
       "interactive(children=(FloatSlider(value=1.1, description='a', max=3.3000000000000003, min=-1.1), FloatSlider(v…"
      ]
     },
     "metadata": {},
     "output_type": "display_data"
    }
   ],
   "source": [
    "@interact(a=1.1,b=2.5,c=2.5)\n",
    "def g(a,b,c):\n",
    "    params = [3,2,1]\n",
    "    plot_func(params, xmin=-2, xmax = 2, ylim =(-2,18), title = None, color = 'red')\n",
    "    params2 = [a,b,c]\n",
    "    plot_func(params2, xmin=-2, xmax = 2, ylim =(-2,18), title = None, color = 'blue', num_points=100)\n"
   ]
  },
  {
   "cell_type": "markdown",
   "id": "56f25983",
   "metadata": {},
   "source": [
    "Here we wont be  knowing the wellness of fit. Alsom since my red dots were from a perfect quadratic let's add noise and make it as a problem of fiitting best curve"
   ]
  },
  {
   "cell_type": "code",
   "execution_count": 133,
   "id": "648e8ed4",
   "metadata": {},
   "outputs": [
    {
     "data": {
      "text/plain": [
       "tensor([-2.0000, -1.7143, -1.4286, -1.1429, -0.8571, -0.5714, -0.2857,  0.0000,\n",
       "         0.2857,  0.5714,  0.8571,  1.1429,  1.4286,  1.7143,  2.0000])"
      ]
     },
     "execution_count": 133,
     "metadata": {},
     "output_type": "execute_result"
    }
   ],
   "source": [
    "x = torch.linspace(-2,2, 15) # linspace include the highest number\n",
    "x"
   ]
  },
  {
   "cell_type": "code",
   "execution_count": 137,
   "id": "b1499a9f",
   "metadata": {},
   "outputs": [
    {
     "data": {
      "text/plain": [
       "tensor([ 0.2655, -0.8188,  0.2074, -0.2230,  0.0577,  0.5243, -0.3061, -0.9789,\n",
       "        -0.1542,  1.2832, -0.4217,  0.6343, -0.4541,  0.7993,  1.1855])"
      ]
     },
     "execution_count": 137,
     "metadata": {},
     "output_type": "execute_result"
    }
   ],
   "source": [
    "add_noise = 0.5*(torch.randn(len(x)))\n",
    "add_noise"
   ]
  },
  {
   "cell_type": "code",
   "execution_count": 138,
   "id": "862a263c",
   "metadata": {},
   "outputs": [
    {
     "data": {
      "text/plain": [
       "tensor([0.9615, 0.9920, 1.0367, 1.0874, 1.0856, 1.0431, 1.0331, 1.0198, 1.0772,\n",
       "        1.0096, 0.9882, 0.9495, 1.0705, 0.9825, 0.9520])"
      ]
     },
     "execution_count": 138,
     "metadata": {},
     "output_type": "execute_result"
    }
   ],
   "source": [
    "mult_noise = 1+ 0.05*(torch.randn(len(x)))\n",
    "mult_noise"
   ]
  },
  {
   "cell_type": "code",
   "execution_count": 139,
   "id": "db1f30b3",
   "metadata": {},
   "outputs": [
    {
     "data": {
      "text/plain": [
       "tensor([ 9.0000,  6.3878,  4.2653,  2.6327,  1.4898,  0.8367,  0.6735,  1.0000,\n",
       "         1.8163,  3.1224,  4.9184,  7.2041,  9.9796, 13.2449, 17.0000])"
      ]
     },
     "execution_count": 139,
     "metadata": {},
     "output_type": "execute_result"
    }
   ],
   "source": [
    "y_ideal = quad(3,2,1,x)\n",
    "y_ideal"
   ]
  },
  {
   "cell_type": "code",
   "execution_count": 143,
   "id": "e7826b31",
   "metadata": {},
   "outputs": [
    {
     "data": {
      "text/plain": [
       "tensor([ 8.9194,  5.5179,  4.6290,  2.6398,  1.6751,  1.3971,  0.3897,  0.0409,\n",
       "         1.8024,  4.4356,  4.4384,  7.4743, 10.2295, 13.8127, 17.3702])"
      ]
     },
     "execution_count": 143,
     "metadata": {},
     "output_type": "execute_result"
    }
   ],
   "source": [
    "y_synthetic = y_ideal*mult_noise+add_noise\n",
    "y_synthetic"
   ]
  },
  {
   "cell_type": "code",
   "execution_count": 165,
   "id": "84e74b67",
   "metadata": {},
   "outputs": [
    {
     "data": {
      "text/plain": [
       "<matplotlib.collections.PathCollection at 0x1ee7bcae620>"
      ]
     },
     "execution_count": 165,
     "metadata": {},
     "output_type": "execute_result"
    },
    {
     "data": {
      "image/png": "[encoded data removed]",
      "text/plain": [
       "<Figure size 400x300 with 1 Axes>"
      ]
     },
     "metadata": {},
     "output_type": "display_data"
    }
   ],
   "source": [
    "plt.figure(figsize=(4,3))\n",
    "plt.scatter(x,y_synthetic, c='red')\n"
   ]
  },
  {
   "cell_type": "code",
   "execution_count": 151,
   "id": "8ec782c7",
   "metadata": {},
   "outputs": [
    {
     "data": {
      "application/vnd.jupyter.widget-view+json": {
       "model_id": "13631a196d794a0baf9cbd7e32399539",
       "version_major": 2,
       "version_minor": 0
      },
      "text/plain": [
       "interactive(children=(IntSlider(value=1, description='a', max=3, min=-1), IntSlider(value=1, description='b', …"
      ]
     },
     "metadata": {},
     "output_type": "display_data"
    }
   ],
   "source": [
    "@interact(a=1,b=1,c=1)\n",
    "def g(a,b,c):\n",
    "    plt.figure(figsize=(4,3))\n",
    "    plt.scatter(x,y_synthetic, c='red')\n",
    "    params = [a,b,c]\n",
    "    plot_func(params, xmin=-2, xmax = 2, ylim =(-2,18), title = None, color = 'blue', num_points=100)"
   ]
  },
  {
   "cell_type": "markdown",
   "id": "b9bd5154",
   "metadata": {},
   "source": [
    "We see this create slider to change at every integer, we don;t want that. Just modify a=1. instead of 1"
   ]
  },
  {
   "cell_type": "markdown",
   "id": "b30e1c21",
   "metadata": {},
   "source": [
    "Let's find value to determine the closeness to fit: Mean square error"
   ]
  },
  {
   "cell_type": "code",
   "execution_count": 170,
   "id": "df94a5db",
   "metadata": {},
   "outputs": [
    {
     "data": {
      "application/vnd.jupyter.widget-view+json": {
       "model_id": "0860aa03618c4082a5e3ffd859f422d1",
       "version_major": 2,
       "version_minor": 0
      },
      "text/plain": [
       "interactive(children=(FloatSlider(value=1.0, description='a', max=3.0, min=-1.0), FloatSlider(value=1.0, descr…"
      ]
     },
     "metadata": {},
     "output_type": "display_data"
    }
   ],
   "source": [
    "@interact(a=1.,b=1.,c=1.)\n",
    "def g(a,b,c):\n",
    "    plt.figure(figsize=(4,3))\n",
    "    plt.scatter(x,y_synthetic, c='red')\n",
    "    params = [a,b,c]\n",
    "    y_preds = quad(a,b,c,x)\n",
    "    mse = ((y_synthetic-y_preds)**2).mean()\n",
    "    print('\\tMSE', mse.item())\n",
    "    plot_func(params, xmin=-2, xmax = 2, ylim =(-2,18), color = 'blue', num_points=100)"
   ]
  },
  {
   "cell_type": "code",
   "execution_count": 171,
   "id": "886ea093",
   "metadata": {},
   "outputs": [],
   "source": [
    "# Now create a neural network to do this automatically"
   ]
  },
  {
   "cell_type": "code",
   "execution_count": 173,
   "id": "e8d70def",
   "metadata": {},
   "outputs": [
    {
     "data": {
      "text/plain": [
       "(tensor(-0.4048), tensor(-1.3822), tensor(0.7067))"
      ]
     },
     "execution_count": 173,
     "metadata": {},
     "output_type": "execute_result"
    }
   ],
   "source": [
    "a,b,c = torch.randn(3)\n",
    "a,b,c"
   ]
  },
  {
   "cell_type": "code",
   "execution_count": 175,
   "id": "34a6d2d7",
   "metadata": {},
   "outputs": [
    {
     "data": {
      "text/plain": [
       "tensor([ 9.0000,  6.3878,  4.2653,  2.6327,  1.4898,  0.8367,  0.6735,  1.0000,\n",
       "         1.8163,  3.1224,  4.9184,  7.2041,  9.9796, 13.2449, 17.0000])"
      ]
     },
     "execution_count": 175,
     "metadata": {},
     "output_type": "execute_result"
    }
   ],
   "source": [
    "y_preds = quad(3,2,1,x)\n",
    "y_preds"
   ]
  },
  {
   "cell_type": "code",
   "execution_count": 176,
   "id": "a9b60731",
   "metadata": {},
   "outputs": [
    {
     "data": {
      "text/plain": [
       "tensor([ 8.9194,  5.5179,  4.6290,  2.6398,  1.6751,  1.3971,  0.3897,  0.0409,\n",
       "         1.8024,  4.4356,  4.4384,  7.4743, 10.2295, 13.8127, 17.3702])"
      ]
     },
     "execution_count": 176,
     "metadata": {},
     "output_type": "execute_result"
    }
   ],
   "source": [
    "y_true = y_synthetic # y_synthetic is basically truth for us. So let's just create this to intuitively use this variable\n",
    "y_true"
   ]
  },
  {
   "cell_type": "code",
   "execution_count": 177,
   "id": "80a92313",
   "metadata": {},
   "outputs": [
    {
     "data": {
      "text/plain": [
       "tensor(0.3196)"
      ]
     },
     "execution_count": 177,
     "metadata": {},
     "output_type": "execute_result"
    }
   ],
   "source": [
    "loss = ((y_preds - y_true)**2).mean()\n",
    "loss\n",
    "    "
   ]
  },
  {
   "cell_type": "markdown",
   "id": "fdc36677",
   "metadata": {},
   "source": [
    "Now we want to update parameters to reduce loss"
   ]
  },
  {
   "cell_type": "code",
   "execution_count": 178,
   "id": "32b39a47",
   "metadata": {},
   "outputs": [
    {
     "data": {
      "text/plain": [
       "(tensor(-0.4048, requires_grad=True),\n",
       " tensor(-1.3822, requires_grad=True),\n",
       " tensor(0.7067, requires_grad=True))"
      ]
     },
     "execution_count": 178,
     "metadata": {},
     "output_type": "execute_result"
    }
   ],
   "source": [
    "# let's say we want to derivative of something with respect to a,b,c\n",
    "a.requires_grad_()\n",
    "b.requires_grad_()\n",
    "c.requires_grad_()\n",
    "\n",
    "a,b,c"
   ]
  },
  {
   "cell_type": "code",
   "execution_count": 179,
   "id": "e9de1bb1",
   "metadata": {},
   "outputs": [
    {
     "ename": "RuntimeError",
     "evalue": "element 0 of tensors does not require grad and does not have a grad_fn",
     "output_type": "error",
     "traceback": [
      "\u001b[1;31m---------------------------------------------------------------------------\u001b[0m",
      "\u001b[1;31mRuntimeError\u001b[0m                              Traceback (most recent call last)",
      "Cell \u001b[1;32mIn[179], line 5\u001b[0m\n\u001b[0;32m      1\u001b[0m \u001b[38;5;66;03m# now we can take derivative of something with a,b,c\u001b[39;00m\n\u001b[0;32m      2\u001b[0m \u001b[38;5;66;03m# whose derivative we want? -> loss\u001b[39;00m\n\u001b[0;32m      3\u001b[0m \u001b[38;5;66;03m# let's do that by using .backward()\u001b[39;00m\n\u001b[1;32m----> 5\u001b[0m \u001b[43mloss\u001b[49m\u001b[38;5;241;43m.\u001b[39;49m\u001b[43mbackward\u001b[49m\u001b[43m(\u001b[49m\u001b[43m)\u001b[49m\n",
      "File \u001b[1;32mC:\\ProgramData\\Anaconda3\\envs\\ai\\lib\\site-packages\\torch\\_tensor.py:488\u001b[0m, in \u001b[0;36mTensor.backward\u001b[1;34m(self, gradient, retain_graph, create_graph, inputs)\u001b[0m\n\u001b[0;32m    478\u001b[0m \u001b[38;5;28;01mif\u001b[39;00m has_torch_function_unary(\u001b[38;5;28mself\u001b[39m):\n\u001b[0;32m    479\u001b[0m     \u001b[38;5;28;01mreturn\u001b[39;00m handle_torch_function(\n\u001b[0;32m    480\u001b[0m         Tensor\u001b[38;5;241m.\u001b[39mbackward,\n\u001b[0;32m    481\u001b[0m         (\u001b[38;5;28mself\u001b[39m,),\n\u001b[1;32m   (...)\u001b[0m\n\u001b[0;32m    486\u001b[0m         inputs\u001b[38;5;241m=\u001b[39minputs,\n\u001b[0;32m    487\u001b[0m     )\n\u001b[1;32m--> 488\u001b[0m \u001b[43mtorch\u001b[49m\u001b[38;5;241;43m.\u001b[39;49m\u001b[43mautograd\u001b[49m\u001b[38;5;241;43m.\u001b[39;49m\u001b[43mbackward\u001b[49m\u001b[43m(\u001b[49m\n\u001b[0;32m    489\u001b[0m \u001b[43m    \u001b[49m\u001b[38;5;28;43mself\u001b[39;49m\u001b[43m,\u001b[49m\u001b[43m \u001b[49m\u001b[43mgradient\u001b[49m\u001b[43m,\u001b[49m\u001b[43m \u001b[49m\u001b[43mretain_graph\u001b[49m\u001b[43m,\u001b[49m\u001b[43m \u001b[49m\u001b[43mcreate_graph\u001b[49m\u001b[43m,\u001b[49m\u001b[43m \u001b[49m\u001b[43minputs\u001b[49m\u001b[38;5;241;43m=\u001b[39;49m\u001b[43minputs\u001b[49m\n\u001b[0;32m    490\u001b[0m \u001b[43m\u001b[49m\u001b[43m)\u001b[49m\n",
      "File \u001b[1;32mC:\\ProgramData\\Anaconda3\\envs\\ai\\lib\\site-packages\\torch\\autograd\\__init__.py:197\u001b[0m, in \u001b[0;36mbackward\u001b[1;34m(tensors, grad_tensors, retain_graph, create_graph, grad_variables, inputs)\u001b[0m\n\u001b[0;32m    192\u001b[0m     retain_graph \u001b[38;5;241m=\u001b[39m create_graph\n\u001b[0;32m    194\u001b[0m \u001b[38;5;66;03m# The reason we repeat same the comment below is that\u001b[39;00m\n\u001b[0;32m    195\u001b[0m \u001b[38;5;66;03m# some Python versions print out the first line of a multi-line function\u001b[39;00m\n\u001b[0;32m    196\u001b[0m \u001b[38;5;66;03m# calls in the traceback and some print out the last line\u001b[39;00m\n\u001b[1;32m--> 197\u001b[0m \u001b[43mVariable\u001b[49m\u001b[38;5;241;43m.\u001b[39;49m\u001b[43m_execution_engine\u001b[49m\u001b[38;5;241;43m.\u001b[39;49m\u001b[43mrun_backward\u001b[49m\u001b[43m(\u001b[49m\u001b[43m  \u001b[49m\u001b[38;5;66;43;03m# Calls into the C++ engine to run the backward pass\u001b[39;49;00m\n\u001b[0;32m    198\u001b[0m \u001b[43m    \u001b[49m\u001b[43mtensors\u001b[49m\u001b[43m,\u001b[49m\u001b[43m \u001b[49m\u001b[43mgrad_tensors_\u001b[49m\u001b[43m,\u001b[49m\u001b[43m \u001b[49m\u001b[43mretain_graph\u001b[49m\u001b[43m,\u001b[49m\u001b[43m \u001b[49m\u001b[43mcreate_graph\u001b[49m\u001b[43m,\u001b[49m\u001b[43m \u001b[49m\u001b[43minputs\u001b[49m\u001b[43m,\u001b[49m\n\u001b[0;32m    199\u001b[0m \u001b[43m    \u001b[49m\u001b[43mallow_unreachable\u001b[49m\u001b[38;5;241;43m=\u001b[39;49m\u001b[38;5;28;43;01mTrue\u001b[39;49;00m\u001b[43m,\u001b[49m\u001b[43m \u001b[49m\u001b[43maccumulate_grad\u001b[49m\u001b[38;5;241;43m=\u001b[39;49m\u001b[38;5;28;43;01mTrue\u001b[39;49;00m\u001b[43m)\u001b[49m\n",
      "\u001b[1;31mRuntimeError\u001b[0m: element 0 of tensors does not require grad and does not have a grad_fn"
     ]
    }
   ],
   "source": [
    "# now we can take derivative of something with a,b,c\n",
    "# whose derivative we want? -> loss\n",
    "# let's do that by using .backward()\n",
    "\n",
    "loss.backward()"
   ]
  },
  {
   "cell_type": "code",
   "execution_count": 180,
   "id": "bf0f0bef",
   "metadata": {},
   "outputs": [
    {
     "data": {
      "text/plain": [
       "tensor([ 1.8518,  1.8865,  1.8551,  1.7576,  1.5940,  1.3643,  1.0685,  0.7067,\n",
       "         0.2787, -0.2154, -0.7755, -1.4018, -2.0941, -2.8526, -3.6771],\n",
       "       grad_fn=<AddBackward0>)"
      ]
     },
     "execution_count": 180,
     "metadata": {},
     "output_type": "execute_result"
    }
   ],
   "source": [
    "y_preds = quad(a,b,c,x)\n",
    "y_preds"
   ]
  },
  {
   "cell_type": "code",
   "execution_count": 183,
   "id": "660731e3",
   "metadata": {},
   "outputs": [],
   "source": [
    "a.grad"
   ]
  },
  {
   "cell_type": "code",
   "execution_count": 184,
   "id": "00d405f1",
   "metadata": {},
   "outputs": [
    {
     "ename": "TypeError",
     "evalue": "'NoneType' object is not callable",
     "output_type": "error",
     "traceback": [
      "\u001b[1;31m---------------------------------------------------------------------------\u001b[0m",
      "\u001b[1;31mTypeError\u001b[0m                                 Traceback (most recent call last)",
      "Cell \u001b[1;32mIn[184], line 1\u001b[0m\n\u001b[1;32m----> 1\u001b[0m \u001b[43ma\u001b[49m\u001b[38;5;241;43m.\u001b[39;49m\u001b[43mgrad\u001b[49m\u001b[43m(\u001b[49m\u001b[43m)\u001b[49m\n",
      "\u001b[1;31mTypeError\u001b[0m: 'NoneType' object is not callable"
     ]
    }
   ],
   "source": [
    "a.grad()"
   ]
  },
  {
   "cell_type": "code",
   "execution_count": 185,
   "id": "aed8314e",
   "metadata": {},
   "outputs": [
    {
     "data": {
      "text/plain": [
       "tensor(71.6691, grad_fn=<MeanBackward0>)"
      ]
     },
     "execution_count": 185,
     "metadata": {},
     "output_type": "execute_result"
    }
   ],
   "source": [
    "loss = ((y_preds - y_true)**2).mean()\n",
    "loss"
   ]
  },
  {
   "cell_type": "code",
   "execution_count": 186,
   "id": "2144df28",
   "metadata": {},
   "outputs": [],
   "source": [
    "a.grad"
   ]
  },
  {
   "cell_type": "code",
   "execution_count": 187,
   "id": "eb0c08c7",
   "metadata": {},
   "outputs": [
    {
     "ename": "TypeError",
     "evalue": "'NoneType' object is not callable",
     "output_type": "error",
     "traceback": [
      "\u001b[1;31m---------------------------------------------------------------------------\u001b[0m",
      "\u001b[1;31mTypeError\u001b[0m                                 Traceback (most recent call last)",
      "Cell \u001b[1;32mIn[187], line 1\u001b[0m\n\u001b[1;32m----> 1\u001b[0m \u001b[43ma\u001b[49m\u001b[38;5;241;43m.\u001b[39;49m\u001b[43mgrad\u001b[49m\u001b[43m(\u001b[49m\u001b[43m)\u001b[49m\n",
      "\u001b[1;31mTypeError\u001b[0m: 'NoneType' object is not callable"
     ]
    }
   ],
   "source": [
    "a.grad()"
   ]
  },
  {
   "cell_type": "code",
   "execution_count": 188,
   "id": "e8a30929",
   "metadata": {},
   "outputs": [],
   "source": [
    "loss.backward()"
   ]
  },
  {
   "cell_type": "code",
   "execution_count": 189,
   "id": "4b616e8d",
   "metadata": {},
   "outputs": [
    {
     "data": {
      "text/plain": [
       "tensor(-29.4870)"
      ]
     },
     "execution_count": 189,
     "metadata": {},
     "output_type": "execute_result"
    }
   ],
   "source": [
    "a.grad"
   ]
  },
  {
   "cell_type": "code",
   "execution_count": 190,
   "id": "95b31867",
   "metadata": {},
   "outputs": [
    {
     "data": {
      "text/plain": [
       "(tensor(-29.4870), tensor(-10.7666), tensor(-11.1234))"
      ]
     },
     "execution_count": 190,
     "metadata": {},
     "output_type": "execute_result"
    }
   ],
   "source": [
    "# so now we calculated gradient of loss w.r.t. a\n",
    "# we can see how gradient are w.r.t. b and c\n",
    "a.grad, b.grad, c.grad"
   ]
  },
  {
   "cell_type": "code",
   "execution_count": 192,
   "id": "6dca45af",
   "metadata": {},
   "outputs": [],
   "source": [
    "# now we want to update. This update if we do without torch.no_grad(), let's see what happens\n",
    "lr = 0.05\n",
    "a = a-lr*a.grad\n",
    "b = b-lr*b.grad\n",
    "c = c-lr*c.grad"
   ]
  },
  {
   "cell_type": "code",
   "execution_count": 194,
   "id": "3e5b1d83",
   "metadata": {},
   "outputs": [
    {
     "data": {
      "text/plain": [
       "(tensor(1.0695, grad_fn=<SubBackward0>),\n",
       " tensor(-0.8439, grad_fn=<SubBackward0>),\n",
       " tensor(1.2628, grad_fn=<SubBackward0>))"
      ]
     },
     "execution_count": 194,
     "metadata": {},
     "output_type": "execute_result"
    }
   ],
   "source": [
    "a,b,c"
   ]
  },
  {
   "cell_type": "code",
   "execution_count": 193,
   "id": "20079e4a",
   "metadata": {},
   "outputs": [
    {
     "name": "stderr",
     "output_type": "stream",
     "text": [
      "C:\\Users\\mgupta70.ASURITE\\AppData\\Local\\Temp\\ipykernel_17600\\1389521126.py:2: UserWarning: The .grad attribute of a Tensor that is not a leaf Tensor is being accessed. Its .grad attribute won't be populated during autograd.backward(). If you indeed want the .grad field to be populated for a non-leaf Tensor, use .retain_grad() on the non-leaf Tensor. If you access the non-leaf Tensor by mistake, make sure you access the leaf Tensor instead. See github.com/pytorch/pytorch/pull/30531 for more informations. (Triggered internally at C:\\cb\\pytorch_1000000000000\\work\\build\\aten\\src\\ATen/core/TensorBody.h:485.)\n",
      "  a.grad, b.grad, c.grad\n"
     ]
    },
    {
     "data": {
      "text/plain": [
       "(None, None, None)"
      ]
     },
     "execution_count": 193,
     "metadata": {},
     "output_type": "execute_result"
    }
   ],
   "source": [
    "# now it is said that this should change our derivatives let's check\n",
    "a.grad, b.grad, c.grad"
   ]
  },
  {
   "cell_type": "code",
   "execution_count": 203,
   "id": "e6b532a5",
   "metadata": {},
   "outputs": [
    {
     "name": "stdout",
     "output_type": "stream",
     "text": [
      "tensor(1.3074) tensor(0.8839) tensor(0.1556)\n",
      "tensor(1.3074, requires_grad=True) tensor(0.8839, requires_grad=True) tensor(0.1556, requires_grad=True)\n",
      "None None None\n",
      "y_preds:  tensor([3.6172, 2.4823, 1.5609, 0.8529, 0.3584, 0.0774, 0.0098, 0.1556, 0.5149,\n",
      "        1.0876, 1.8738, 2.8734, 4.0865, 5.5130, 7.1529],\n",
      "       grad_fn=<AddBackward0>)\n",
      "None None None\n",
      "loss:  tensor(20.3463, grad_fn=<MeanBackward0>)\n",
      "tensor(-16.9391) tensor(-3.8601) tensor(-7.0074)\n",
      "tensor(2.1543) tensor(1.0770) tensor(0.5060)\n",
      "None None None\n"
     ]
    }
   ],
   "source": [
    "# now let's combine this in one codecell\n",
    "a,b,c = torch.randn(3)\n",
    "print(a,b,c)\n",
    "\n",
    "a.requires_grad_()\n",
    "b.requires_grad_()\n",
    "c.requires_grad_()\n",
    "\n",
    "print(a,b,c)\n",
    "print(a.grad, b.grad, c.grad)\n",
    "\n",
    "y_preds = quad(a,b,c,x)\n",
    "print('y_preds: ',y_preds)\n",
    "print(a.grad, b.grad, c.grad)\n",
    "\n",
    "loss = ((y_preds - y_true)**2).mean()\n",
    "print('loss: ',loss)\n",
    "\n",
    "loss.backward()\n",
    "print(a.grad, b.grad, c.grad)\n",
    "\n",
    "lr = 0.05\n",
    "with torch.no_grad():\n",
    "    a = a-lr*a.grad\n",
    "    b = b-lr*b.grad\n",
    "    c = c-lr*c.grad\n",
    "    \n",
    "print(a,b,c)\n",
    "print(a.grad, b.grad, c.grad)"
   ]
  },
  {
   "cell_type": "markdown",
   "id": "818456f7",
   "metadata": {},
   "source": [
    "**At the end the grad are None. This should not happen.  The gradient value should remain conserved**\n"
   ]
  },
  {
   "cell_type": "code",
   "execution_count": 204,
   "id": "08ea7ae4",
   "metadata": {
    "scrolled": true
   },
   "outputs": [
    {
     "name": "stdout",
     "output_type": "stream",
     "text": [
      "Epoch:  0\n",
      "None None None\n",
      "loss:  tensor(6.8636)\n"
     ]
    },
    {
     "ename": "RuntimeError",
     "evalue": "element 0 of tensors does not require grad and does not have a grad_fn",
     "output_type": "error",
     "traceback": [
      "\u001b[1;31m---------------------------------------------------------------------------\u001b[0m",
      "\u001b[1;31mRuntimeError\u001b[0m                              Traceback (most recent call last)",
      "Cell \u001b[1;32mIn[204], line 15\u001b[0m\n\u001b[0;32m     12\u001b[0m loss \u001b[38;5;241m=\u001b[39m ((y_preds \u001b[38;5;241m-\u001b[39m y_true)\u001b[38;5;241m*\u001b[39m\u001b[38;5;241m*\u001b[39m\u001b[38;5;241m2\u001b[39m)\u001b[38;5;241m.\u001b[39mmean()\n\u001b[0;32m     13\u001b[0m \u001b[38;5;28mprint\u001b[39m(\u001b[38;5;124m'\u001b[39m\u001b[38;5;124mloss: \u001b[39m\u001b[38;5;124m'\u001b[39m,loss)\n\u001b[1;32m---> 15\u001b[0m \u001b[43mloss\u001b[49m\u001b[38;5;241;43m.\u001b[39;49m\u001b[43mbackward\u001b[49m\u001b[43m(\u001b[49m\u001b[43m)\u001b[49m\n\u001b[0;32m     16\u001b[0m \u001b[38;5;28mprint\u001b[39m(\u001b[38;5;124m'\u001b[39m\u001b[38;5;124mGradients\u001b[39m\u001b[38;5;124m'\u001b[39m, a\u001b[38;5;241m.\u001b[39mgrad, b\u001b[38;5;241m.\u001b[39mgrad, c\u001b[38;5;241m.\u001b[39mgrad)\n\u001b[0;32m     19\u001b[0m \u001b[38;5;28;01mwith\u001b[39;00m torch\u001b[38;5;241m.\u001b[39mno_grad():\n",
      "File \u001b[1;32mC:\\ProgramData\\Anaconda3\\envs\\ai\\lib\\site-packages\\torch\\_tensor.py:488\u001b[0m, in \u001b[0;36mTensor.backward\u001b[1;34m(self, gradient, retain_graph, create_graph, inputs)\u001b[0m\n\u001b[0;32m    478\u001b[0m \u001b[38;5;28;01mif\u001b[39;00m has_torch_function_unary(\u001b[38;5;28mself\u001b[39m):\n\u001b[0;32m    479\u001b[0m     \u001b[38;5;28;01mreturn\u001b[39;00m handle_torch_function(\n\u001b[0;32m    480\u001b[0m         Tensor\u001b[38;5;241m.\u001b[39mbackward,\n\u001b[0;32m    481\u001b[0m         (\u001b[38;5;28mself\u001b[39m,),\n\u001b[1;32m   (...)\u001b[0m\n\u001b[0;32m    486\u001b[0m         inputs\u001b[38;5;241m=\u001b[39minputs,\n\u001b[0;32m    487\u001b[0m     )\n\u001b[1;32m--> 488\u001b[0m \u001b[43mtorch\u001b[49m\u001b[38;5;241;43m.\u001b[39;49m\u001b[43mautograd\u001b[49m\u001b[38;5;241;43m.\u001b[39;49m\u001b[43mbackward\u001b[49m\u001b[43m(\u001b[49m\n\u001b[0;32m    489\u001b[0m \u001b[43m    \u001b[49m\u001b[38;5;28;43mself\u001b[39;49m\u001b[43m,\u001b[49m\u001b[43m \u001b[49m\u001b[43mgradient\u001b[49m\u001b[43m,\u001b[49m\u001b[43m \u001b[49m\u001b[43mretain_graph\u001b[49m\u001b[43m,\u001b[49m\u001b[43m \u001b[49m\u001b[43mcreate_graph\u001b[49m\u001b[43m,\u001b[49m\u001b[43m \u001b[49m\u001b[43minputs\u001b[49m\u001b[38;5;241;43m=\u001b[39;49m\u001b[43minputs\u001b[49m\n\u001b[0;32m    490\u001b[0m \u001b[43m\u001b[49m\u001b[43m)\u001b[49m\n",
      "File \u001b[1;32mC:\\ProgramData\\Anaconda3\\envs\\ai\\lib\\site-packages\\torch\\autograd\\__init__.py:197\u001b[0m, in \u001b[0;36mbackward\u001b[1;34m(tensors, grad_tensors, retain_graph, create_graph, grad_variables, inputs)\u001b[0m\n\u001b[0;32m    192\u001b[0m     retain_graph \u001b[38;5;241m=\u001b[39m create_graph\n\u001b[0;32m    194\u001b[0m \u001b[38;5;66;03m# The reason we repeat same the comment below is that\u001b[39;00m\n\u001b[0;32m    195\u001b[0m \u001b[38;5;66;03m# some Python versions print out the first line of a multi-line function\u001b[39;00m\n\u001b[0;32m    196\u001b[0m \u001b[38;5;66;03m# calls in the traceback and some print out the last line\u001b[39;00m\n\u001b[1;32m--> 197\u001b[0m \u001b[43mVariable\u001b[49m\u001b[38;5;241;43m.\u001b[39;49m\u001b[43m_execution_engine\u001b[49m\u001b[38;5;241;43m.\u001b[39;49m\u001b[43mrun_backward\u001b[49m\u001b[43m(\u001b[49m\u001b[43m  \u001b[49m\u001b[38;5;66;43;03m# Calls into the C++ engine to run the backward pass\u001b[39;49;00m\n\u001b[0;32m    198\u001b[0m \u001b[43m    \u001b[49m\u001b[43mtensors\u001b[49m\u001b[43m,\u001b[49m\u001b[43m \u001b[49m\u001b[43mgrad_tensors_\u001b[49m\u001b[43m,\u001b[49m\u001b[43m \u001b[49m\u001b[43mretain_graph\u001b[49m\u001b[43m,\u001b[49m\u001b[43m \u001b[49m\u001b[43mcreate_graph\u001b[49m\u001b[43m,\u001b[49m\u001b[43m \u001b[49m\u001b[43minputs\u001b[49m\u001b[43m,\u001b[49m\n\u001b[0;32m    199\u001b[0m \u001b[43m    \u001b[49m\u001b[43mallow_unreachable\u001b[49m\u001b[38;5;241;43m=\u001b[39;49m\u001b[38;5;28;43;01mTrue\u001b[39;49;00m\u001b[43m,\u001b[49m\u001b[43m \u001b[49m\u001b[43maccumulate_grad\u001b[49m\u001b[38;5;241;43m=\u001b[39;49m\u001b[38;5;28;43;01mTrue\u001b[39;49;00m\u001b[43m)\u001b[49m\n",
      "\u001b[1;31mRuntimeError\u001b[0m: element 0 of tensors does not require grad and does not have a grad_fn"
     ]
    }
   ],
   "source": [
    "# now let's fo it for 10 epochs\n",
    "epochs= 10\n",
    "lr = 0.05\n",
    "\n",
    "\n",
    "for epoch in range(epochs):\n",
    "    print('Epoch: ',epoch)\n",
    "    y_preds = quad(a,b,c,x)\n",
    "    #print('y_preds: ',y_preds)\n",
    "    print(a.grad, b.grad, c.grad)\n",
    "\n",
    "    loss = ((y_preds - y_true)**2).mean()\n",
    "    print('loss: ',loss)\n",
    "\n",
    "    loss.backward()\n",
    "    print('Gradients', a.grad, b.grad, c.grad)\n",
    "\n",
    "\n",
    "    with torch.no_grad():\n",
    "        a = a-lr*a.grad\n",
    "        b = b-lr*b.grad\n",
    "        c = c-lr*c.grad\n",
    "\n",
    "    print(a,b,c)\n",
    "    \n",
    "    #print(a.grad, b.grad, c.grad)"
   ]
  },
  {
   "cell_type": "markdown",
   "id": "6f43cc02",
   "metadata": {},
   "source": [
    "**Here, I have a,b,c as separate i.e. *leaf*. I need to bring them together**"
   ]
  },
  {
   "cell_type": "code",
   "execution_count": 222,
   "id": "27013fa5",
   "metadata": {},
   "outputs": [
    {
     "data": {
      "text/plain": [
       "(tensor([ 1.0475,  0.4606, -0.9901]), torch.Size([3]))"
      ]
     },
     "execution_count": 222,
     "metadata": {},
     "output_type": "execute_result"
    }
   ],
   "source": [
    "params = torch.randn(3)\n",
    "params, params.shape"
   ]
  },
  {
   "cell_type": "code",
   "execution_count": 278,
   "id": "73104bb1",
   "metadata": {},
   "outputs": [
    {
     "name": "stdout",
     "output_type": "stream",
     "text": [
      "Loss:  tensor(799.6996, grad_fn=<SumBackward0>)\n",
      "Gradients before no_grad:  tensor([-382.8632, -152.4936, -144.2843])\n",
      "Gradients after no_grad:  None\n",
      "params:  tensor([19.2708,  6.4519,  8.0973])\n"
     ]
    }
   ],
   "source": [
    "params.requires_grad_()\n",
    "\n",
    "y_preds = quad(*params, x)\n",
    "loss = ((y_preds-y_true)**2).sum()\n",
    "loss.backward()\n",
    "print('Loss: ', loss)\n",
    "print('Gradients before no_grad: ',params.grad)\n",
    "with torch.no_grad():\n",
    "    params = params-lr*params.grad\n",
    "    \n",
    "print('Gradients after no_grad: ',params.grad)\n",
    "print('params: ',params)"
   ]
  },
  {
   "cell_type": "code",
   "execution_count": null,
   "id": "510436ff",
   "metadata": {},
   "outputs": [],
   "source": [
    "# Gadbad"
   ]
  },
  {
   "cell_type": "code",
   "execution_count": 282,
   "id": "94df3e7f",
   "metadata": {},
   "outputs": [
    {
     "name": "stdout",
     "output_type": "stream",
     "text": [
      "Loss:  tensor(49.1084, grad_fn=<SumBackward0>)\n",
      "Gradients before no_grad:  tensor([-12.8980,  -7.4286,  -9.0000])\n",
      "Gradients after no_grad:  None\n",
      "params:  tensor([ 1.7182, -0.5255,  0.0851])\n"
     ]
    }
   ],
   "source": [
    "# let's replace loss by writing a function instead where all three parameters are taken in 1 go:\n",
    "\n",
    "def mae_v2(y_preds, y_true):\n",
    "    return abs(y_preds-y_true).sum()\n",
    "\n",
    "\n",
    "def mse_v2(y_preds, y_true):\n",
    "    return ((y_preds-y_true)**2).sum()\n",
    "\n",
    "params = torch.randn(3)\n",
    "params.requires_grad_()\n",
    "\n",
    "y_preds = quad(*params, x)\n",
    "loss = mae_v2(y_preds, y_true)\n",
    "loss.backward()\n",
    "print('Loss: ', loss)\n",
    "print('Gradients before no_grad: ',params.grad)\n",
    "with torch.no_grad():\n",
    "    params= params - 0.01*params.grad\n",
    "    \n",
    "print('Gradients after no_grad: ',params.grad)\n",
    "print('params: ',params)"
   ]
  },
  {
   "cell_type": "markdown",
   "id": "9c2c7388",
   "metadata": {},
   "source": [
    "**Still the same but what if I replace** \n",
    "\n",
    "\n",
    "`with torch.no_grad():`\n",
    "\n",
    "`params= params - 0.01*params.grad`\n",
    "\n",
    "**BY**\n",
    "\n",
    "`with torch.no_grad():`\n",
    "\n",
    "`params-= 0.01*params.grad`\n",
    "\n",
    "*because I saw this in Jermey's code\n",
    "\n",
    "**I know why--->**\n",
    "because  `params= params - 0.01*params.grad` creates a new parameter `params` and assign values in that. By default this *new* `params` has **NO** `requires_grad_()` while when we use \n",
    "`params-= 0.01*params.grad` the values of `params` are changed inplace and since it already has `requires_grad_()` , the code works in this case"
   ]
  },
  {
   "cell_type": "code",
   "execution_count": 283,
   "id": "e6ea2357",
   "metadata": {},
   "outputs": [
    {
     "name": "stdout",
     "output_type": "stream",
     "text": [
      "Loss:  tensor(79.8258, grad_fn=<SumBackward0>)\n",
      "Gradients before no_grad:  tensor([-2.2857e+01, -1.1921e-07, -1.5000e+01])\n",
      "Gradients after no_grad:  tensor([-2.2857e+01, -1.1921e-07, -1.5000e+01])\n",
      "params:  tensor([ 0.4969, -0.1780, -0.9257], requires_grad=True)\n"
     ]
    }
   ],
   "source": [
    "# let's replace loss by writing a function instead where all three parameters are taken in 1 go:\n",
    "\n",
    "def mae_v2(y_preds, y_true):\n",
    "    return abs(y_preds-y_true).sum()\n",
    "\n",
    "\n",
    "def mse_v2(y_preds, y_true):\n",
    "    return ((y_preds-y_true)**2).sum()\n",
    "\n",
    "params = torch.randn(3)\n",
    "params.requires_grad_()\n",
    "\n",
    "y_preds = quad(*params, x)\n",
    "loss = mae_v2(y_preds, y_true)\n",
    "loss.backward()\n",
    "print('Loss: ', loss)\n",
    "print('Gradients before no_grad: ',params.grad)\n",
    "with torch.no_grad():\n",
    "    params-= - 0.01*params.grad\n",
    "    \n",
    "print('Gradients after no_grad: ',params.grad)\n",
    "print('params: ',params)"
   ]
  },
  {
   "cell_type": "markdown",
   "id": "8983eb35",
   "metadata": {},
   "source": [
    "**Seems like this line of code makes a huge differnce**\n",
    "\n",
    "`with torch.no_grad():`\n",
    "\n",
    "`params= params - 0.01*params.grad`\n",
    "\n",
    "**VS**\n",
    "\n",
    "`with torch.no_grad():`\n",
    "\n",
    "`params-= 0.01*params.grad`"
   ]
  },
  {
   "cell_type": "code",
   "execution_count": null,
   "id": "ea3ad430",
   "metadata": {},
   "outputs": [],
   "source": []
  },
  {
   "cell_type": "code",
   "execution_count": null,
   "id": "25c2f043",
   "metadata": {},
   "outputs": [],
   "source": []
  },
  {
   "cell_type": "code",
   "execution_count": null,
   "id": "8457aad2",
   "metadata": {},
   "outputs": [],
   "source": []
  },
  {
   "cell_type": "code",
   "execution_count": 224,
   "id": "5025557b",
   "metadata": {
    "scrolled": true
   },
   "outputs": [
    {
     "name": "stdout",
     "output_type": "stream",
     "text": [
      "Epoch:  0\n"
     ]
    },
    {
     "ename": "RuntimeError",
     "evalue": "element 0 of tensors does not require grad and does not have a grad_fn",
     "output_type": "error",
     "traceback": [
      "\u001b[1;31m---------------------------------------------------------------------------\u001b[0m",
      "\u001b[1;31mRuntimeError\u001b[0m                              Traceback (most recent call last)",
      "Cell \u001b[1;32mIn[224], line 6\u001b[0m\n\u001b[0;32m      4\u001b[0m y_preds \u001b[38;5;241m=\u001b[39m quad(\u001b[38;5;241m*\u001b[39mparams, x)\n\u001b[0;32m      5\u001b[0m loss \u001b[38;5;241m=\u001b[39m ((y_preds\u001b[38;5;241m-\u001b[39my_true)\u001b[38;5;241m*\u001b[39m\u001b[38;5;241m*\u001b[39m\u001b[38;5;241m2\u001b[39m)\u001b[38;5;241m.\u001b[39msum()\n\u001b[1;32m----> 6\u001b[0m \u001b[43mloss\u001b[49m\u001b[38;5;241;43m.\u001b[39;49m\u001b[43mbackward\u001b[49m\u001b[43m(\u001b[49m\u001b[43m)\u001b[49m\n\u001b[0;32m      7\u001b[0m \u001b[38;5;28mprint\u001b[39m(\u001b[38;5;124m'\u001b[39m\u001b[38;5;124mLoss: \u001b[39m\u001b[38;5;124m'\u001b[39m, loss)\n\u001b[0;32m      8\u001b[0m \u001b[38;5;28mprint\u001b[39m(\u001b[38;5;124m'\u001b[39m\u001b[38;5;124mGradients before no_grad: \u001b[39m\u001b[38;5;124m'\u001b[39m,params\u001b[38;5;241m.\u001b[39mgrad)\n",
      "File \u001b[1;32mC:\\ProgramData\\Anaconda3\\envs\\ai\\lib\\site-packages\\torch\\_tensor.py:488\u001b[0m, in \u001b[0;36mTensor.backward\u001b[1;34m(self, gradient, retain_graph, create_graph, inputs)\u001b[0m\n\u001b[0;32m    478\u001b[0m \u001b[38;5;28;01mif\u001b[39;00m has_torch_function_unary(\u001b[38;5;28mself\u001b[39m):\n\u001b[0;32m    479\u001b[0m     \u001b[38;5;28;01mreturn\u001b[39;00m handle_torch_function(\n\u001b[0;32m    480\u001b[0m         Tensor\u001b[38;5;241m.\u001b[39mbackward,\n\u001b[0;32m    481\u001b[0m         (\u001b[38;5;28mself\u001b[39m,),\n\u001b[1;32m   (...)\u001b[0m\n\u001b[0;32m    486\u001b[0m         inputs\u001b[38;5;241m=\u001b[39minputs,\n\u001b[0;32m    487\u001b[0m     )\n\u001b[1;32m--> 488\u001b[0m \u001b[43mtorch\u001b[49m\u001b[38;5;241;43m.\u001b[39;49m\u001b[43mautograd\u001b[49m\u001b[38;5;241;43m.\u001b[39;49m\u001b[43mbackward\u001b[49m\u001b[43m(\u001b[49m\n\u001b[0;32m    489\u001b[0m \u001b[43m    \u001b[49m\u001b[38;5;28;43mself\u001b[39;49m\u001b[43m,\u001b[49m\u001b[43m \u001b[49m\u001b[43mgradient\u001b[49m\u001b[43m,\u001b[49m\u001b[43m \u001b[49m\u001b[43mretain_graph\u001b[49m\u001b[43m,\u001b[49m\u001b[43m \u001b[49m\u001b[43mcreate_graph\u001b[49m\u001b[43m,\u001b[49m\u001b[43m \u001b[49m\u001b[43minputs\u001b[49m\u001b[38;5;241;43m=\u001b[39;49m\u001b[43minputs\u001b[49m\n\u001b[0;32m    490\u001b[0m \u001b[43m\u001b[49m\u001b[43m)\u001b[49m\n",
      "File \u001b[1;32mC:\\ProgramData\\Anaconda3\\envs\\ai\\lib\\site-packages\\torch\\autograd\\__init__.py:197\u001b[0m, in \u001b[0;36mbackward\u001b[1;34m(tensors, grad_tensors, retain_graph, create_graph, grad_variables, inputs)\u001b[0m\n\u001b[0;32m    192\u001b[0m     retain_graph \u001b[38;5;241m=\u001b[39m create_graph\n\u001b[0;32m    194\u001b[0m \u001b[38;5;66;03m# The reason we repeat same the comment below is that\u001b[39;00m\n\u001b[0;32m    195\u001b[0m \u001b[38;5;66;03m# some Python versions print out the first line of a multi-line function\u001b[39;00m\n\u001b[0;32m    196\u001b[0m \u001b[38;5;66;03m# calls in the traceback and some print out the last line\u001b[39;00m\n\u001b[1;32m--> 197\u001b[0m \u001b[43mVariable\u001b[49m\u001b[38;5;241;43m.\u001b[39;49m\u001b[43m_execution_engine\u001b[49m\u001b[38;5;241;43m.\u001b[39;49m\u001b[43mrun_backward\u001b[49m\u001b[43m(\u001b[49m\u001b[43m  \u001b[49m\u001b[38;5;66;43;03m# Calls into the C++ engine to run the backward pass\u001b[39;49;00m\n\u001b[0;32m    198\u001b[0m \u001b[43m    \u001b[49m\u001b[43mtensors\u001b[49m\u001b[43m,\u001b[49m\u001b[43m \u001b[49m\u001b[43mgrad_tensors_\u001b[49m\u001b[43m,\u001b[49m\u001b[43m \u001b[49m\u001b[43mretain_graph\u001b[49m\u001b[43m,\u001b[49m\u001b[43m \u001b[49m\u001b[43mcreate_graph\u001b[49m\u001b[43m,\u001b[49m\u001b[43m \u001b[49m\u001b[43minputs\u001b[49m\u001b[43m,\u001b[49m\n\u001b[0;32m    199\u001b[0m \u001b[43m    \u001b[49m\u001b[43mallow_unreachable\u001b[49m\u001b[38;5;241;43m=\u001b[39;49m\u001b[38;5;28;43;01mTrue\u001b[39;49;00m\u001b[43m,\u001b[49m\u001b[43m \u001b[49m\u001b[43maccumulate_grad\u001b[49m\u001b[38;5;241;43m=\u001b[39;49m\u001b[38;5;28;43;01mTrue\u001b[39;49;00m\u001b[43m)\u001b[49m\n",
      "\u001b[1;31mRuntimeError\u001b[0m: element 0 of tensors does not require grad and does not have a grad_fn"
     ]
    }
   ],
   "source": [
    "epochs = 10\n",
    "for epoch in range(epochs):\n",
    "    print('Epoch: ', epoch)\n",
    "    y_preds = quad(*params, x)\n",
    "    loss = ((y_preds-y_true)**2).sum()\n",
    "    loss.backward()\n",
    "    print('Loss: ', loss)\n",
    "    print('Gradients before no_grad: ',params.grad)\n",
    "    with torch.no_grad():\n",
    "        params -= lr*params.grad\n",
    "        \n",
    "\n",
    "    print('Gradients after no_grad: ',params.grad)\n",
    "    print('params: ', params)"
   ]
  },
  {
   "cell_type": "code",
   "execution_count": 213,
   "id": "1e61c86e",
   "metadata": {},
   "outputs": [
    {
     "name": "stdout",
     "output_type": "stream",
     "text": [
      "params:  tensor([-0.1172,  1.5194, -1.0695])\n",
      "Loss:  tensor(997.1415, grad_fn=<SumBackward0>)\n",
      "Gradients before no_grad:  tensor([-487.6532,  -28.8513, -206.9884])\n",
      "Gradients after no_grad:  None\n",
      "params:  tensor([24.2654,  2.9620,  9.2799])\n"
     ]
    }
   ],
   "source": [
    "params = torch.randn(3)\n",
    "print('params: ',params)\n",
    "params.requires_grad_()\n",
    "\n",
    "y_preds = quad(*params, x)\n",
    "loss = ((y_preds-y_true)**2).sum()\n",
    "loss.backward()\n",
    "print('Loss: ', loss)\n",
    "print('Gradients before no_grad: ',params.grad)\n",
    "with torch.no_grad():\n",
    "    params = params-lr*params.grad\n",
    "    \n",
    "print('Gradients after no_grad: ',params.grad)\n",
    "print('params: ',params)"
   ]
  },
  {
   "cell_type": "code",
   "execution_count": 216,
   "id": "3958d984",
   "metadata": {},
   "outputs": [],
   "source": [
    "# let;s create a function with single input\n",
    "\n",
    "def mk_quad(a,b,c):\n",
    "    return partial(quad,a,b,c)"
   ]
  },
  {
   "cell_type": "code",
   "execution_count": 217,
   "id": "6ac3ea13",
   "metadata": {},
   "outputs": [
    {
     "data": {
      "text/plain": [
       "functools.partial(<function quad at 0x000001EE71952F80>, 3, 2, 1)"
      ]
     },
     "execution_count": 217,
     "metadata": {},
     "output_type": "execute_result"
    }
   ],
   "source": [
    "a = mk_quad(3,2,1)\n",
    "a"
   ]
  },
  {
   "cell_type": "code",
   "execution_count": 218,
   "id": "8cbf408f",
   "metadata": {},
   "outputs": [
    {
     "data": {
      "text/plain": [
       "34"
      ]
     },
     "execution_count": 218,
     "metadata": {},
     "output_type": "execute_result"
    }
   ],
   "source": [
    "a(3)"
   ]
  },
  {
   "cell_type": "code",
   "execution_count": 225,
   "id": "6ed52139",
   "metadata": {},
   "outputs": [],
   "source": [
    "def mae(preds, acts): return (torch.abs(preds-acts)).mean()\n",
    "def mse(preds, acts): return ((preds-acts)**2).mean()"
   ]
  },
  {
   "cell_type": "markdown",
   "id": "e9bbb108",
   "metadata": {},
   "source": [
    "### According to Jeremy notebook 301\n",
    "**To do autmatic gradient calculation, first we need a function that takes all the parameters `a`, `b`, and `c` as a single vector input, and returns the value `mae()` based on those parameters**"
   ]
  },
  {
   "cell_type": "code",
   "execution_count": 227,
   "id": "ee32ff24",
   "metadata": {},
   "outputs": [],
   "source": [
    "def quad_mae(params):\n",
    "    f = mk_quad(*params)\n",
    "    return mae(f(x),y_true)"
   ]
  },
  {
   "cell_type": "code",
   "execution_count": 230,
   "id": "47e08245",
   "metadata": {},
   "outputs": [
    {
     "data": {
      "text/plain": [
       "tensor([1.1000, 1.1000, 1.1000], requires_grad=True)"
      ]
     },
     "execution_count": 230,
     "metadata": {},
     "output_type": "execute_result"
    }
   ],
   "source": [
    "abc = torch.tensor([1.1,1.1,1.1])\n",
    "abc.requires_grad_()"
   ]
  },
  {
   "cell_type": "code",
   "execution_count": 231,
   "id": "73e357c8",
   "metadata": {},
   "outputs": [
    {
     "data": {
      "text/plain": [
       "tensor(3.0813, grad_fn=<MeanBackward0>)"
      ]
     },
     "execution_count": 231,
     "metadata": {},
     "output_type": "execute_result"
    }
   ],
   "source": [
    "loss = quad_mae(abc)\n",
    "loss"
   ]
  },
  {
   "cell_type": "code",
   "execution_count": 232,
   "id": "da17a53d",
   "metadata": {},
   "outputs": [],
   "source": [
    "loss.backward()"
   ]
  },
  {
   "cell_type": "code",
   "execution_count": 233,
   "id": "fdced59c",
   "metadata": {},
   "outputs": [
    {
     "data": {
      "text/plain": [
       "tensor([-1.5129, -0.0381, -0.7333])"
      ]
     },
     "execution_count": 233,
     "metadata": {},
     "output_type": "execute_result"
    }
   ],
   "source": [
    "abc.grad"
   ]
  },
  {
   "cell_type": "code",
   "execution_count": 238,
   "id": "c56d9323",
   "metadata": {},
   "outputs": [
    {
     "data": {
      "text/plain": [
       "(torch.Size([3]), 1)"
      ]
     },
     "execution_count": 238,
     "metadata": {},
     "output_type": "execute_result"
    }
   ],
   "source": [
    "abc.shape, abc.ndim"
   ]
  },
  {
   "cell_type": "code",
   "execution_count": 239,
   "id": "6744e8b3",
   "metadata": {},
   "outputs": [
    {
     "data": {
      "text/plain": [
       "(torch.Size([3]), 1)"
      ]
     },
     "execution_count": 239,
     "metadata": {},
     "output_type": "execute_result"
    }
   ],
   "source": [
    "params.shape, params.ndim"
   ]
  },
  {
   "cell_type": "code",
   "execution_count": 236,
   "id": "7b1b03d9",
   "metadata": {},
   "outputs": [
    {
     "name": "stdout",
     "output_type": "stream",
     "text": [
      "tensor([-1.5129, -0.0381, -0.7333])\n",
      "loss=3.00\n"
     ]
    }
   ],
   "source": [
    "with torch.no_grad():\n",
    "    abc -= abc.grad*0.01\n",
    "    loss = quad_mae(abc)\n",
    "    print(abc.grad)\n",
    "    \n",
    "print(f'loss={loss:.2f}')"
   ]
  },
  {
   "cell_type": "code",
   "execution_count": 242,
   "id": "d6f9a34b",
   "metadata": {},
   "outputs": [
    {
     "name": "stdout",
     "output_type": "stream",
     "text": [
      "params:  tensor([ 1.5859, -0.4191,  2.4926], requires_grad=True)\n",
      "Loss:  tensor(2.9969, grad_fn=<MeanBackward0>)\n",
      "Gradients before no_grad:  tensor([ 0.0327, -3.0857,  0.6000])\n",
      "Gradients after no_grad:  tensor([ 0.0327, -3.0857,  0.6000])\n",
      "params:  tensor([ 1.5843, -0.2649,  2.4626], requires_grad=True)\n"
     ]
    }
   ],
   "source": [
    "# now see 1 epoch\n",
    "\n",
    "print('params: ',params)\n",
    "params.requires_grad_()\n",
    "\n",
    "# y_preds = quad(*params, x)\n",
    "# loss = ((y_preds-y_true)**2).sum()\n",
    "loss = quad_mae(params)\n",
    "loss.backward()\n",
    "print('Loss: ', loss)\n",
    "print('Gradients before no_grad: ',params.grad)\n",
    "with torch.no_grad():\n",
    "    params -= lr*params.grad\n",
    "    \n",
    "    print('Gradients after no_grad: ',params.grad)\n",
    "print('params: ',params)"
   ]
  },
  {
   "cell_type": "code",
   "execution_count": 243,
   "id": "425a3851",
   "metadata": {},
   "outputs": [
    {
     "name": "stdout",
     "output_type": "stream",
     "text": [
      "\n",
      " Epoch:  0\n",
      "params:  tensor([ 1.5843, -0.2649,  2.4626], requires_grad=True)\n",
      "Loss:  tensor(2.8321, grad_fn=<MeanBackward0>)\n",
      "Gradients before no_grad:  tensor([ 0.0435, -4.1143,  0.8000])\n",
      "Gradients after no_grad:  tensor([ 0.0435, -4.1143,  0.8000])\n",
      "params:  tensor([ 1.5821, -0.0591,  2.4226], requires_grad=True)\n",
      "\n",
      " Epoch:  1\n",
      "params:  tensor([ 1.5821, -0.0591,  2.4226], requires_grad=True)\n",
      "Loss:  tensor(2.6192, grad_fn=<MeanBackward0>)\n",
      "Gradients before no_grad:  tensor([-0.4789, -4.8762,  0.8667])\n",
      "Gradients after no_grad:  tensor([-0.4789, -4.8762,  0.8667])\n",
      "params:  tensor([1.6060, 0.1847, 2.3793], requires_grad=True)\n",
      "\n",
      " Epoch:  2\n",
      "params:  tensor([1.6060, 0.1847, 2.3793], requires_grad=True)\n",
      "Loss:  tensor(2.4181, grad_fn=<MeanBackward0>)\n",
      "Gradients before no_grad:  tensor([-1.0014, -5.6381,  0.9333])\n",
      "Gradients after no_grad:  tensor([-1.0014, -5.6381,  0.9333])\n",
      "params:  tensor([1.6561, 0.4666, 2.3326], requires_grad=True)\n",
      "\n",
      " Epoch:  3\n",
      "params:  tensor([1.6561, 0.4666, 2.3326], requires_grad=True)\n",
      "Loss:  tensor(2.1740, grad_fn=<MeanBackward0>)\n",
      "Gradients before no_grad:  tensor([-1.5238, -6.4000,  1.0000])\n",
      "Gradients after no_grad:  tensor([-1.5238, -6.4000,  1.0000])\n",
      "params:  tensor([1.7323, 0.7866, 2.2826], requires_grad=True)\n",
      "\n",
      " Epoch:  4\n",
      "params:  tensor([1.7323, 0.7866, 2.2826], requires_grad=True)\n",
      "Loss:  tensor(1.8871, grad_fn=<MeanBackward0>)\n",
      "Gradients before no_grad:  tensor([-2.0463, -7.1619,  1.0667])\n",
      "Gradients after no_grad:  tensor([-2.0463, -7.1619,  1.0667])\n",
      "params:  tensor([1.8346, 1.1447, 2.2293], requires_grad=True)\n",
      "\n",
      " Epoch:  5\n",
      "params:  tensor([1.8346, 1.1447, 2.2293], requires_grad=True)\n",
      "Loss:  tensor(1.6120, grad_fn=<MeanBackward0>)\n",
      "Gradients before no_grad:  tensor([-2.7429, -7.6190,  1.1333])\n",
      "Gradients after no_grad:  tensor([-2.7429, -7.6190,  1.1333])\n",
      "params:  tensor([1.9717, 1.5256, 2.1726], requires_grad=True)\n",
      "\n",
      " Epoch:  6\n",
      "params:  tensor([1.9717, 1.5256, 2.1726], requires_grad=True)\n",
      "Loss:  tensor(1.3607, grad_fn=<MeanBackward0>)\n",
      "Gradients before no_grad:  tensor([-3.8313, -7.8476,  1.0667])\n",
      "Gradients after no_grad:  tensor([-3.8313, -7.8476,  1.0667])\n",
      "params:  tensor([2.1633, 1.9180, 2.1193], requires_grad=True)\n",
      "\n",
      " Epoch:  7\n",
      "params:  tensor([2.1633, 1.9180, 2.1193], requires_grad=True)\n",
      "Loss:  tensor(1.0660, grad_fn=<MeanBackward0>)\n",
      "Gradients before no_grad:  tensor([-4.9197, -8.0762,  1.0000])\n",
      "Gradients after no_grad:  tensor([-4.9197, -8.0762,  1.0000])\n",
      "params:  tensor([2.4093, 2.3218, 2.0693], requires_grad=True)\n",
      "\n",
      " Epoch:  8\n",
      "params:  tensor([2.4093, 2.3218, 2.0693], requires_grad=True)\n",
      "Loss:  tensor(0.7821, grad_fn=<MeanBackward0>)\n",
      "Gradients before no_grad:  tensor([-5.7361, -7.8095,  1.0667])\n",
      "Gradients after no_grad:  tensor([-5.7361, -7.8095,  1.0667])\n",
      "params:  tensor([2.6961, 2.7123, 2.0160], requires_grad=True)\n",
      "\n",
      " Epoch:  9\n",
      "params:  tensor([2.6961, 2.7123, 2.0160], requires_grad=True)\n",
      "Loss:  tensor(0.8746, grad_fn=<MeanBackward0>)\n",
      "Gradients before no_grad:  tensor([-5.7252, -6.7810,  1.2667])\n",
      "Gradients after no_grad:  tensor([-5.7252, -6.7810,  1.2667])\n",
      "params:  tensor([2.9823, 3.0513, 1.9526], requires_grad=True)\n"
     ]
    }
   ],
   "source": [
    "# Lets do it for 10 epochs\n",
    "\n",
    "# now see 1 epoch\n",
    "\n",
    "epochs = 10\n",
    "for epoch in range(epochs):\n",
    "    print('\\n Epoch: ', epoch)\n",
    "    print('params: ',params)\n",
    "    loss = quad_mae(params)\n",
    "    loss.backward()\n",
    "    print('Loss: ', loss)\n",
    "    print('Gradients before no_grad: ',params.grad)\n",
    "    with torch.no_grad():\n",
    "        params -= lr*params.grad\n",
    "        print('Gradients after no_grad: ',params.grad)\n",
    "    print('params: ',params)"
   ]
  },
  {
   "cell_type": "code",
   "execution_count": 246,
   "id": "8122d98e",
   "metadata": {},
   "outputs": [],
   "source": [
    "# My another trial after understanding this"
   ]
  },
  {
   "cell_type": "code",
   "execution_count": 247,
   "id": "aff39dea",
   "metadata": {
    "scrolled": true
   },
   "outputs": [
    {
     "data": {
      "text/plain": [
       "tensor([ 8.9194,  5.5179,  4.6290,  2.6398,  1.6751,  1.3971,  0.3897,  0.0409,\n",
       "         1.8024,  4.4356,  4.4384,  7.4743, 10.2295, 13.8127, 17.3702])"
      ]
     },
     "execution_count": 247,
     "metadata": {},
     "output_type": "execute_result"
    }
   ],
   "source": [
    "y_true"
   ]
  },
  {
   "cell_type": "code",
   "execution_count": 248,
   "id": "480316da",
   "metadata": {},
   "outputs": [
    {
     "data": {
      "text/plain": [
       "tensor([-2.0000, -1.7143, -1.4286, -1.1429, -0.8571, -0.5714, -0.2857,  0.0000,\n",
       "         0.2857,  0.5714,  0.8571,  1.1429,  1.4286,  1.7143,  2.0000])"
      ]
     },
     "execution_count": 248,
     "metadata": {},
     "output_type": "execute_result"
    }
   ],
   "source": [
    "x"
   ]
  },
  {
   "cell_type": "code",
   "execution_count": 271,
   "id": "9aa1ac64",
   "metadata": {},
   "outputs": [
    {
     "data": {
      "text/plain": [
       "tensor([-0.0433, -1.6133, -1.7210])"
      ]
     },
     "execution_count": 271,
     "metadata": {},
     "output_type": "execute_result"
    }
   ],
   "source": [
    "params = torch.randn(3)\n",
    "params"
   ]
  },
  {
   "cell_type": "code",
   "execution_count": 272,
   "id": "a76efc6a",
   "metadata": {},
   "outputs": [
    {
     "data": {
      "text/plain": [
       "tensor([-0.0433, -1.6133, -1.7210], requires_grad=True)"
      ]
     },
     "execution_count": 272,
     "metadata": {},
     "output_type": "execute_result"
    }
   ],
   "source": [
    "params.requires_grad_()"
   ]
  },
  {
   "cell_type": "code",
   "execution_count": 273,
   "id": "906b5ed6",
   "metadata": {},
   "outputs": [],
   "source": [
    "def loss_mse(params):\n",
    "    y_preds = quad(*params,x)\n",
    "    return mae(y_preds,y_true)"
   ]
  },
  {
   "cell_type": "code",
   "execution_count": 274,
   "id": "264c9fba",
   "metadata": {},
   "outputs": [
    {
     "name": "stdout",
     "output_type": "stream",
     "text": [
      "\n",
      " Epoch:  0\n",
      "params:  tensor([-0.0433, -1.6133, -1.7210], requires_grad=True)\n",
      "Loss:  tensor(7.4384, grad_fn=<MeanBackward0>)\n",
      "Gradients before no_grad:  tensor([-1.5238e+00,  2.2352e-08, -1.0000e+00])\n",
      "Gradients after no_grad:  tensor([-1.5238e+00,  2.2352e-08, -1.0000e+00])\n",
      "params:  tensor([-0.0280, -1.6133, -1.7110], requires_grad=True)\n",
      "\n",
      " Epoch:  1\n",
      "params:  tensor([-0.0280, -1.6133, -1.7110], requires_grad=True)\n",
      "Loss:  tensor(7.4051, grad_fn=<MeanBackward0>)\n",
      "Gradients before no_grad:  tensor([-3.0476e+00,  4.4703e-08, -2.0000e+00])\n",
      "Gradients after no_grad:  tensor([-3.0476e+00,  4.4703e-08, -2.0000e+00])\n",
      "params:  tensor([ 0.0024, -1.6133, -1.6910], requires_grad=True)\n",
      "\n",
      " Epoch:  2\n",
      "params:  tensor([ 0.0024, -1.6133, -1.6910], requires_grad=True)\n",
      "Loss:  tensor(7.3387, grad_fn=<MeanBackward0>)\n",
      "Gradients before no_grad:  tensor([-4.5714e+00,  6.7055e-08, -3.0000e+00])\n",
      "Gradients after no_grad:  tensor([-4.5714e+00,  6.7055e-08, -3.0000e+00])\n",
      "params:  tensor([ 0.0482, -1.6133, -1.6610], requires_grad=True)\n",
      "\n",
      " Epoch:  3\n",
      "params:  tensor([ 0.0482, -1.6133, -1.6610], requires_grad=True)\n",
      "Loss:  tensor(7.2390, grad_fn=<MeanBackward0>)\n",
      "Gradients before no_grad:  tensor([-6.0952e+00,  8.9407e-08, -4.0000e+00])\n",
      "Gradients after no_grad:  tensor([-6.0952e+00,  8.9407e-08, -4.0000e+00])\n",
      "params:  tensor([ 0.1091, -1.6133, -1.6210], requires_grad=True)\n",
      "\n",
      " Epoch:  4\n",
      "params:  tensor([ 0.1091, -1.6133, -1.6210], requires_grad=True)\n",
      "Loss:  tensor(7.1062, grad_fn=<MeanBackward0>)\n",
      "Gradients before no_grad:  tensor([-7.6190e+00,  1.1176e-07, -5.0000e+00])\n",
      "Gradients after no_grad:  tensor([-7.6190e+00,  1.1176e-07, -5.0000e+00])\n",
      "params:  tensor([ 0.1853, -1.6133, -1.5710], requires_grad=True)\n",
      "\n",
      " Epoch:  5\n",
      "params:  tensor([ 0.1853, -1.6133, -1.5710], requires_grad=True)\n",
      "Loss:  tensor(6.9401, grad_fn=<MeanBackward0>)\n",
      "Gradients before no_grad:  tensor([-9.1429e+00,  1.3411e-07, -6.0000e+00])\n",
      "Gradients after no_grad:  tensor([-9.1429e+00,  1.3411e-07, -6.0000e+00])\n",
      "params:  tensor([ 0.2767, -1.6133, -1.5110], requires_grad=True)\n",
      "\n",
      " Epoch:  6\n",
      "params:  tensor([ 0.2767, -1.6133, -1.5110], requires_grad=True)\n",
      "Loss:  tensor(6.7407, grad_fn=<MeanBackward0>)\n",
      "Gradients before no_grad:  tensor([-1.0667e+01,  1.5646e-07, -7.0000e+00])\n",
      "Gradients after no_grad:  tensor([-1.0667e+01,  1.5646e-07, -7.0000e+00])\n",
      "params:  tensor([ 0.3834, -1.6133, -1.4410], requires_grad=True)\n",
      "\n",
      " Epoch:  7\n",
      "params:  tensor([ 0.3834, -1.6133, -1.4410], requires_grad=True)\n",
      "Loss:  tensor(6.5082, grad_fn=<MeanBackward0>)\n",
      "Gradients before no_grad:  tensor([-1.2190e+01,  1.7881e-07, -8.0000e+00])\n",
      "Gradients after no_grad:  tensor([-1.2190e+01,  1.7881e-07, -8.0000e+00])\n",
      "params:  tensor([ 0.5053, -1.6133, -1.3610], requires_grad=True)\n",
      "\n",
      " Epoch:  8\n",
      "params:  tensor([ 0.5053, -1.6133, -1.3610], requires_grad=True)\n",
      "Loss:  tensor(6.2424, grad_fn=<MeanBackward0>)\n",
      "Gradients before no_grad:  tensor([-1.3714e+01,  2.0117e-07, -9.0000e+00])\n",
      "Gradients after no_grad:  tensor([-1.3714e+01,  2.0117e-07, -9.0000e+00])\n",
      "params:  tensor([ 0.6424, -1.6133, -1.2710], requires_grad=True)\n",
      "\n",
      " Epoch:  9\n",
      "params:  tensor([ 0.6424, -1.6133, -1.2710], requires_grad=True)\n",
      "Loss:  tensor(5.9435, grad_fn=<MeanBackward0>)\n",
      "Gradients before no_grad:  tensor([-1.5238e+01,  2.2352e-07, -1.0000e+01])\n",
      "Gradients after no_grad:  tensor([-1.5238e+01,  2.2352e-07, -1.0000e+01])\n",
      "params:  tensor([ 0.7948, -1.6133, -1.1710], requires_grad=True)\n"
     ]
    }
   ],
   "source": [
    "# Lets do it for 10 epochs\n",
    "\n",
    "# now see 1 epoch\n",
    "\n",
    "epochs = 10\n",
    "for epoch in range(epochs):\n",
    "    print('\\n Epoch: ', epoch)\n",
    "    print('params: ',params)\n",
    "    loss = loss_mse(params)\n",
    "    loss.backward()\n",
    "    print('Loss: ', loss)\n",
    "    print('Gradients before no_grad: ',params.grad)\n",
    "    with torch.no_grad():\n",
    "        params -= 0.01*params.grad\n",
    "        print('Gradients after no_grad: ',params.grad)\n",
    "    print('params: ',params)"
   ]
  },
  {
   "cell_type": "code",
   "execution_count": 276,
   "id": "831c7a7e",
   "metadata": {},
   "outputs": [
    {
     "name": "stdout",
     "output_type": "stream",
     "text": [
      "tensor([0.5694, 0.5091, 0.1186])\n",
      "\n",
      " Epoch:  0\n",
      "params:  tensor([0.5694, 0.5091, 0.1186], requires_grad=True)\n",
      "Loss:  tensor(4.6755, grad_fn=<MeanBackward0>)\n",
      "Gradients before no_grad:  tensor([-1.5238e+00,  2.2352e-08, -8.6667e-01])\n",
      "Gradients after no_grad:  tensor([-1.5238e+00,  2.2352e-08, -8.6667e-01])\n",
      "params:  tensor([0.5846, 0.5091, 0.1273], requires_grad=True)\n",
      "\n",
      " Epoch:  1\n",
      "params:  tensor([0.5846, 0.5091, 0.1273], requires_grad=True)\n",
      "Loss:  tensor(4.6448, grad_fn=<MeanBackward0>)\n",
      "Gradients before no_grad:  tensor([-3.0476e+00,  4.4703e-08, -1.7333e+00])\n",
      "Gradients after no_grad:  tensor([-3.0476e+00,  4.4703e-08, -1.7333e+00])\n",
      "params:  tensor([0.6151, 0.5091, 0.1446], requires_grad=True)\n",
      "\n",
      " Epoch:  2\n",
      "params:  tensor([0.6151, 0.5091, 0.1446], requires_grad=True)\n",
      "Loss:  tensor(4.5833, grad_fn=<MeanBackward0>)\n",
      "Gradients before no_grad:  tensor([-4.5714e+00,  6.7055e-08, -2.6000e+00])\n",
      "Gradients after no_grad:  tensor([-4.5714e+00,  6.7055e-08, -2.6000e+00])\n",
      "params:  tensor([0.6608, 0.5091, 0.1706], requires_grad=True)\n",
      "\n",
      " Epoch:  3\n",
      "params:  tensor([0.6608, 0.5091, 0.1706], requires_grad=True)\n",
      "Loss:  tensor(4.4911, grad_fn=<MeanBackward0>)\n",
      "Gradients before no_grad:  tensor([-6.0952e+00,  8.9407e-08, -3.4667e+00])\n",
      "Gradients after no_grad:  tensor([-6.0952e+00,  8.9407e-08, -3.4667e+00])\n",
      "params:  tensor([0.7218, 0.5091, 0.2053], requires_grad=True)\n",
      "\n",
      " Epoch:  4\n",
      "params:  tensor([0.7218, 0.5091, 0.2053], requires_grad=True)\n",
      "Loss:  tensor(4.3682, grad_fn=<MeanBackward0>)\n",
      "Gradients before no_grad:  tensor([-7.6190e+00,  1.1176e-07, -4.3333e+00])\n",
      "Gradients after no_grad:  tensor([-7.6190e+00,  1.1176e-07, -4.3333e+00])\n",
      "params:  tensor([0.7980, 0.5091, 0.2486], requires_grad=True)\n",
      "\n",
      " Epoch:  5\n",
      "params:  tensor([0.7980, 0.5091, 0.2486], requires_grad=True)\n",
      "Loss:  tensor(4.2146, grad_fn=<MeanBackward0>)\n",
      "Gradients before no_grad:  tensor([-9.1429e+00,  1.3411e-07, -5.2000e+00])\n",
      "Gradients after no_grad:  tensor([-9.1429e+00,  1.3411e-07, -5.2000e+00])\n",
      "params:  tensor([0.8894, 0.5091, 0.3006], requires_grad=True)\n",
      "\n",
      " Epoch:  6\n",
      "params:  tensor([0.8894, 0.5091, 0.3006], requires_grad=True)\n",
      "Loss:  tensor(4.0302, grad_fn=<MeanBackward0>)\n",
      "Gradients before no_grad:  tensor([-1.0667e+01,  1.5646e-07, -6.0667e+00])\n",
      "Gradients after no_grad:  tensor([-1.0667e+01,  1.5646e-07, -6.0667e+00])\n",
      "params:  tensor([0.9961, 0.5091, 0.3613], requires_grad=True)\n",
      "\n",
      " Epoch:  7\n",
      "params:  tensor([0.9961, 0.5091, 0.3613], requires_grad=True)\n",
      "Loss:  tensor(3.8151, grad_fn=<MeanBackward0>)\n",
      "Gradients before no_grad:  tensor([-1.2190e+01,  1.7881e-07, -6.9333e+00])\n",
      "Gradients after no_grad:  tensor([-1.2190e+01,  1.7881e-07, -6.9333e+00])\n",
      "params:  tensor([1.1180, 0.5091, 0.4306], requires_grad=True)\n",
      "\n",
      " Epoch:  8\n",
      "params:  tensor([1.1180, 0.5091, 0.4306], requires_grad=True)\n",
      "Loss:  tensor(3.5692, grad_fn=<MeanBackward0>)\n",
      "Gradients before no_grad:  tensor([-1.3714e+01,  2.0117e-07, -7.8000e+00])\n",
      "Gradients after no_grad:  tensor([-1.3714e+01,  2.0117e-07, -7.8000e+00])\n",
      "params:  tensor([1.2551, 0.5091, 0.5086], requires_grad=True)\n",
      "\n",
      " Epoch:  9\n",
      "params:  tensor([1.2551, 0.5091, 0.5086], requires_grad=True)\n",
      "Loss:  tensor(3.3028, grad_fn=<MeanBackward0>)\n",
      "Gradients before no_grad:  tensor([-15.2272,  -0.0381,  -8.5333])\n",
      "Gradients after no_grad:  tensor([-15.2272,  -0.0381,  -8.5333])\n",
      "params:  tensor([1.4074, 0.5095, 0.5940], requires_grad=True)\n"
     ]
    }
   ],
   "source": [
    "# Lets do it for 10 epochs\n",
    "params = torch.randn(3)\n",
    "print(params)\n",
    "\n",
    "params.requires_grad_()\n",
    "\n",
    "def mse_loss_v2(y_preds):\n",
    "    return mae(y_preds, y_true)\n",
    "\n",
    "epochs = 10\n",
    "for epoch in range(epochs):\n",
    "    print('\\n Epoch: ', epoch)\n",
    "    print('params: ',params)\n",
    "    y_preds  = quad(*params,x)\n",
    "    loss = mse_loss_v2(y_preds)\n",
    "    loss.backward()\n",
    "    print('Loss: ', loss)\n",
    "    print('Gradients before no_grad: ',params.grad)\n",
    "    with torch.no_grad():\n",
    "        params -= 0.01*params.grad\n",
    "        print('Gradients after no_grad: ',params.grad)\n",
    "    print('params: ',params)"
   ]
  },
  {
   "cell_type": "markdown",
   "id": "551b5c5c",
   "metadata": {},
   "source": [
    "**Another Very IMPORTANT thing to notice is that:**\n",
    "\n",
    "`params.grad` keeps on increasing.\n",
    "**What will happen due to this?** -> With every epoch the updates would be larger\n",
    "\n",
    "**What could be the implication of this?** -> loss start to increase. \n",
    "\n",
    "*It may look like that your loss is improving but this will be true only for first few epochs or if your `lr` is too low. But if I increase the epochs to say 100 then definitely, you will see loss increasing.\n",
    "\n",
    "**For example see below:**"
   ]
  },
  {
   "cell_type": "code",
   "execution_count": 294,
   "id": "8d37acd3",
   "metadata": {},
   "outputs": [
    {
     "name": "stdout",
     "output_type": "stream",
     "text": [
      "tensor([ 1.4320,  1.1010, -0.7869])\n",
      "\n",
      " Epoch:  0\n",
      "params:  tensor([ 1.4320,  1.1010, -0.7869], requires_grad=True)\n",
      "Loss:  tensor(4.2563, grad_fn=<MeanBackward0>)\n",
      "Gradients before no_grad:  tensor([-1.5238e+00,  2.2352e-08, -1.0000e+00])\n",
      "Gradients after no_grad:  tensor([-1.5238e+00,  2.2352e-08, -1.0000e+00])\n",
      "params:  tensor([ 1.4472,  1.1010, -0.7769], requires_grad=True)\n",
      "\n",
      " Epoch:  1\n",
      "params:  tensor([ 1.4472,  1.1010, -0.7769], requires_grad=True)\n",
      "Loss:  tensor(4.2231, grad_fn=<MeanBackward0>)\n",
      "Gradients before no_grad:  tensor([-3.0476e+00,  4.4703e-08, -2.0000e+00])\n",
      "Gradients after no_grad:  tensor([-3.0476e+00,  4.4703e-08, -2.0000e+00])\n",
      "params:  tensor([ 1.4777,  1.1010, -0.7569], requires_grad=True)\n",
      "\n",
      " Epoch:  2\n",
      "params:  tensor([ 1.4777,  1.1010, -0.7569], requires_grad=True)\n",
      "Loss:  tensor(4.1566, grad_fn=<MeanBackward0>)\n",
      "Gradients before no_grad:  tensor([-4.5714e+00,  6.7055e-08, -3.0000e+00])\n",
      "Gradients after no_grad:  tensor([-4.5714e+00,  6.7055e-08, -3.0000e+00])\n",
      "params:  tensor([ 1.5234,  1.1010, -0.7269], requires_grad=True)\n",
      "\n",
      " Epoch:  3\n",
      "params:  tensor([ 1.5234,  1.1010, -0.7269], requires_grad=True)\n",
      "Loss:  tensor(4.0570, grad_fn=<MeanBackward0>)\n",
      "Gradients before no_grad:  tensor([-6.0952e+00,  8.9407e-08, -4.0000e+00])\n",
      "Gradients after no_grad:  tensor([-6.0952e+00,  8.9407e-08, -4.0000e+00])\n",
      "params:  tensor([ 1.5844,  1.1010, -0.6869], requires_grad=True)\n",
      "\n",
      " Epoch:  4\n",
      "params:  tensor([ 1.5844,  1.1010, -0.6869], requires_grad=True)\n",
      "Loss:  tensor(3.9241, grad_fn=<MeanBackward0>)\n",
      "Gradients before no_grad:  tensor([-7.6190e+00,  1.1176e-07, -5.0000e+00])\n",
      "Gradients after no_grad:  tensor([-7.6190e+00,  1.1176e-07, -5.0000e+00])\n",
      "params:  tensor([ 1.6606,  1.1010, -0.6369], requires_grad=True)\n",
      "\n",
      " Epoch:  5\n",
      "params:  tensor([ 1.6606,  1.1010, -0.6369], requires_grad=True)\n",
      "Loss:  tensor(3.7580, grad_fn=<MeanBackward0>)\n",
      "Gradients before no_grad:  tensor([-9.1429e+00,  1.3411e-07, -6.0000e+00])\n",
      "Gradients after no_grad:  tensor([-9.1429e+00,  1.3411e-07, -6.0000e+00])\n",
      "params:  tensor([ 1.7520,  1.1010, -0.5769], requires_grad=True)\n",
      "\n",
      " Epoch:  6\n",
      "params:  tensor([ 1.7520,  1.1010, -0.5769], requires_grad=True)\n",
      "Loss:  tensor(3.5587, grad_fn=<MeanBackward0>)\n",
      "Gradients before no_grad:  tensor([-1.0667e+01,  1.5646e-07, -7.0000e+00])\n",
      "Gradients after no_grad:  tensor([-1.0667e+01,  1.5646e-07, -7.0000e+00])\n",
      "params:  tensor([ 1.8587,  1.1010, -0.5069], requires_grad=True)\n",
      "\n",
      " Epoch:  7\n",
      "params:  tensor([ 1.8587,  1.1010, -0.5069], requires_grad=True)\n",
      "Loss:  tensor(3.3261, grad_fn=<MeanBackward0>)\n",
      "Gradients before no_grad:  tensor([-1.2190e+01,  1.7881e-07, -8.0000e+00])\n",
      "Gradients after no_grad:  tensor([-1.2190e+01,  1.7881e-07, -8.0000e+00])\n",
      "params:  tensor([ 1.9806,  1.1010, -0.4269], requires_grad=True)\n",
      "\n",
      " Epoch:  8\n",
      "params:  tensor([ 1.9806,  1.1010, -0.4269], requires_grad=True)\n",
      "Loss:  tensor(3.0604, grad_fn=<MeanBackward0>)\n",
      "Gradients before no_grad:  tensor([-1.3714e+01,  2.0117e-07, -9.0000e+00])\n",
      "Gradients after no_grad:  tensor([-1.3714e+01,  2.0117e-07, -9.0000e+00])\n",
      "params:  tensor([ 2.1177,  1.1010, -0.3369], requires_grad=True)\n",
      "\n",
      " Epoch:  9\n",
      "params:  tensor([ 2.1177,  1.1010, -0.3369], requires_grad=True)\n",
      "Loss:  tensor(2.7614, grad_fn=<MeanBackward0>)\n",
      "Gradients before no_grad:  tensor([-1.5238e+01,  2.2352e-07, -1.0000e+01])\n",
      "Gradients after no_grad:  tensor([-1.5238e+01,  2.2352e-07, -1.0000e+01])\n",
      "params:  tensor([ 2.2701,  1.1010, -0.2369], requires_grad=True)\n",
      "\n",
      " Epoch:  10\n",
      "params:  tensor([ 2.2701,  1.1010, -0.2369], requires_grad=True)\n",
      "Loss:  tensor(2.4292, grad_fn=<MeanBackward0>)\n",
      "Gradients before no_grad:  tensor([-1.6762e+01,  2.4587e-07, -1.1000e+01])\n",
      "Gradients after no_grad:  tensor([-1.6762e+01,  2.4587e-07, -1.1000e+01])\n",
      "params:  tensor([ 2.4377,  1.1010, -0.1269], requires_grad=True)\n",
      "\n",
      " Epoch:  11\n",
      "params:  tensor([ 2.4377,  1.1010, -0.1269], requires_grad=True)\n",
      "Loss:  tensor(2.0638, grad_fn=<MeanBackward0>)\n",
      "Gradients before no_grad:  tensor([-1.8286e+01,  2.6822e-07, -1.2000e+01])\n",
      "Gradients after no_grad:  tensor([-1.8286e+01,  2.6822e-07, -1.2000e+01])\n",
      "params:  tensor([ 2.6206,  1.1010, -0.0069], requires_grad=True)\n",
      "\n",
      " Epoch:  12\n",
      "params:  tensor([ 2.6206,  1.1010, -0.0069], requires_grad=True)\n",
      "Loss:  tensor(1.7037, grad_fn=<MeanBackward0>)\n",
      "Gradients before no_grad:  tensor([-19.4177,  -0.2286, -12.8667])\n",
      "Gradients after no_grad:  tensor([-19.4177,  -0.2286, -12.8667])\n",
      "params:  tensor([2.8147, 1.1033, 0.1218], requires_grad=True)\n",
      "\n",
      " Epoch:  13\n",
      "params:  tensor([2.8147, 1.1033, 0.1218], requires_grad=True)\n",
      "Loss:  tensor(1.4166, grad_fn=<MeanBackward0>)\n",
      "Gradients before no_grad:  tensor([-20.0163,  -0.7238, -13.4667])\n",
      "Gradients after no_grad:  tensor([-20.0163,  -0.7238, -13.4667])\n",
      "params:  tensor([3.0149, 1.1105, 0.2564], requires_grad=True)\n",
      "\n",
      " Epoch:  14\n",
      "params:  tensor([3.0149, 1.1105, 0.2564], requires_grad=True)\n",
      "Loss:  tensor(1.2762, grad_fn=<MeanBackward0>)\n",
      "Gradients before no_grad:  tensor([-20.1687,  -1.5619, -13.8000])\n",
      "Gradients after no_grad:  tensor([-20.1687,  -1.5619, -13.8000])\n",
      "params:  tensor([3.2166, 1.1261, 0.3944], requires_grad=True)\n",
      "\n",
      " Epoch:  15\n",
      "params:  tensor([3.2166, 1.1261, 0.3944], requires_grad=True)\n",
      "Loss:  tensor(1.2021, grad_fn=<MeanBackward0>)\n",
      "Gradients before no_grad:  tensor([-20.2231,  -2.5143, -14.0000])\n",
      "Gradients after no_grad:  tensor([-20.2231,  -2.5143, -14.0000])\n",
      "params:  tensor([3.4188, 1.1513, 0.5344], requires_grad=True)\n",
      "\n",
      " Epoch:  16\n",
      "params:  tensor([3.4188, 1.1513, 0.5344], requires_grad=True)\n",
      "Loss:  tensor(1.1518, grad_fn=<MeanBackward0>)\n",
      "Gradients before no_grad:  tensor([-20.2667,  -3.5048, -14.0667])\n",
      "Gradients after no_grad:  tensor([-20.2667,  -3.5048, -14.0667])\n",
      "params:  tensor([3.6215, 1.1863, 0.6751], requires_grad=True)\n",
      "\n",
      " Epoch:  17\n",
      "params:  tensor([3.6215, 1.1863, 0.6751], requires_grad=True)\n",
      "Loss:  tensor(1.1207, grad_fn=<MeanBackward0>)\n",
      "Gradients before no_grad:  tensor([-19.7769,  -4.2286, -14.0000])\n",
      "Gradients after no_grad:  tensor([-19.7769,  -4.2286, -14.0000])\n",
      "params:  tensor([3.8193, 1.2286, 0.8151], requires_grad=True)\n",
      "\n",
      " Epoch:  18\n",
      "params:  tensor([3.8193, 1.2286, 0.8151], requires_grad=True)\n",
      "Loss:  tensor(1.2901, grad_fn=<MeanBackward0>)\n",
      "Gradients before no_grad:  tensor([-18.5252,  -4.4190, -13.5333])\n",
      "Gradients after no_grad:  tensor([-18.5252,  -4.4190, -13.5333])\n",
      "params:  tensor([4.0045, 1.2728, 0.9504], requires_grad=True)\n",
      "\n",
      " Epoch:  19\n",
      "params:  tensor([4.0045, 1.2728, 0.9504], requires_grad=True)\n",
      "Loss:  tensor(1.6160, grad_fn=<MeanBackward0>)\n",
      "Gradients before no_grad:  tensor([-17.0558,  -4.5333, -12.8000])\n",
      "Gradients after no_grad:  tensor([-17.0558,  -4.5333, -12.8000])\n",
      "params:  tensor([4.1751, 1.3181, 1.0784], requires_grad=True)\n"
     ]
    }
   ],
   "source": [
    "# Lets do it for 10 epochs\n",
    "#params = torch.randn(3)\n",
    "params =tensor([ 1.4320,  1.1010, -0.7869])\n",
    "print(params)\n",
    "\n",
    "params.requires_grad_()\n",
    "losses = []\n",
    "def mse_loss_v2(y_preds, y_true):\n",
    "    return mae(y_preds, y_true)\n",
    "\n",
    "epochs = 20\n",
    "for epoch in range(epochs):\n",
    "    print('\\n Epoch: ', epoch)\n",
    "    print('params: ',params)\n",
    "    y_preds  = quad(*params,x)\n",
    "    loss = mse_loss_v2(y_preds, y_true)\n",
    "    losses.append(loss.item())\n",
    "    loss.backward()\n",
    "    print('Loss: ', loss)\n",
    "    print('Gradients before no_grad: ',params.grad)\n",
    "    with torch.no_grad():\n",
    "        params -= 0.01*params.grad\n",
    "        print('Gradients after no_grad: ',params.grad)\n",
    "    print('params: ',params)"
   ]
  },
  {
   "cell_type": "code",
   "execution_count": 295,
   "id": "8a5a0ef9",
   "metadata": {},
   "outputs": [
    {
     "data": {
      "text/plain": [
       "[<matplotlib.lines.Line2D at 0x1ee7aa7eb30>]"
      ]
     },
     "execution_count": 295,
     "metadata": {},
     "output_type": "execute_result"
    },
    {
     "data": {
      "image/png": "[encoded data removed]",
      "text/plain": [
       "<Figure size 640x480 with 1 Axes>"
      ]
     },
     "metadata": {},
     "output_type": "display_data"
    }
   ],
   "source": [
    "plt.plot(range(epochs), losses)"
   ]
  },
  {
   "cell_type": "markdown",
   "id": "f9f971b4",
   "metadata": {},
   "source": [
    "# To counter this, I will have to set the `params.grad` to be zero after update has happened"
   ]
  },
  {
   "cell_type": "code",
   "execution_count": 297,
   "id": "db2c593d",
   "metadata": {},
   "outputs": [
    {
     "data": {
      "text/plain": [
       "['H',\n",
       " 'T',\n",
       " '__abs__',\n",
       " '__add__',\n",
       " '__and__',\n",
       " '__array__',\n",
       " '__array_eq__',\n",
       " '__array_priority__',\n",
       " '__array_wrap__',\n",
       " '__bool__',\n",
       " '__class__',\n",
       " '__complex__',\n",
       " '__contains__',\n",
       " '__deepcopy__',\n",
       " '__delattr__',\n",
       " '__delitem__',\n",
       " '__dict__',\n",
       " '__dir__',\n",
       " '__div__',\n",
       " '__dlpack__',\n",
       " '__dlpack_device__',\n",
       " '__doc__',\n",
       " '__eq__',\n",
       " '__float__',\n",
       " '__floordiv__',\n",
       " '__format__',\n",
       " '__ge__',\n",
       " '__getattribute__',\n",
       " '__getitem__',\n",
       " '__gt__',\n",
       " '__hash__',\n",
       " '__iadd__',\n",
       " '__iand__',\n",
       " '__idiv__',\n",
       " '__ifloordiv__',\n",
       " '__ilshift__',\n",
       " '__imod__',\n",
       " '__imul__',\n",
       " '__index__',\n",
       " '__init__',\n",
       " '__init_subclass__',\n",
       " '__int__',\n",
       " '__invert__',\n",
       " '__ior__',\n",
       " '__ipow__',\n",
       " '__irshift__',\n",
       " '__isub__',\n",
       " '__iter__',\n",
       " '__itruediv__',\n",
       " '__ixor__',\n",
       " '__le__',\n",
       " '__len__',\n",
       " '__long__',\n",
       " '__lshift__',\n",
       " '__lt__',\n",
       " '__matmul__',\n",
       " '__mod__',\n",
       " '__module__',\n",
       " '__mul__',\n",
       " '__ne__',\n",
       " '__neg__',\n",
       " '__new__',\n",
       " '__nonzero__',\n",
       " '__or__',\n",
       " '__pos__',\n",
       " '__pow__',\n",
       " '__radd__',\n",
       " '__rand__',\n",
       " '__rdiv__',\n",
       " '__reduce__',\n",
       " '__reduce_ex__',\n",
       " '__repr__',\n",
       " '__reversed__',\n",
       " '__rfloordiv__',\n",
       " '__rlshift__',\n",
       " '__rmatmul__',\n",
       " '__rmod__',\n",
       " '__rmul__',\n",
       " '__ror__',\n",
       " '__rpow__',\n",
       " '__rrshift__',\n",
       " '__rshift__',\n",
       " '__rsub__',\n",
       " '__rtruediv__',\n",
       " '__rxor__',\n",
       " '__setattr__',\n",
       " '__setitem__',\n",
       " '__setstate__',\n",
       " '__sizeof__',\n",
       " '__str__',\n",
       " '__sub__',\n",
       " '__subclasshook__',\n",
       " '__torch_dispatch__',\n",
       " '__torch_function__',\n",
       " '__truediv__',\n",
       " '__weakref__',\n",
       " '__xor__',\n",
       " '_addmm_activation',\n",
       " '_autocast_to_full_precision',\n",
       " '_autocast_to_reduced_precision',\n",
       " '_backward_hooks',\n",
       " '_base',\n",
       " '_cdata',\n",
       " '_coalesced_',\n",
       " '_conj',\n",
       " '_conj_physical',\n",
       " '_dimI',\n",
       " '_dimV',\n",
       " '_fix_weakref',\n",
       " '_grad',\n",
       " '_grad_fn',\n",
       " '_has_symbolic_sizes_strides',\n",
       " '_indices',\n",
       " '_is_view',\n",
       " '_is_zerotensor',\n",
       " '_make_subclass',\n",
       " '_make_wrapper_subclass',\n",
       " '_neg_view',\n",
       " '_nested_tensor_layer_norm',\n",
       " '_nested_tensor_size',\n",
       " '_nnz',\n",
       " '_python_dispatch',\n",
       " '_reduce_ex_internal',\n",
       " '_storage',\n",
       " '_to_dense',\n",
       " '_update_names',\n",
       " '_values',\n",
       " '_version',\n",
       " 'abs',\n",
       " 'abs_',\n",
       " 'absolute',\n",
       " 'absolute_',\n",
       " 'acos',\n",
       " 'acos_',\n",
       " 'acosh',\n",
       " 'acosh_',\n",
       " 'add',\n",
       " 'add_',\n",
       " 'addbmm',\n",
       " 'addbmm_',\n",
       " 'addcdiv',\n",
       " 'addcdiv_',\n",
       " 'addcmul',\n",
       " 'addcmul_',\n",
       " 'addmm',\n",
       " 'addmm_',\n",
       " 'addmv',\n",
       " 'addmv_',\n",
       " 'addr',\n",
       " 'addr_',\n",
       " 'adjoint',\n",
       " 'align_as',\n",
       " 'align_to',\n",
       " 'all',\n",
       " 'allclose',\n",
       " 'amax',\n",
       " 'amin',\n",
       " 'aminmax',\n",
       " 'angle',\n",
       " 'any',\n",
       " 'apply_',\n",
       " 'arccos',\n",
       " 'arccos_',\n",
       " 'arccosh',\n",
       " 'arccosh_',\n",
       " 'arcsin',\n",
       " 'arcsin_',\n",
       " 'arcsinh',\n",
       " 'arcsinh_',\n",
       " 'arctan',\n",
       " 'arctan2',\n",
       " 'arctan2_',\n",
       " 'arctan_',\n",
       " 'arctanh',\n",
       " 'arctanh_',\n",
       " 'argmax',\n",
       " 'argmin',\n",
       " 'argsort',\n",
       " 'argwhere',\n",
       " 'as_strided',\n",
       " 'as_strided_',\n",
       " 'as_strided_scatter',\n",
       " 'as_subclass',\n",
       " 'asin',\n",
       " 'asin_',\n",
       " 'asinh',\n",
       " 'asinh_',\n",
       " 'atan',\n",
       " 'atan2',\n",
       " 'atan2_',\n",
       " 'atan_',\n",
       " 'atanh',\n",
       " 'atanh_',\n",
       " 'backward',\n",
       " 'baddbmm',\n",
       " 'baddbmm_',\n",
       " 'bernoulli',\n",
       " 'bernoulli_',\n",
       " 'bfloat16',\n",
       " 'bincount',\n",
       " 'bitwise_and',\n",
       " 'bitwise_and_',\n",
       " 'bitwise_left_shift',\n",
       " 'bitwise_left_shift_',\n",
       " 'bitwise_not',\n",
       " 'bitwise_not_',\n",
       " 'bitwise_or',\n",
       " 'bitwise_or_',\n",
       " 'bitwise_right_shift',\n",
       " 'bitwise_right_shift_',\n",
       " 'bitwise_xor',\n",
       " 'bitwise_xor_',\n",
       " 'bmm',\n",
       " 'bool',\n",
       " 'broadcast_to',\n",
       " 'byte',\n",
       " 'cauchy_',\n",
       " 'ccol_indices',\n",
       " 'cdouble',\n",
       " 'ceil',\n",
       " 'ceil_',\n",
       " 'cfloat',\n",
       " 'chalf',\n",
       " 'char',\n",
       " 'cholesky',\n",
       " 'cholesky_inverse',\n",
       " 'cholesky_solve',\n",
       " 'chunk',\n",
       " 'clamp',\n",
       " 'clamp_',\n",
       " 'clamp_max',\n",
       " 'clamp_max_',\n",
       " 'clamp_min',\n",
       " 'clamp_min_',\n",
       " 'clip',\n",
       " 'clip_',\n",
       " 'clone',\n",
       " 'coalesce',\n",
       " 'col_indices',\n",
       " 'conj',\n",
       " 'conj_physical',\n",
       " 'conj_physical_',\n",
       " 'contiguous',\n",
       " 'copy_',\n",
       " 'copysign',\n",
       " 'copysign_',\n",
       " 'corrcoef',\n",
       " 'cos',\n",
       " 'cos_',\n",
       " 'cosh',\n",
       " 'cosh_',\n",
       " 'count_nonzero',\n",
       " 'cov',\n",
       " 'cpu',\n",
       " 'cross',\n",
       " 'crow_indices',\n",
       " 'cuda',\n",
       " 'cummax',\n",
       " 'cummin',\n",
       " 'cumprod',\n",
       " 'cumprod_',\n",
       " 'cumsum',\n",
       " 'cumsum_',\n",
       " 'data',\n",
       " 'data_ptr',\n",
       " 'deg2rad',\n",
       " 'deg2rad_',\n",
       " 'dense_dim',\n",
       " 'dequantize',\n",
       " 'det',\n",
       " 'detach',\n",
       " 'detach_',\n",
       " 'device',\n",
       " 'diag',\n",
       " 'diag_embed',\n",
       " 'diagflat',\n",
       " 'diagonal',\n",
       " 'diagonal_scatter',\n",
       " 'diff',\n",
       " 'digamma',\n",
       " 'digamma_',\n",
       " 'dim',\n",
       " 'dist',\n",
       " 'div',\n",
       " 'div_',\n",
       " 'divide',\n",
       " 'divide_',\n",
       " 'dot',\n",
       " 'double',\n",
       " 'dsplit',\n",
       " 'dtype',\n",
       " 'eig',\n",
       " 'element_size',\n",
       " 'eq',\n",
       " 'eq_',\n",
       " 'equal',\n",
       " 'erf',\n",
       " 'erf_',\n",
       " 'erfc',\n",
       " 'erfc_',\n",
       " 'erfinv',\n",
       " 'erfinv_',\n",
       " 'exp',\n",
       " 'exp2',\n",
       " 'exp2_',\n",
       " 'exp_',\n",
       " 'expand',\n",
       " 'expand_as',\n",
       " 'expm1',\n",
       " 'expm1_',\n",
       " 'exponential_',\n",
       " 'fill_',\n",
       " 'fill_diagonal_',\n",
       " 'fix',\n",
       " 'fix_',\n",
       " 'flatten',\n",
       " 'flip',\n",
       " 'fliplr',\n",
       " 'flipud',\n",
       " 'float',\n",
       " 'float_power',\n",
       " 'float_power_',\n",
       " 'floor',\n",
       " 'floor_',\n",
       " 'floor_divide',\n",
       " 'floor_divide_',\n",
       " 'fmax',\n",
       " 'fmin',\n",
       " 'fmod',\n",
       " 'fmod_',\n",
       " 'frac',\n",
       " 'frac_',\n",
       " 'frexp',\n",
       " 'gather',\n",
       " 'gcd',\n",
       " 'gcd_',\n",
       " 'ge',\n",
       " 'ge_',\n",
       " 'geometric_',\n",
       " 'geqrf',\n",
       " 'ger',\n",
       " 'get_device',\n",
       " 'grad',\n",
       " 'grad_fn',\n",
       " 'greater',\n",
       " 'greater_',\n",
       " 'greater_equal',\n",
       " 'greater_equal_',\n",
       " 'gt',\n",
       " 'gt_',\n",
       " 'half',\n",
       " 'hardshrink',\n",
       " 'has_names',\n",
       " 'heaviside',\n",
       " 'heaviside_',\n",
       " 'histc',\n",
       " 'histogram',\n",
       " 'hsplit',\n",
       " 'hypot',\n",
       " 'hypot_',\n",
       " 'i0',\n",
       " 'i0_',\n",
       " 'igamma',\n",
       " 'igamma_',\n",
       " 'igammac',\n",
       " 'igammac_',\n",
       " 'imag',\n",
       " 'index_add',\n",
       " 'index_add_',\n",
       " 'index_copy',\n",
       " 'index_copy_',\n",
       " 'index_fill',\n",
       " 'index_fill_',\n",
       " 'index_put',\n",
       " 'index_put_',\n",
       " 'index_reduce',\n",
       " 'index_reduce_',\n",
       " 'index_select',\n",
       " 'indices',\n",
       " 'inner',\n",
       " 'int',\n",
       " 'int_repr',\n",
       " 'interp_1d',\n",
       " 'inverse',\n",
       " 'ipu',\n",
       " 'is_coalesced',\n",
       " 'is_complex',\n",
       " 'is_conj',\n",
       " 'is_contiguous',\n",
       " 'is_cpu',\n",
       " 'is_cuda',\n",
       " 'is_distributed',\n",
       " 'is_floating_point',\n",
       " 'is_inference',\n",
       " 'is_ipu',\n",
       " 'is_leaf',\n",
       " 'is_meta',\n",
       " 'is_mkldnn',\n",
       " 'is_mps',\n",
       " 'is_neg',\n",
       " 'is_nested',\n",
       " 'is_nonzero',\n",
       " 'is_ort',\n",
       " 'is_pinned',\n",
       " 'is_quantized',\n",
       " 'is_same_size',\n",
       " 'is_set_to',\n",
       " 'is_shared',\n",
       " 'is_signed',\n",
       " 'is_sparse',\n",
       " 'is_sparse_csr',\n",
       " 'is_vulkan',\n",
       " 'is_xpu',\n",
       " 'isclose',\n",
       " 'isfinite',\n",
       " 'isinf',\n",
       " 'isnan',\n",
       " 'isneginf',\n",
       " 'isposinf',\n",
       " 'isreal',\n",
       " 'istft',\n",
       " 'item',\n",
       " 'kron',\n",
       " 'kthvalue',\n",
       " 'layout',\n",
       " 'lcm',\n",
       " 'lcm_',\n",
       " 'ldexp',\n",
       " 'ldexp_',\n",
       " 'le',\n",
       " 'le_',\n",
       " 'lerp',\n",
       " 'lerp_',\n",
       " 'less',\n",
       " 'less_',\n",
       " 'less_equal',\n",
       " 'less_equal_',\n",
       " 'lgamma',\n",
       " 'lgamma_',\n",
       " 'log',\n",
       " 'log10',\n",
       " 'log10_',\n",
       " 'log1p',\n",
       " 'log1p_',\n",
       " 'log2',\n",
       " 'log2_',\n",
       " 'log_',\n",
       " 'log_normal_',\n",
       " 'log_softmax',\n",
       " 'logaddexp',\n",
       " 'logaddexp2',\n",
       " 'logcumsumexp',\n",
       " 'logdet',\n",
       " 'logical_and',\n",
       " 'logical_and_',\n",
       " 'logical_not',\n",
       " 'logical_not_',\n",
       " 'logical_or',\n",
       " 'logical_or_',\n",
       " 'logical_xor',\n",
       " 'logical_xor_',\n",
       " 'logit',\n",
       " 'logit_',\n",
       " 'logsumexp',\n",
       " 'long',\n",
       " 'lstsq',\n",
       " 'lt',\n",
       " 'lt_',\n",
       " 'lu',\n",
       " 'lu_solve',\n",
       " 'mH',\n",
       " 'mT',\n",
       " 'map2_',\n",
       " 'map_',\n",
       " 'masked_fill',\n",
       " 'masked_fill_',\n",
       " 'masked_scatter',\n",
       " 'masked_scatter_',\n",
       " 'masked_select',\n",
       " 'matmul',\n",
       " 'matrix_exp',\n",
       " 'matrix_power',\n",
       " 'max',\n",
       " 'maximum',\n",
       " 'mean',\n",
       " 'median',\n",
       " 'min',\n",
       " 'minimum',\n",
       " 'mm',\n",
       " 'mode',\n",
       " 'moveaxis',\n",
       " 'movedim',\n",
       " 'msort',\n",
       " 'mul',\n",
       " 'mul_',\n",
       " 'multinomial',\n",
       " 'multiply',\n",
       " 'multiply_',\n",
       " 'mv',\n",
       " 'mvlgamma',\n",
       " 'mvlgamma_',\n",
       " 'name',\n",
       " 'names',\n",
       " 'nan_to_num',\n",
       " 'nan_to_num_',\n",
       " 'nanmean',\n",
       " 'nanmedian',\n",
       " 'nanquantile',\n",
       " 'nansum',\n",
       " 'narrow',\n",
       " 'narrow_copy',\n",
       " 'ndim',\n",
       " 'ndimension',\n",
       " 'ne',\n",
       " 'ne_',\n",
       " 'neg',\n",
       " 'neg_',\n",
       " 'negative',\n",
       " 'negative_',\n",
       " 'nelement',\n",
       " 'new',\n",
       " 'new_empty',\n",
       " 'new_empty_strided',\n",
       " 'new_full',\n",
       " 'new_ones',\n",
       " 'new_tensor',\n",
       " 'new_zeros',\n",
       " 'nextafter',\n",
       " 'nextafter_',\n",
       " 'nonzero',\n",
       " 'norm',\n",
       " 'normal_',\n",
       " 'not_equal',\n",
       " 'not_equal_',\n",
       " 'numel',\n",
       " 'numpy',\n",
       " 'orgqr',\n",
       " 'ormqr',\n",
       " 'outer',\n",
       " 'output_nr',\n",
       " 'pca',\n",
       " 'permute',\n",
       " 'pin_memory',\n",
       " 'pinverse',\n",
       " 'polygamma',\n",
       " 'polygamma_',\n",
       " 'positive',\n",
       " 'pow',\n",
       " 'pow_',\n",
       " 'prelu',\n",
       " 'prod',\n",
       " 'put',\n",
       " 'put_',\n",
       " 'q_per_channel_axis',\n",
       " 'q_per_channel_scales',\n",
       " 'q_per_channel_zero_points',\n",
       " 'q_scale',\n",
       " 'q_zero_point',\n",
       " 'qr',\n",
       " 'qscheme',\n",
       " 'quantile',\n",
       " 'rad2deg',\n",
       " 'rad2deg_',\n",
       " 'random_',\n",
       " 'ravel',\n",
       " 'real',\n",
       " 'reciprocal',\n",
       " 'reciprocal_',\n",
       " 'record_stream',\n",
       " 'refine_names',\n",
       " 'register_hook',\n",
       " 'reinforce',\n",
       " 'relu',\n",
       " 'relu_',\n",
       " 'remainder',\n",
       " 'remainder_',\n",
       " 'rename',\n",
       " 'rename_',\n",
       " 'renorm',\n",
       " 'renorm_',\n",
       " 'repeat',\n",
       " 'repeat_interleave',\n",
       " 'requires_grad',\n",
       " 'requires_grad_',\n",
       " 'reshape',\n",
       " 'reshape_as',\n",
       " 'resize',\n",
       " 'resize_',\n",
       " 'resize_as',\n",
       " 'resize_as_',\n",
       " 'resize_as_sparse_',\n",
       " 'resolve_conj',\n",
       " 'resolve_neg',\n",
       " 'retain_grad',\n",
       " 'retains_grad',\n",
       " 'roll',\n",
       " 'rot90',\n",
       " 'round',\n",
       " 'round_',\n",
       " 'row_indices',\n",
       " 'rsqrt',\n",
       " 'rsqrt_',\n",
       " 'scatter',\n",
       " 'scatter_',\n",
       " 'scatter_add',\n",
       " 'scatter_add_',\n",
       " 'scatter_reduce',\n",
       " 'scatter_reduce_',\n",
       " 'select',\n",
       " 'select_scatter',\n",
       " 'set_',\n",
       " 'set_meta',\n",
       " 'sgn',\n",
       " 'sgn_',\n",
       " 'shape',\n",
       " 'share_memory_',\n",
       " 'short',\n",
       " 'sigmoid',\n",
       " 'sigmoid_',\n",
       " 'sign',\n",
       " 'sign_',\n",
       " 'signbit',\n",
       " 'sin',\n",
       " 'sin_',\n",
       " 'sinc',\n",
       " 'sinc_',\n",
       " 'sinh',\n",
       " 'sinh_',\n",
       " 'size',\n",
       " 'slice_scatter',\n",
       " 'slogdet',\n",
       " 'smm',\n",
       " 'softmax',\n",
       " 'solve',\n",
       " 'sort',\n",
       " 'sparse_dim',\n",
       " 'sparse_mask',\n",
       " 'sparse_resize_',\n",
       " 'sparse_resize_and_clear_',\n",
       " 'split',\n",
       " 'split_with_sizes',\n",
       " 'sqrt',\n",
       " 'sqrt_',\n",
       " 'square',\n",
       " 'square_',\n",
       " 'squeeze',\n",
       " 'squeeze_',\n",
       " 'sspaddmm',\n",
       " 'std',\n",
       " 'stft',\n",
       " 'storage',\n",
       " 'storage_offset',\n",
       " 'storage_type',\n",
       " 'stride',\n",
       " 'sub',\n",
       " 'sub_',\n",
       " 'subtract',\n",
       " 'subtract_',\n",
       " 'sum',\n",
       " 'sum_to_size',\n",
       " 'svd',\n",
       " 'swapaxes',\n",
       " 'swapaxes_',\n",
       " 'swapdims',\n",
       " 'swapdims_',\n",
       " 'symeig',\n",
       " 't',\n",
       " 't_',\n",
       " 'take',\n",
       " 'take_along_dim',\n",
       " 'tan',\n",
       " 'tan_',\n",
       " 'tanh',\n",
       " 'tanh_',\n",
       " 'tensor_split',\n",
       " 'tile',\n",
       " 'to',\n",
       " 'to_dense',\n",
       " 'to_mkldnn',\n",
       " 'to_padded_tensor',\n",
       " 'to_sparse',\n",
       " 'to_sparse_bsc',\n",
       " 'to_sparse_bsr',\n",
       " 'to_sparse_coo',\n",
       " 'to_sparse_csc',\n",
       " 'to_sparse_csr',\n",
       " 'tolist',\n",
       " 'topk',\n",
       " 'trace',\n",
       " 'transpose',\n",
       " 'transpose_',\n",
       " 'triangular_solve',\n",
       " 'tril',\n",
       " 'tril_',\n",
       " 'triu',\n",
       " 'triu_',\n",
       " 'true_divide',\n",
       " 'true_divide_',\n",
       " 'trunc',\n",
       " 'trunc_',\n",
       " 'type',\n",
       " 'type_as',\n",
       " 'unbind',\n",
       " 'unflatten',\n",
       " 'unfold',\n",
       " 'uniform_',\n",
       " 'unique',\n",
       " 'unique_consecutive',\n",
       " 'unsafe_chunk',\n",
       " 'unsafe_split',\n",
       " 'unsafe_split_with_sizes',\n",
       " 'unsqueeze',\n",
       " 'unsqueeze_',\n",
       " 'values',\n",
       " 'var',\n",
       " 'vdot',\n",
       " 'view',\n",
       " 'view_as',\n",
       " 'vsplit',\n",
       " 'where',\n",
       " 'xlogy',\n",
       " 'xlogy_',\n",
       " 'xpu',\n",
       " 'zero_']"
      ]
     },
     "execution_count": 297,
     "metadata": {},
     "output_type": "execute_result"
    }
   ],
   "source": [
    "dir(params.grad)"
   ]
  },
  {
   "cell_type": "code",
   "execution_count": 298,
   "id": "b7693b59",
   "metadata": {},
   "outputs": [
    {
     "name": "stdout",
     "output_type": "stream",
     "text": [
      "tensor([ 1.4320,  1.1010, -0.7869])\n",
      "\n",
      " Epoch:  0\n",
      "params:  tensor([ 1.4320,  1.1010, -0.7869], requires_grad=True)\n",
      "Loss:  tensor(4.2563, grad_fn=<MeanBackward0>)\n",
      "Gradients before no_grad:  tensor([-1.5238e+00,  2.2352e-08, -1.0000e+00])\n",
      "Gradients after no_grad:  tensor([0., 0., 0.])\n",
      "params:  tensor([ 1.4472,  1.1010, -0.7769], requires_grad=True)\n",
      "\n",
      " Epoch:  1\n",
      "params:  tensor([ 1.4472,  1.1010, -0.7769], requires_grad=True)\n",
      "Loss:  tensor(4.2231, grad_fn=<MeanBackward0>)\n",
      "Gradients before no_grad:  tensor([-1.5238e+00,  2.2352e-08, -1.0000e+00])\n",
      "Gradients after no_grad:  tensor([0., 0., 0.])\n",
      "params:  tensor([ 1.4625,  1.1010, -0.7669], requires_grad=True)\n",
      "\n",
      " Epoch:  2\n",
      "params:  tensor([ 1.4625,  1.1010, -0.7669], requires_grad=True)\n",
      "Loss:  tensor(4.1898, grad_fn=<MeanBackward0>)\n",
      "Gradients before no_grad:  tensor([-1.5238e+00,  2.2352e-08, -1.0000e+00])\n",
      "Gradients after no_grad:  tensor([0., 0., 0.])\n",
      "params:  tensor([ 1.4777,  1.1010, -0.7569], requires_grad=True)\n",
      "\n",
      " Epoch:  3\n",
      "params:  tensor([ 1.4777,  1.1010, -0.7569], requires_grad=True)\n",
      "Loss:  tensor(4.1566, grad_fn=<MeanBackward0>)\n",
      "Gradients before no_grad:  tensor([-1.5238e+00,  2.2352e-08, -1.0000e+00])\n",
      "Gradients after no_grad:  tensor([0., 0., 0.])\n",
      "params:  tensor([ 1.4930,  1.1010, -0.7469], requires_grad=True)\n",
      "\n",
      " Epoch:  4\n",
      "params:  tensor([ 1.4930,  1.1010, -0.7469], requires_grad=True)\n",
      "Loss:  tensor(4.1234, grad_fn=<MeanBackward0>)\n",
      "Gradients before no_grad:  tensor([-1.5238e+00,  2.2352e-08, -1.0000e+00])\n",
      "Gradients after no_grad:  tensor([0., 0., 0.])\n",
      "params:  tensor([ 1.5082,  1.1010, -0.7369], requires_grad=True)\n",
      "\n",
      " Epoch:  5\n",
      "params:  tensor([ 1.5082,  1.1010, -0.7369], requires_grad=True)\n",
      "Loss:  tensor(4.0902, grad_fn=<MeanBackward0>)\n",
      "Gradients before no_grad:  tensor([-1.5238e+00,  2.2352e-08, -1.0000e+00])\n",
      "Gradients after no_grad:  tensor([0., 0., 0.])\n",
      "params:  tensor([ 1.5234,  1.1010, -0.7269], requires_grad=True)\n",
      "\n",
      " Epoch:  6\n",
      "params:  tensor([ 1.5234,  1.1010, -0.7269], requires_grad=True)\n",
      "Loss:  tensor(4.0570, grad_fn=<MeanBackward0>)\n",
      "Gradients before no_grad:  tensor([-1.5238e+00,  2.2352e-08, -1.0000e+00])\n",
      "Gradients after no_grad:  tensor([0., 0., 0.])\n",
      "params:  tensor([ 1.5387,  1.1010, -0.7169], requires_grad=True)\n",
      "\n",
      " Epoch:  7\n",
      "params:  tensor([ 1.5387,  1.1010, -0.7169], requires_grad=True)\n",
      "Loss:  tensor(4.0237, grad_fn=<MeanBackward0>)\n",
      "Gradients before no_grad:  tensor([-1.5238e+00,  2.2352e-08, -1.0000e+00])\n",
      "Gradients after no_grad:  tensor([0., 0., 0.])\n",
      "params:  tensor([ 1.5539,  1.1010, -0.7069], requires_grad=True)\n",
      "\n",
      " Epoch:  8\n",
      "params:  tensor([ 1.5539,  1.1010, -0.7069], requires_grad=True)\n",
      "Loss:  tensor(3.9905, grad_fn=<MeanBackward0>)\n",
      "Gradients before no_grad:  tensor([-1.5238e+00,  2.2352e-08, -1.0000e+00])\n",
      "Gradients after no_grad:  tensor([0., 0., 0.])\n",
      "params:  tensor([ 1.5691,  1.1010, -0.6969], requires_grad=True)\n",
      "\n",
      " Epoch:  9\n",
      "params:  tensor([ 1.5691,  1.1010, -0.6969], requires_grad=True)\n",
      "Loss:  tensor(3.9573, grad_fn=<MeanBackward0>)\n",
      "Gradients before no_grad:  tensor([-1.5238e+00,  2.2352e-08, -1.0000e+00])\n",
      "Gradients after no_grad:  tensor([0., 0., 0.])\n",
      "params:  tensor([ 1.5844,  1.1010, -0.6869], requires_grad=True)\n",
      "\n",
      " Epoch:  10\n",
      "params:  tensor([ 1.5844,  1.1010, -0.6869], requires_grad=True)\n",
      "Loss:  tensor(3.9241, grad_fn=<MeanBackward0>)\n",
      "Gradients before no_grad:  tensor([-1.5238e+00,  2.2352e-08, -1.0000e+00])\n",
      "Gradients after no_grad:  tensor([0., 0., 0.])\n",
      "params:  tensor([ 1.5996,  1.1010, -0.6769], requires_grad=True)\n",
      "\n",
      " Epoch:  11\n",
      "params:  tensor([ 1.5996,  1.1010, -0.6769], requires_grad=True)\n",
      "Loss:  tensor(3.8909, grad_fn=<MeanBackward0>)\n",
      "Gradients before no_grad:  tensor([-1.5238e+00,  2.2352e-08, -1.0000e+00])\n",
      "Gradients after no_grad:  tensor([0., 0., 0.])\n",
      "params:  tensor([ 1.6149,  1.1010, -0.6669], requires_grad=True)\n",
      "\n",
      " Epoch:  12\n",
      "params:  tensor([ 1.6149,  1.1010, -0.6669], requires_grad=True)\n",
      "Loss:  tensor(3.8576, grad_fn=<MeanBackward0>)\n",
      "Gradients before no_grad:  tensor([-1.5238e+00,  2.2352e-08, -1.0000e+00])\n",
      "Gradients after no_grad:  tensor([0., 0., 0.])\n",
      "params:  tensor([ 1.6301,  1.1010, -0.6569], requires_grad=True)\n",
      "\n",
      " Epoch:  13\n",
      "params:  tensor([ 1.6301,  1.1010, -0.6569], requires_grad=True)\n",
      "Loss:  tensor(3.8244, grad_fn=<MeanBackward0>)\n",
      "Gradients before no_grad:  tensor([-1.5238e+00,  2.2352e-08, -1.0000e+00])\n",
      "Gradients after no_grad:  tensor([0., 0., 0.])\n",
      "params:  tensor([ 1.6453,  1.1010, -0.6469], requires_grad=True)\n",
      "\n",
      " Epoch:  14\n",
      "params:  tensor([ 1.6453,  1.1010, -0.6469], requires_grad=True)\n",
      "Loss:  tensor(3.7912, grad_fn=<MeanBackward0>)\n",
      "Gradients before no_grad:  tensor([-1.5238e+00,  2.2352e-08, -1.0000e+00])\n",
      "Gradients after no_grad:  tensor([0., 0., 0.])\n",
      "params:  tensor([ 1.6606,  1.1010, -0.6369], requires_grad=True)\n",
      "\n",
      " Epoch:  15\n",
      "params:  tensor([ 1.6606,  1.1010, -0.6369], requires_grad=True)\n",
      "Loss:  tensor(3.7580, grad_fn=<MeanBackward0>)\n",
      "Gradients before no_grad:  tensor([-1.5238e+00,  2.2352e-08, -1.0000e+00])\n",
      "Gradients after no_grad:  tensor([0., 0., 0.])\n",
      "params:  tensor([ 1.6758,  1.1010, -0.6269], requires_grad=True)\n",
      "\n",
      " Epoch:  16\n",
      "params:  tensor([ 1.6758,  1.1010, -0.6269], requires_grad=True)\n",
      "Loss:  tensor(3.7248, grad_fn=<MeanBackward0>)\n",
      "Gradients before no_grad:  tensor([-1.5238e+00,  2.2352e-08, -1.0000e+00])\n",
      "Gradients after no_grad:  tensor([0., 0., 0.])\n",
      "params:  tensor([ 1.6910,  1.1010, -0.6169], requires_grad=True)\n",
      "\n",
      " Epoch:  17\n",
      "params:  tensor([ 1.6910,  1.1010, -0.6169], requires_grad=True)\n",
      "Loss:  tensor(3.6915, grad_fn=<MeanBackward0>)\n",
      "Gradients before no_grad:  tensor([-1.5238e+00,  2.2352e-08, -1.0000e+00])\n",
      "Gradients after no_grad:  tensor([0., 0., 0.])\n",
      "params:  tensor([ 1.7063,  1.1010, -0.6069], requires_grad=True)\n",
      "\n",
      " Epoch:  18\n",
      "params:  tensor([ 1.7063,  1.1010, -0.6069], requires_grad=True)\n",
      "Loss:  tensor(3.6583, grad_fn=<MeanBackward0>)\n",
      "Gradients before no_grad:  tensor([-1.5238e+00,  2.2352e-08, -1.0000e+00])\n",
      "Gradients after no_grad:  tensor([0., 0., 0.])\n",
      "params:  tensor([ 1.7215,  1.1010, -0.5969], requires_grad=True)\n",
      "\n",
      " Epoch:  19\n",
      "params:  tensor([ 1.7215,  1.1010, -0.5969], requires_grad=True)\n",
      "Loss:  tensor(3.6251, grad_fn=<MeanBackward0>)\n",
      "Gradients before no_grad:  tensor([-1.5238e+00,  2.2352e-08, -1.0000e+00])\n",
      "Gradients after no_grad:  tensor([0., 0., 0.])\n",
      "params:  tensor([ 1.7368,  1.1010, -0.5869], requires_grad=True)\n"
     ]
    }
   ],
   "source": [
    "# Lets do it for 10 epochs\n",
    "#params = torch.randn(3)\n",
    "params =tensor([ 1.4320,  1.1010, -0.7869])\n",
    "print(params)\n",
    "\n",
    "params.requires_grad_()\n",
    "losses = []\n",
    "\n",
    "epochs = 20\n",
    "for epoch in range(epochs):\n",
    "    print('\\n Epoch: ', epoch)\n",
    "    print('params: ',params)\n",
    "    y_preds  = quad(*params,x)\n",
    "    loss = mse_loss_v2(y_preds, y_true)\n",
    "    losses.append(loss.item())\n",
    "    loss.backward()\n",
    "    print('Loss: ', loss)\n",
    "    print('Gradients before no_grad: ',params.grad)\n",
    "    with torch.no_grad():\n",
    "        params -= 0.01*params.grad\n",
    "        params.grad.zero_()\n",
    "        print('Gradients after no_grad: ',params.grad)\n",
    "    print('params: ',params)"
   ]
  },
  {
   "cell_type": "code",
   "execution_count": 299,
   "id": "218a701b",
   "metadata": {},
   "outputs": [
    {
     "data": {
      "text/plain": [
       "[<matplotlib.lines.Line2D at 0x1ee7aa16260>]"
      ]
     },
     "execution_count": 299,
     "metadata": {},
     "output_type": "execute_result"
    },
    {
     "data": {
      "image/png": "[encoded data removed]",
      "text/plain": [
       "<Figure size 640x480 with 1 Axes>"
      ]
     },
     "metadata": {},
     "output_type": "display_data"
    }
   ],
   "source": [
    "plt.plot(range(epochs), losses)"
   ]
  },
  {
   "cell_type": "markdown",
   "id": "d2a4065a",
   "metadata": {},
   "source": [
    "# Hurray!\n",
    "**Lessons Learned:**\n",
    "0. combine all parameters `a`,`b`,`c` into a single tensor `params`\n",
    "1. `loss` \n",
    "2. `loss.backward()` : this calculate gradient of loss w.r.t. `params` and store it in `params.grad`\n",
    "3. update `params` inplace *rather* than doing *assignment* approach\n",
    "4. set `params.grad.zero_()` : to avoid *gradient accumulation*"
   ]
  },
  {
   "cell_type": "code",
   "execution_count": 300,
   "id": "6f30974e",
   "metadata": {},
   "outputs": [],
   "source": [
    "# Now let's add non-linearity which allows Neural Network to be Universal Learners"
   ]
  },
  {
   "cell_type": "code",
   "execution_count": 301,
   "id": "02f248f7",
   "metadata": {},
   "outputs": [],
   "source": [
    "def str_line(m,c,x):\n",
    "    \n",
    "    return m*x+c"
   ]
  },
  {
   "cell_type": "code",
   "execution_count": 305,
   "id": "6c0d7e1b",
   "metadata": {},
   "outputs": [],
   "source": [
    "?torch.clip"
   ]
  },
  {
   "cell_type": "code",
   "execution_count": 306,
   "id": "cc3ae596",
   "metadata": {},
   "outputs": [
    {
     "data": {
      "text/plain": [
       "tensor(2)"
      ]
     },
     "execution_count": 306,
     "metadata": {},
     "output_type": "execute_result"
    }
   ],
   "source": [
    "torch.clip(torch.tensor(2),min =torch.tensor(0), max = tensor(10))"
   ]
  },
  {
   "cell_type": "code",
   "execution_count": 307,
   "id": "65854095",
   "metadata": {},
   "outputs": [
    {
     "data": {
      "text/plain": [
       "tensor(0)"
      ]
     },
     "execution_count": 307,
     "metadata": {},
     "output_type": "execute_result"
    }
   ],
   "source": [
    "torch.clip(torch.tensor(-2),min =torch.tensor(0), max = tensor(10))"
   ]
  },
  {
   "cell_type": "code",
   "execution_count": 308,
   "id": "effb5c97",
   "metadata": {},
   "outputs": [
    {
     "data": {
      "text/plain": [
       "tensor(0)"
      ]
     },
     "execution_count": 308,
     "metadata": {},
     "output_type": "execute_result"
    }
   ],
   "source": [
    "#We don't need to define max, if we dont want\n",
    "torch.clip(torch.tensor(-2),min =torch.tensor(0))"
   ]
  },
  {
   "cell_type": "code",
   "execution_count": 9,
   "id": "41b60a93",
   "metadata": {},
   "outputs": [],
   "source": [
    "def rectified_linear(m,c):\n",
    "    y = m*x+c\n",
    "    return torch.clip(y, min =torch.tensor(0.))"
   ]
  },
  {
   "cell_type": "code",
   "execution_count": 12,
   "id": "e55ba25b",
   "metadata": {},
   "outputs": [
    {
     "data": {
      "text/plain": [
       "Text(0.5, 1.0, 'Combined Relu-1 and Relu-2')"
      ]
     },
     "execution_count": 12,
     "metadata": {},
     "output_type": "execute_result"
    },
    {
     "data": {
      "image/png": "[encoded data removed]",
      "text/plain": [
       "<Figure size 1200x400 with 4 Axes>"
      ]
     },
     "metadata": {},
     "output_type": "display_data"
    }
   ],
   "source": [
    "x = torch.linspace(-3,3,50)\n",
    "y1 = rectified_linear(1,0)\n",
    "y2 = rectified_linear(3,1)\n",
    "y4 = y1+y2\n",
    "\n",
    "plt.figure(figsize =(12,4))\n",
    "plt.subplot(1,4,1)\n",
    "plt.plot(x,y1, c= 'red')\n",
    "plt.title('Relu-1')\n",
    "plt.subplot(1,4,2)\n",
    "plt.plot(x,y2, c='blue')\n",
    "plt.title('Relu-2')\n",
    "plt.subplot(1,4,3)\n",
    "plt.plot(x,y1, c='red')\n",
    "plt.plot(x,y2, c='blue')\n",
    "plt.title('Relu-1 and Relu-2')\n",
    "plt.subplot(1,4,4)\n",
    "plt.plot(x,y4)\n",
    "plt.title('Combined Relu-1 and Relu-2')"
   ]
  },
  {
   "cell_type": "code",
   "execution_count": 16,
   "id": "253f06e2",
   "metadata": {},
   "outputs": [
    {
     "data": {
      "text/plain": [
       "<Figure size 500x300 with 0 Axes>"
      ]
     },
     "metadata": {},
     "output_type": "display_data"
    },
    {
     "data": {
      "application/vnd.jupyter.widget-view+json": {
       "model_id": "b48bc7d532f5414c8b7b1ce495fe065f",
       "version_major": 2,
       "version_minor": 0
      },
      "text/plain": [
       "interactive(children=(FloatSlider(value=1.0, description='m1', max=3.0, min=-1.0), FloatSlider(value=1.0, desc…"
      ]
     },
     "metadata": {},
     "output_type": "display_data"
    }
   ],
   "source": [
    "plt.figure(figsize =(5,3))\n",
    "@interact(m1=1.,c1=1.,m2=-2.,c2=-2.)\n",
    "def g(m1,c1,m2,c2):\n",
    "    \n",
    "    y1 = rectified_linear(m1,c1)\n",
    "    y2 = rectified_linear(m2,c2)\n",
    "    y4 = y1+y2\n",
    "    plt.plot(x,y4)\n",
    "    plt.title('Combined Relu-1 and Relu-2')\n",
    "    "
   ]
  },
  {
   "cell_type": "code",
   "execution_count": 14,
   "id": "598c7464",
   "metadata": {},
   "outputs": [],
   "source": [
    "# Let's see if we didn't had relu then there will be no non-linearity"
   ]
  },
  {
   "cell_type": "code",
   "execution_count": 27,
   "id": "c2d16a79",
   "metadata": {},
   "outputs": [
    {
     "data": {
      "text/plain": [
       "<Figure size 500x300 with 0 Axes>"
      ]
     },
     "metadata": {},
     "output_type": "display_data"
    },
    {
     "data": {
      "application/vnd.jupyter.widget-view+json": {
       "model_id": "f2a1eee625bd4f15baf9666d17b91fd8",
       "version_major": 2,
       "version_minor": 0
      },
      "text/plain": [
       "interactive(children=(FloatSlider(value=1.0, description='m1', max=3.0, min=-1.0), FloatSlider(value=1.8, desc…"
      ]
     },
     "metadata": {},
     "output_type": "display_data"
    }
   ],
   "source": [
    "x = torch.linspace(-3,3,100)\n",
    "\n",
    "def str_line(m,c):\n",
    "    y = m*x+c\n",
    "    return y\n",
    "\n",
    "\n",
    "\n",
    "plt.figure(figsize =(5,3))\n",
    "@interact(m1=1.,c1=1.8,m2=-1.,c2=-2.)\n",
    "def g(m1,c1,m2,c2):\n",
    "    \n",
    "    y1 = str_line(m1,c1)\n",
    "    y2 = str_line(m2,c2)\n",
    "    y4 = y1+y2\n",
    "    plt.figure(figsize=(12,4))\n",
    "#     plt.subplot(1,4,1)\n",
    "#     plt.plot(x,y1, c= 'red')\n",
    "#     plt.title('Str-1')\n",
    "#     plt.subplot(1,4,2)\n",
    "#     plt.plot(x,y2, c='blue')\n",
    "#     plt.title('Str-2')\n",
    "#     plt.subplot(1,4,3)\n",
    "#     plt.plot(x,y1, c='red')\n",
    "#     plt.plot(x,y2, c='blue')\n",
    "#     plt.title('Relu-1 and Relu-2')\n",
    "#     plt.subplot(1,4,4)\n",
    "    plt.plot(x,y4)\n",
    "    plt.title('Combined Str-1 and Str-2')\n",
    "    \n",
    "    "
   ]
  },
  {
   "attachments": {
    "image.png": {
     "image/png": "[encoded data removed]"
    }
   },
   "cell_type": "markdown",
   "id": "d6b4e3be",
   "metadata": {},
   "source": [
    "![image.png](attachment:image.png)"
   ]
  },
  {
   "cell_type": "code",
   "execution_count": 30,
   "id": "d94207c6",
   "metadata": {},
   "outputs": [
    {
     "data": {
      "text/plain": [
       "tensor([-4.8000, -4.6776, -4.5551, -4.4327, -4.3102, -4.1878, -4.0653, -3.9429,\n",
       "        -3.8204, -3.6980, -3.5755, -3.4531, -3.3306, -3.2082, -3.0857, -2.9633,\n",
       "        -2.8408, -2.7184, -2.5959, -2.4735, -2.3510, -2.2286, -2.1061, -1.9837,\n",
       "        -1.8612, -1.7388, -1.6163, -1.4939, -1.3714, -1.2490, -1.1265, -1.0041,\n",
       "        -0.8816, -0.7592, -0.6367, -0.5143, -0.3918, -0.2694, -0.1469, -0.0245,\n",
       "         0.0980,  0.2204,  0.3429,  0.4653,  0.5878,  0.7102,  0.8327,  0.9551,\n",
       "         1.0776,  1.2000])"
      ]
     },
     "execution_count": 30,
     "metadata": {},
     "output_type": "execute_result"
    }
   ],
   "source": [
    "x = torch.linspace(-3,3,50)\n",
    "m1 = 1.0\n",
    "c1 = -1.8\n",
    "m2 = -1.0\n",
    "c2 = -2.0\n",
    "y1 = str_line(m1,c1)\n",
    "y2 = str_line(m2,c2)\n",
    "y1"
   ]
  },
  {
   "cell_type": "code",
   "execution_count": 31,
   "id": "44593874",
   "metadata": {},
   "outputs": [
    {
     "data": {
      "text/plain": [
       "tensor([ 1.0000,  0.8776,  0.7551,  0.6327,  0.5102,  0.3878,  0.2653,  0.1429,\n",
       "         0.0204, -0.1020, -0.2245, -0.3469, -0.4694, -0.5918, -0.7143, -0.8367,\n",
       "        -0.9592, -1.0816, -1.2041, -1.3265, -1.4490, -1.5714, -1.6939, -1.8163,\n",
       "        -1.9388, -2.0612, -2.1837, -2.3061, -2.4286, -2.5510, -2.6735, -2.7959,\n",
       "        -2.9184, -3.0408, -3.1633, -3.2857, -3.4082, -3.5306, -3.6531, -3.7755,\n",
       "        -3.8980, -4.0204, -4.1429, -4.2653, -4.3878, -4.5102, -4.6327, -4.7551,\n",
       "        -4.8776, -5.0000])"
      ]
     },
     "execution_count": 31,
     "metadata": {},
     "output_type": "execute_result"
    }
   ],
   "source": [
    "y2"
   ]
  },
  {
   "cell_type": "code",
   "execution_count": 32,
   "id": "a8737dd9",
   "metadata": {},
   "outputs": [
    {
     "data": {
      "text/plain": [
       "tensor([-3.8000, -3.8000, -3.8000, -3.8000, -3.8000, -3.8000, -3.8000, -3.8000,\n",
       "        -3.8000, -3.8000, -3.8000, -3.8000, -3.8000, -3.8000, -3.8000, -3.8000,\n",
       "        -3.8000, -3.8000, -3.8000, -3.8000, -3.8000, -3.8000, -3.8000, -3.8000,\n",
       "        -3.8000, -3.8000, -3.8000, -3.8000, -3.8000, -3.8000, -3.8000, -3.8000,\n",
       "        -3.8000, -3.8000, -3.8000, -3.8000, -3.8000, -3.8000, -3.8000, -3.8000,\n",
       "        -3.8000, -3.8000, -3.8000, -3.8000, -3.8000, -3.8000, -3.8000, -3.8000,\n",
       "        -3.8000, -3.8000])"
      ]
     },
     "execution_count": 32,
     "metadata": {},
     "output_type": "execute_result"
    }
   ],
   "source": [
    "y4 = y1+y2\n",
    "y4"
   ]
  },
  {
   "cell_type": "code",
   "execution_count": 33,
   "id": "4b1600a1",
   "metadata": {},
   "outputs": [
    {
     "data": {
      "text/plain": [
       "[<matplotlib.lines.Line2D at 0x1d63cf74c70>]"
      ]
     },
     "execution_count": 33,
     "metadata": {},
     "output_type": "execute_result"
    },
    {
     "data": {
      "image/png": "[encoded data removed]",
      "text/plain": [
       "<Figure size 640x480 with 1 Axes>"
      ]
     },
     "metadata": {},
     "output_type": "display_data"
    }
   ],
   "source": [
    "plt.plot(x,y4)"
   ]
  },
  {
   "cell_type": "code",
   "execution_count": 28,
   "id": "f3f8ef1a",
   "metadata": {},
   "outputs": [],
   "source": [
    "# This is due to scale issue. see on top left of the image"
   ]
  },
  {
   "cell_type": "code",
   "execution_count": 34,
   "id": "5bb216cb",
   "metadata": {},
   "outputs": [
    {
     "data": {
      "text/plain": [
       "(-10.0, 10.0)"
      ]
     },
     "execution_count": 34,
     "metadata": {},
     "output_type": "execute_result"
    },
    {
     "data": {
      "image/png": "[encoded data removed]",
      "text/plain": [
       "<Figure size 640x480 with 1 Axes>"
      ]
     },
     "metadata": {},
     "output_type": "display_data"
    }
   ],
   "source": [
    "plt.plot(x,y4)\n",
    "plt.ylim(-10,10)"
   ]
  },
  {
   "cell_type": "code",
   "execution_count": 35,
   "id": "f1a945dd",
   "metadata": {},
   "outputs": [
    {
     "data": {
      "text/plain": [
       "<Figure size 500x300 with 0 Axes>"
      ]
     },
     "metadata": {},
     "output_type": "display_data"
    },
    {
     "data": {
      "application/vnd.jupyter.widget-view+json": {
       "model_id": "b3f5069a02c24865b5ff3382b0ec68ad",
       "version_major": 2,
       "version_minor": 0
      },
      "text/plain": [
       "interactive(children=(FloatSlider(value=1.0, description='m1', max=3.0, min=-1.0), FloatSlider(value=1.8, desc…"
      ]
     },
     "metadata": {},
     "output_type": "display_data"
    }
   ],
   "source": [
    "x = torch.linspace(-3,3,100)\n",
    "\n",
    "def str_line(m,c):\n",
    "    y = m*x+c\n",
    "    return y\n",
    "\n",
    "\n",
    "\n",
    "plt.figure(figsize =(5,3))\n",
    "@interact(m1=1.,c1=1.8,m2=-1.,c2=-2.)\n",
    "def g(m1,c1,m2,c2):\n",
    "    \n",
    "    y1 = str_line(m1,c1)\n",
    "    y2 = str_line(m2,c2)\n",
    "    y4 = y1+y2\n",
    "    plt.figure(figsize=(12,4))\n",
    "    plt.subplot(1,4,1)\n",
    "    plt.plot(x,y1, c= 'red')\n",
    "    plt.ylim(-10,10)\n",
    "    plt.title('Str-1')\n",
    "    plt.subplot(1,4,2)\n",
    "    plt.plot(x,y2, c='blue')\n",
    "    plt.ylim(-10,10)\n",
    "    plt.title('Str-2')\n",
    "    plt.subplot(1,4,3)\n",
    "    plt.plot(x,y1, c='red')\n",
    "    plt.plot(x,y2, c='blue')\n",
    "    plt.ylim(-10,10)\n",
    "    plt.title('Relu-1 and Relu-2')\n",
    "    plt.subplot(1,4,4)\n",
    "    plt.plot(x,y4)\n",
    "    plt.ylim(-10,10)\n",
    "    plt.title('Combined Str-1 and Str-2')\n",
    "    \n",
    "    "
   ]
  },
  {
   "cell_type": "code",
   "execution_count": null,
   "id": "ab96fe76",
   "metadata": {},
   "outputs": [],
   "source": [
    "# Now we can see just adding straight lines do not add non-linearity"
   ]
  }
 ],
 "metadata": {
  "kernelspec": {
   "display_name": "Python 3 (ipykernel)",
   "language": "python",
   "name": "python3"
  },
  "language_info": {
   "codemirror_mode": {
    "name": "ipython",
    "version": 3
   },
   "file_extension": ".py",
   "mimetype": "text/x-python",
   "name": "python",
   "nbconvert_exporter": "python",
   "pygments_lexer": "ipython3",
   "version": "3.10.9"
  }
 },
 "nbformat": 4,
 "nbformat_minor": 5
}
