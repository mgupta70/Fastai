{
 "cells": [
  {
   "cell_type": "code",
   "execution_count": 105,
   "id": "4177e054",
   "metadata": {},
   "outputs": [
    {
     "name": "stdout",
     "output_type": "stream",
     "text": [
      "cuda\n"
     ]
    }
   ],
   "source": [
    "from fastai.vision.all import *\n",
    "from fastdownload import *\n",
    "device = 'cuda' if torch.cuda.is_available() else 'cpu'\n",
    "print(device)"
   ]
  },
  {
   "cell_type": "code",
   "execution_count": 106,
   "id": "c8d13628",
   "metadata": {},
   "outputs": [
    {
     "data": {
      "text/html": [
       "\n",
       "<style>\n",
       "    /* Turns off some styling */\n",
       "    progress {\n",
       "        /* gets rid of default border in Firefox and Opera. */\n",
       "        border: none;\n",
       "        /* Needs to be in here for Safari polyfill so background images work as expected. */\n",
       "        background-size: auto;\n",
       "    }\n",
       "    progress:not([value]), progress:not([value])::-webkit-progress-bar {\n",
       "        background: repeating-linear-gradient(45deg, #7e7e7e, #7e7e7e 10px, #5c5c5c 10px, #5c5c5c 20px);\n",
       "    }\n",
       "    .progress-bar-interrupted, .progress-bar-interrupted::-webkit-progress-bar {\n",
       "        background: #F44336;\n",
       "    }\n",
       "</style>\n"
      ],
      "text/plain": [
       "<IPython.core.display.HTML object>"
      ]
     },
     "metadata": {},
     "output_type": "display_data"
    },
    {
     "data": {
      "text/html": [
       "\n",
       "    <div>\n",
       "      <progress value='15687680' class='' max='15683414' style='width:300px; height:20px; vertical-align: middle;'></progress>\n",
       "      100.03% [15687680/15683414 00:08&lt;00:00]\n",
       "    </div>\n",
       "    "
      ],
      "text/plain": [
       "<IPython.core.display.HTML object>"
      ]
     },
     "metadata": {},
     "output_type": "display_data"
    },
    {
     "data": {
      "text/plain": [
       "(#2) [Path('C:/Users/mgupta70.ASURITE/.fastai/data/mnist_png/testing'),Path('C:/Users/mgupta70.ASURITE/.fastai/data/mnist_png/training')]"
      ]
     },
     "execution_count": 106,
     "metadata": {},
     "output_type": "execute_result"
    }
   ],
   "source": [
    "# Get MNIST data\n",
    "path = untar_data(URLs.MNIST)\n",
    "path.ls()"
   ]
  },
  {
   "cell_type": "code",
   "execution_count": 107,
   "id": "5e352416",
   "metadata": {},
   "outputs": [
    {
     "data": {
      "text/plain": [
       "(#10) [Path('C:/Users/mgupta70.ASURITE/.fastai/data/mnist_png/training/0'),Path('C:/Users/mgupta70.ASURITE/.fastai/data/mnist_png/training/1'),Path('C:/Users/mgupta70.ASURITE/.fastai/data/mnist_png/training/2'),Path('C:/Users/mgupta70.ASURITE/.fastai/data/mnist_png/training/3'),Path('C:/Users/mgupta70.ASURITE/.fastai/data/mnist_png/training/4'),Path('C:/Users/mgupta70.ASURITE/.fastai/data/mnist_png/training/5'),Path('C:/Users/mgupta70.ASURITE/.fastai/data/mnist_png/training/6'),Path('C:/Users/mgupta70.ASURITE/.fastai/data/mnist_png/training/7'),Path('C:/Users/mgupta70.ASURITE/.fastai/data/mnist_png/training/8'),Path('C:/Users/mgupta70.ASURITE/.fastai/data/mnist_png/training/9')]"
      ]
     },
     "execution_count": 107,
     "metadata": {},
     "output_type": "execute_result"
    }
   ],
   "source": [
    "# get training image folder\n",
    "path = path.ls()[1]\n",
    "path.ls()\n"
   ]
  },
  {
   "cell_type": "code",
   "execution_count": 109,
   "id": "dd21b9b7",
   "metadata": {},
   "outputs": [
    {
     "data": {
      "image/png": "[encoded data removed]",
      "text/plain": [
       "<PIL.Image.Image image mode=L size=28x28>"
      ]
     },
     "execution_count": 109,
     "metadata": {},
     "output_type": "execute_result"
    }
   ],
   "source": [
    "# show sample image\n",
    "dest = get_image_files(path)[0]\n",
    "im = Image.open(dest)\n",
    "im.to_thumb(28,28)"
   ]
  },
  {
   "cell_type": "code",
   "execution_count": 143,
   "id": "c630d4ab",
   "metadata": {},
   "outputs": [],
   "source": [
    "# let's check the name of the images if it has labels\n",
    "\n",
    "def check_dir(path, display_im_filenames = True):\n",
    "    counts_dict = {}\n",
    "    for folder in path.ls():\n",
    "        if folder.is_dir():\n",
    "            digit= folder.parts[-1]\n",
    "            ims = get_image_files(folder)\n",
    "            num_ims = len(ims)\n",
    "            counts_dict[digit] = num_ims\n",
    "            sample_ims = ims[:2] # get 2 images\n",
    "            if display_im_filenames:\n",
    "                print('Folder of digit: ',digit)\n",
    "                print([im.parts[-1] for im in sample_ims])\n",
    "                print('')\n",
    "            \n",
    "    return pd.DataFrame(counts_dict.items(), columns=['Digit', 'Count'])\n"
   ]
  },
  {
   "cell_type": "code",
   "execution_count": 144,
   "id": "668a5dae",
   "metadata": {},
   "outputs": [
    {
     "name": "stdout",
     "output_type": "stream",
     "text": [
      "Folder of digit:  0\n",
      "['1.png', '1000.png']\n",
      "\n",
      "Folder of digit:  1\n",
      "['10006.png', '10007.png']\n",
      "\n",
      "Folder of digit:  2\n",
      "['10009.png', '10016.png']\n",
      "\n",
      "Folder of digit:  3\n",
      "['10.png', '10000.png']\n",
      "\n",
      "Folder of digit:  4\n",
      "['10013.png', '10018.png']\n",
      "\n",
      "Folder of digit:  5\n",
      "['0.png', '100.png']\n",
      "\n",
      "Folder of digit:  6\n",
      "['10017.png', '10032.png']\n",
      "\n",
      "Folder of digit:  7\n",
      "['10002.png', '1001.png']\n",
      "\n",
      "Folder of digit:  8\n",
      "['10001.png', '10012.png']\n",
      "\n",
      "Folder of digit:  9\n",
      "['10003.png', '10004.png']\n",
      "\n"
     ]
    },
    {
     "data": {
      "text/html": [
       "<div>\n",
       "<style scoped>\n",
       "    .dataframe tbody tr th:only-of-type {\n",
       "        vertical-align: middle;\n",
       "    }\n",
       "\n",
       "    .dataframe tbody tr th {\n",
       "        vertical-align: top;\n",
       "    }\n",
       "\n",
       "    .dataframe thead th {\n",
       "        text-align: right;\n",
       "    }\n",
       "</style>\n",
       "<table border=\"1\" class=\"dataframe\">\n",
       "  <thead>\n",
       "    <tr style=\"text-align: right;\">\n",
       "      <th></th>\n",
       "      <th>Digit</th>\n",
       "      <th>Count</th>\n",
       "    </tr>\n",
       "  </thead>\n",
       "  <tbody>\n",
       "    <tr>\n",
       "      <th>0</th>\n",
       "      <td>0</td>\n",
       "      <td>5923</td>\n",
       "    </tr>\n",
       "    <tr>\n",
       "      <th>1</th>\n",
       "      <td>1</td>\n",
       "      <td>6742</td>\n",
       "    </tr>\n",
       "    <tr>\n",
       "      <th>2</th>\n",
       "      <td>2</td>\n",
       "      <td>5958</td>\n",
       "    </tr>\n",
       "    <tr>\n",
       "      <th>3</th>\n",
       "      <td>3</td>\n",
       "      <td>6131</td>\n",
       "    </tr>\n",
       "    <tr>\n",
       "      <th>4</th>\n",
       "      <td>4</td>\n",
       "      <td>5842</td>\n",
       "    </tr>\n",
       "    <tr>\n",
       "      <th>5</th>\n",
       "      <td>5</td>\n",
       "      <td>5421</td>\n",
       "    </tr>\n",
       "    <tr>\n",
       "      <th>6</th>\n",
       "      <td>6</td>\n",
       "      <td>5918</td>\n",
       "    </tr>\n",
       "    <tr>\n",
       "      <th>7</th>\n",
       "      <td>7</td>\n",
       "      <td>6265</td>\n",
       "    </tr>\n",
       "    <tr>\n",
       "      <th>8</th>\n",
       "      <td>8</td>\n",
       "      <td>5851</td>\n",
       "    </tr>\n",
       "    <tr>\n",
       "      <th>9</th>\n",
       "      <td>9</td>\n",
       "      <td>5949</td>\n",
       "    </tr>\n",
       "  </tbody>\n",
       "</table>\n",
       "</div>"
      ],
      "text/plain": [
       "  Digit  Count\n",
       "0     0   5923\n",
       "1     1   6742\n",
       "2     2   5958\n",
       "3     3   6131\n",
       "4     4   5842\n",
       "5     5   5421\n",
       "6     6   5918\n",
       "7     7   6265\n",
       "8     8   5851\n",
       "9     9   5949"
      ]
     },
     "execution_count": 144,
     "metadata": {},
     "output_type": "execute_result"
    }
   ],
   "source": [
    "check_dir(path, display_im_filenames = True)    "
   ]
  },
  {
   "cell_type": "markdown",
   "id": "39ebe18e",
   "metadata": {},
   "source": [
    "- we can see there is no correlation of label in image filenames. So, no need to use from_name_func like we used in PETS.\n",
    "- But we can modify how from_name_func is defined and then use it\n",
    "\n",
    "We will use following methods for creating dataloader\n",
    "\n",
    "- [] from_path : Create from imagenet style dataset in `path` with `train` and `valid` subfolders (or provide `valid_pct`)\n",
    "- [] from_path_re\n",
    "- [x] from_folder\n",
    "- [] from_name_func\n"
   ]
  },
  {
   "cell_type": "code",
   "execution_count": 136,
   "id": "076c5e47",
   "metadata": {},
   "outputs": [],
   "source": [
    "# load images in Dataloaders\n",
    "dls =ImageDataLoaders.from_folder(path,\n",
    "                             valid_pct=0.2, seed=42,\n",
    "                             item_tfms=None,\n",
    "                             bs=32)\n"
   ]
  },
  {
   "cell_type": "code",
   "execution_count": 138,
   "id": "f3791bc7",
   "metadata": {},
   "outputs": [
    {
     "name": "stderr",
     "output_type": "stream",
     "text": [
      "C:\\ProgramData\\Anaconda3\\envs\\ai\\lib\\site-packages\\torchvision\\models\\_utils.py:208: UserWarning: The parameter 'pretrained' is deprecated since 0.13 and may be removed in the future, please use 'weights' instead.\n",
      "  warnings.warn(\n",
      "C:\\ProgramData\\Anaconda3\\envs\\ai\\lib\\site-packages\\torchvision\\models\\_utils.py:223: UserWarning: Arguments other than a weight enum or `None` for 'weights' are deprecated since 0.13 and may be removed in the future. The current behavior is equivalent to passing `weights=ResNet18_Weights.IMAGENET1K_V1`. You can also use `weights=ResNet18_Weights.DEFAULT` to get the most up-to-date weights.\n",
      "  warnings.warn(msg)\n"
     ]
    },
    {
     "data": {
      "text/html": [
       "\n",
       "<style>\n",
       "    /* Turns off some styling */\n",
       "    progress {\n",
       "        /* gets rid of default border in Firefox and Opera. */\n",
       "        border: none;\n",
       "        /* Needs to be in here for Safari polyfill so background images work as expected. */\n",
       "        background-size: auto;\n",
       "    }\n",
       "    progress:not([value]), progress:not([value])::-webkit-progress-bar {\n",
       "        background: repeating-linear-gradient(45deg, #7e7e7e, #7e7e7e 10px, #5c5c5c 10px, #5c5c5c 20px);\n",
       "    }\n",
       "    .progress-bar-interrupted, .progress-bar-interrupted::-webkit-progress-bar {\n",
       "        background: #F44336;\n",
       "    }\n",
       "</style>\n"
      ],
      "text/plain": [
       "<IPython.core.display.HTML object>"
      ]
     },
     "metadata": {},
     "output_type": "display_data"
    },
    {
     "data": {
      "text/html": [
       "<table border=\"1\" class=\"dataframe\">\n",
       "  <thead>\n",
       "    <tr style=\"text-align: left;\">\n",
       "      <th>epoch</th>\n",
       "      <th>train_loss</th>\n",
       "      <th>valid_loss</th>\n",
       "      <th>error_rate</th>\n",
       "      <th>time</th>\n",
       "    </tr>\n",
       "  </thead>\n",
       "  <tbody>\n",
       "    <tr>\n",
       "      <td>0</td>\n",
       "      <td>0.721711</td>\n",
       "      <td>0.505217</td>\n",
       "      <td>0.159750</td>\n",
       "      <td>05:27</td>\n",
       "    </tr>\n",
       "  </tbody>\n",
       "</table>"
      ],
      "text/plain": [
       "<IPython.core.display.HTML object>"
      ]
     },
     "metadata": {},
     "output_type": "display_data"
    },
    {
     "data": {
      "text/html": [
       "\n",
       "<style>\n",
       "    /* Turns off some styling */\n",
       "    progress {\n",
       "        /* gets rid of default border in Firefox and Opera. */\n",
       "        border: none;\n",
       "        /* Needs to be in here for Safari polyfill so background images work as expected. */\n",
       "        background-size: auto;\n",
       "    }\n",
       "    progress:not([value]), progress:not([value])::-webkit-progress-bar {\n",
       "        background: repeating-linear-gradient(45deg, #7e7e7e, #7e7e7e 10px, #5c5c5c 10px, #5c5c5c 20px);\n",
       "    }\n",
       "    .progress-bar-interrupted, .progress-bar-interrupted::-webkit-progress-bar {\n",
       "        background: #F44336;\n",
       "    }\n",
       "</style>\n"
      ],
      "text/plain": [
       "<IPython.core.display.HTML object>"
      ]
     },
     "metadata": {},
     "output_type": "display_data"
    },
    {
     "data": {
      "text/html": [
       "<table border=\"1\" class=\"dataframe\">\n",
       "  <thead>\n",
       "    <tr style=\"text-align: left;\">\n",
       "      <th>epoch</th>\n",
       "      <th>train_loss</th>\n",
       "      <th>valid_loss</th>\n",
       "      <th>error_rate</th>\n",
       "      <th>time</th>\n",
       "    </tr>\n",
       "  </thead>\n",
       "  <tbody>\n",
       "    <tr>\n",
       "      <td>0</td>\n",
       "      <td>0.147534</td>\n",
       "      <td>0.070593</td>\n",
       "      <td>0.022500</td>\n",
       "      <td>01:58</td>\n",
       "    </tr>\n",
       "    <tr>\n",
       "      <td>1</td>\n",
       "      <td>0.066968</td>\n",
       "      <td>0.038201</td>\n",
       "      <td>0.012583</td>\n",
       "      <td>01:58</td>\n",
       "    </tr>\n",
       "  </tbody>\n",
       "</table>"
      ],
      "text/plain": [
       "<IPython.core.display.HTML object>"
      ]
     },
     "metadata": {},
     "output_type": "display_data"
    }
   ],
   "source": [
    "learner = vision_learner(dls, resnet18, metrics = error_rate)\n",
    "learner.fine_tune(2)\n"
   ]
  },
  {
   "cell_type": "code",
   "execution_count": 150,
   "id": "149637a2",
   "metadata": {},
   "outputs": [],
   "source": [
    "learner.export(os.getcwd()+'/mnist_18.pkl')"
   ]
  },
  {
   "cell_type": "code",
   "execution_count": 155,
   "id": "31a0d26a",
   "metadata": {},
   "outputs": [
    {
     "data": {
      "text/plain": [
       "['0', '1', '2', '3', '4', '5', '6', '7', '8', '9']"
      ]
     },
     "execution_count": 155,
     "metadata": {},
     "output_type": "execute_result"
    }
   ],
   "source": [
    "learner.dls.vocab"
   ]
  },
  {
   "cell_type": "code",
   "execution_count": 151,
   "id": "f5b2a464",
   "metadata": {},
   "outputs": [
    {
     "data": {
      "text/html": [
       "<div>\n",
       "<style scoped>\n",
       "    .dataframe tbody tr th:only-of-type {\n",
       "        vertical-align: middle;\n",
       "    }\n",
       "\n",
       "    .dataframe tbody tr th {\n",
       "        vertical-align: top;\n",
       "    }\n",
       "\n",
       "    .dataframe thead th {\n",
       "        text-align: right;\n",
       "    }\n",
       "</style>\n",
       "<table border=\"1\" class=\"dataframe\">\n",
       "  <thead>\n",
       "    <tr style=\"text-align: right;\">\n",
       "      <th></th>\n",
       "      <th>Digit</th>\n",
       "      <th>Count</th>\n",
       "    </tr>\n",
       "  </thead>\n",
       "  <tbody>\n",
       "    <tr>\n",
       "      <th>0</th>\n",
       "      <td>0</td>\n",
       "      <td>980</td>\n",
       "    </tr>\n",
       "    <tr>\n",
       "      <th>1</th>\n",
       "      <td>1</td>\n",
       "      <td>1135</td>\n",
       "    </tr>\n",
       "    <tr>\n",
       "      <th>2</th>\n",
       "      <td>2</td>\n",
       "      <td>1032</td>\n",
       "    </tr>\n",
       "    <tr>\n",
       "      <th>3</th>\n",
       "      <td>3</td>\n",
       "      <td>1010</td>\n",
       "    </tr>\n",
       "    <tr>\n",
       "      <th>4</th>\n",
       "      <td>4</td>\n",
       "      <td>982</td>\n",
       "    </tr>\n",
       "    <tr>\n",
       "      <th>5</th>\n",
       "      <td>5</td>\n",
       "      <td>892</td>\n",
       "    </tr>\n",
       "    <tr>\n",
       "      <th>6</th>\n",
       "      <td>6</td>\n",
       "      <td>958</td>\n",
       "    </tr>\n",
       "    <tr>\n",
       "      <th>7</th>\n",
       "      <td>7</td>\n",
       "      <td>1028</td>\n",
       "    </tr>\n",
       "    <tr>\n",
       "      <th>8</th>\n",
       "      <td>8</td>\n",
       "      <td>974</td>\n",
       "    </tr>\n",
       "    <tr>\n",
       "      <th>9</th>\n",
       "      <td>9</td>\n",
       "      <td>1009</td>\n",
       "    </tr>\n",
       "  </tbody>\n",
       "</table>\n",
       "</div>"
      ],
      "text/plain": [
       "  Digit  Count\n",
       "0     0    980\n",
       "1     1   1135\n",
       "2     2   1032\n",
       "3     3   1010\n",
       "4     4    982\n",
       "5     5    892\n",
       "6     6    958\n",
       "7     7   1028\n",
       "8     8    974\n",
       "9     9   1009"
      ]
     },
     "execution_count": 151,
     "metadata": {},
     "output_type": "execute_result"
    }
   ],
   "source": [
    "# Check test Datset\n",
    "test_folder_path = Path('C:/Users/mgupta70.ASURITE/.fastai/data/mnist_png/testing')\n",
    "check_dir(test_folder_path, display_im_filenames=False)"
   ]
  },
  {
   "cell_type": "code",
   "execution_count": 157,
   "id": "c419b3ce",
   "metadata": {},
   "outputs": [
    {
     "data": {
      "text/html": [
       "\n",
       "<style>\n",
       "    /* Turns off some styling */\n",
       "    progress {\n",
       "        /* gets rid of default border in Firefox and Opera. */\n",
       "        border: none;\n",
       "        /* Needs to be in here for Safari polyfill so background images work as expected. */\n",
       "        background-size: auto;\n",
       "    }\n",
       "    progress:not([value]), progress:not([value])::-webkit-progress-bar {\n",
       "        background: repeating-linear-gradient(45deg, #7e7e7e, #7e7e7e 10px, #5c5c5c 10px, #5c5c5c 20px);\n",
       "    }\n",
       "    .progress-bar-interrupted, .progress-bar-interrupted::-webkit-progress-bar {\n",
       "        background: #F44336;\n",
       "    }\n",
       "</style>\n"
      ],
      "text/plain": [
       "<IPython.core.display.HTML object>"
      ]
     },
     "metadata": {},
     "output_type": "display_data"
    },
    {
     "data": {
      "text/html": [],
      "text/plain": [
       "<IPython.core.display.HTML object>"
      ]
     },
     "metadata": {},
     "output_type": "display_data"
    }
   ],
   "source": [
    "# Checking Test Accuracy \n",
    "\n",
    "# Path to the trained model\n",
    "model_path = os.getcwd()+'/mnist_18.pkl'\n",
    "\n",
    "# Load the trained model\n",
    "learn = load_learner(model_path)\n",
    "\n",
    "# create Test dataloader for test with linking training Dataloader. It will automatically link the orocess of getting labels for test dataset with Train dataloader's ex: from_folder in this case\n",
    "test_dl = learn.dls.test_dl(get_image_filesage_files(test_folder_path), with_labels=True) # we only need to give image files path and \n",
    "                                                                    # process to get the labels will be taken from dls : which is from_folder\n",
    "interp = ClassificationInterpretation.from_learner(learn, dl=test_dl)\n",
    "interp.plot_confusion_matrix()"
   ]
  },
  {
   "cell_type": "code",
   "execution_count": null,
   "id": "b72f5b7b",
   "metadata": {},
   "outputs": [],
   "source": []
  },
  {
   "cell_type": "code",
   "execution_count": null,
   "id": "561a36f3",
   "metadata": {},
   "outputs": [],
   "source": []
  },
  {
   "cell_type": "code",
   "execution_count": 158,
   "id": "2937535d",
   "metadata": {},
   "outputs": [
    {
     "data": {
      "text/html": [
       "\n",
       "<style>\n",
       "    /* Turns off some styling */\n",
       "    progress {\n",
       "        /* gets rid of default border in Firefox and Opera. */\n",
       "        border: none;\n",
       "        /* Needs to be in here for Safari polyfill so background images work as expected. */\n",
       "        background-size: auto;\n",
       "    }\n",
       "    progress:not([value]), progress:not([value])::-webkit-progress-bar {\n",
       "        background: repeating-linear-gradient(45deg, #7e7e7e, #7e7e7e 10px, #5c5c5c 10px, #5c5c5c 20px);\n",
       "    }\n",
       "    .progress-bar-interrupted, .progress-bar-interrupted::-webkit-progress-bar {\n",
       "        background: #F44336;\n",
       "    }\n",
       "</style>\n"
      ],
      "text/plain": [
       "<IPython.core.display.HTML object>"
      ]
     },
     "metadata": {},
     "output_type": "display_data"
    },
    {
     "data": {
      "text/html": [],
      "text/plain": [
       "<IPython.core.display.HTML object>"
      ]
     },
     "metadata": {},
     "output_type": "display_data"
    },
    {
     "data": {
      "image/png": "[encoded data removed]",
      "text/plain": [
       "<Figure size 640x480 with 1 Axes>"
      ]
     },
     "metadata": {},
     "output_type": "display_data"
    }
   ],
   "source": []
  },
  {
   "cell_type": "code",
   "execution_count": 122,
   "id": "6155f051",
   "metadata": {},
   "outputs": [
    {
     "name": "stdout",
     "output_type": "stream",
     "text": [
      "C:\\Users\\mgupta70.ASURITE\\.fastai\\data\\mnist_png\\training\\0\\1.png\n",
      "0\n"
     ]
    }
   ],
   "source": [
    "pat = r'\\\\([^\\\\]*)\\\\\\d+.png$' # stop at 1 folder before\n",
    "print(dest)\n",
    "match = re.search(pat, str(dest))   # image path has '\\'. replace this with '/'\n",
    "print(match[1])"
   ]
  },
  {
   "cell_type": "code",
   "execution_count": null,
   "id": "6326c8c1",
   "metadata": {},
   "outputs": [],
   "source": []
  },
  {
   "cell_type": "code",
   "execution_count": null,
   "id": "dd7ca0d1",
   "metadata": {},
   "outputs": [],
   "source": []
  },
  {
   "cell_type": "code",
   "execution_count": null,
   "id": "4d98c8ac",
   "metadata": {},
   "outputs": [],
   "source": []
  },
  {
   "cell_type": "markdown",
   "id": "c239e480",
   "metadata": {},
   "source": [
    "# path_re"
   ]
  },
  {
   "cell_type": "code",
   "execution_count": 12,
   "id": "9e9d96e5",
   "metadata": {},
   "outputs": [
    {
     "name": "stdout",
     "output_type": "stream",
     "text": [
      "Extracted label: cat\n"
     ]
    }
   ],
   "source": [
    "# Basic tutorial\n",
    "import re\n",
    "\n",
    "# this we can modify. \n",
    "pat = r'/([^/]*)/\\d+.png$'\n",
    "\n",
    "# Hypothetical image filename\n",
    "filename = '/oxford/images/cat/123.png'\n",
    "\n",
    "# Using re.search() to apply the pattern and extract the label\n",
    "match = re.search(pat, filename)\n",
    "\n",
    "# Check if there's a match and extract the label if found\n",
    "if match:\n",
    "    label = match.group(1)\n",
    "    print(\"Extracted label:\", label)\n",
    "else:\n",
    "    print(\"No label extracted. The filename may not match the pattern.\")\n"
   ]
  },
  {
   "cell_type": "code",
   "execution_count": 10,
   "id": "894a0f00",
   "metadata": {},
   "outputs": [],
   "source": [
    "path = Path('C:/Users/mgupta70.ASURITE/.fastai/data/oxford-iiit-pet/images')"
   ]
  },
  {
   "cell_type": "code",
   "execution_count": 11,
   "id": "2eb69090",
   "metadata": {},
   "outputs": [
    {
     "data": {
      "text/plain": [
       "(#7390) [Path('C:/Users/mgupta70.ASURITE/.fastai/data/oxford-iiit-pet/images/Abyssinian_1.jpg'),Path('C:/Users/mgupta70.ASURITE/.fastai/data/oxford-iiit-pet/images/Abyssinian_10.jpg'),Path('C:/Users/mgupta70.ASURITE/.fastai/data/oxford-iiit-pet/images/Abyssinian_100.jpg'),Path('C:/Users/mgupta70.ASURITE/.fastai/data/oxford-iiit-pet/images/Abyssinian_101.jpg'),Path('C:/Users/mgupta70.ASURITE/.fastai/data/oxford-iiit-pet/images/Abyssinian_102.jpg'),Path('C:/Users/mgupta70.ASURITE/.fastai/data/oxford-iiit-pet/images/Abyssinian_103.jpg'),Path('C:/Users/mgupta70.ASURITE/.fastai/data/oxford-iiit-pet/images/Abyssinian_104.jpg'),Path('C:/Users/mgupta70.ASURITE/.fastai/data/oxford-iiit-pet/images/Abyssinian_105.jpg'),Path('C:/Users/mgupta70.ASURITE/.fastai/data/oxford-iiit-pet/images/Abyssinian_106.jpg'),Path('C:/Users/mgupta70.ASURITE/.fastai/data/oxford-iiit-pet/images/Abyssinian_107.jpg')...]"
      ]
     },
     "execution_count": 11,
     "metadata": {},
     "output_type": "execute_result"
    }
   ],
   "source": [
    "get_image_files(path)"
   ]
  },
  {
   "cell_type": "code",
   "execution_count": 103,
   "id": "84e5420c",
   "metadata": {},
   "outputs": [
    {
     "name": "stdout",
     "output_type": "stream",
     "text": [
      "C:\\Users\\mgupta70.ASURITE\\.fastai\\data\\oxford-iiit-pet\\images\\Abyssinian_1.jpg\n",
      "Abyssinian\n"
     ]
    }
   ],
   "source": [
    "pat = r'\\\\([^\\\\]*)_\\d+.jpg$'\n",
    "\n",
    "filename = get_image_files(path)[0]; print(filename)\n",
    "match = re.search(pat, str(filename))   # image path has '\\'. replace this with '/'\n",
    "print(match[1])\n"
   ]
  },
  {
   "cell_type": "code",
   "execution_count": null,
   "id": "1af2248e",
   "metadata": {},
   "outputs": [],
   "source": []
  },
  {
   "cell_type": "code",
   "execution_count": null,
   "id": "78113e76",
   "metadata": {},
   "outputs": [],
   "source": []
  },
  {
   "cell_type": "code",
   "execution_count": null,
   "id": "4c12e864",
   "metadata": {},
   "outputs": [],
   "source": []
  },
  {
   "cell_type": "code",
   "execution_count": null,
   "id": "6849f5ea",
   "metadata": {},
   "outputs": [],
   "source": []
  },
  {
   "cell_type": "code",
   "execution_count": null,
   "id": "fc4c0521",
   "metadata": {},
   "outputs": [],
   "source": []
  },
  {
   "cell_type": "code",
   "execution_count": 89,
   "id": "37b81bb8",
   "metadata": {},
   "outputs": [
    {
     "name": "stdout",
     "output_type": "stream",
     "text": [
      "Abyssinian\n"
     ]
    }
   ],
   "source": [
    "pat = r'\\\\([^\\\\]*)_\\d+.jpg$'\n",
    "filename = \"C:\\\\Users\\\\mgupta70.ASURITE\\\\.fastai\\\\data\\\\oxford-iiit-pet\\\\images\\\\Abyssinian_1.jpg\"\n",
    "match = re.search(pat, filename)\n",
    "print(match[1])\n"
   ]
  },
  {
   "cell_type": "code",
   "execution_count": null,
   "id": "c719aee3",
   "metadata": {},
   "outputs": [],
   "source": []
  },
  {
   "cell_type": "code",
   "execution_count": 99,
   "id": "3f4c3ac5",
   "metadata": {},
   "outputs": [
    {
     "name": "stdout",
     "output_type": "stream",
     "text": [
      "C:\\Users\\mgupta70.ASURITE\\.fastai\\data\\oxford-iiit-pet\\images\\Abyssinian_1.jpg\n",
      "Abyssinian\n"
     ]
    }
   ],
   "source": [
    "# Let's develop our pat function\n",
    "# we want to do 37 classes classification\n",
    "\n",
    "# pattern\n",
    "pat = r'/([^/]*)_\\d+.jpg$'\n",
    "\n",
    "## sample example-1\n",
    "# filename = '/oxford/images/cat_123.jpg'\n",
    "# match = re.search(pat, filename)\n",
    "# print(match[1])\n",
    "\n",
    "# sample example-2\n",
    "filename = get_image_files(path)[0]; print(filename)\n",
    "match = re.search(pat, str(filename).replace('\\\\','/'))   # image path has '\\'. replace this with '/'\n",
    "print(match[1])"
   ]
  },
  {
   "cell_type": "code",
   "execution_count": null,
   "id": "d826459f",
   "metadata": {},
   "outputs": [],
   "source": []
  }
 ],
 "metadata": {
  "kernelspec": {
   "display_name": "Python 3 (ipykernel)",
   "language": "python",
   "name": "python3"
  },
  "language_info": {
   "codemirror_mode": {
    "name": "ipython",
    "version": 3
   },
   "file_extension": ".py",
   "mimetype": "text/x-python",
   "name": "python",
   "nbconvert_exporter": "python",
   "pygments_lexer": "ipython3",
   "version": "3.10.9"
  }
 },
 "nbformat": 4,
 "nbformat_minor": 5
}
